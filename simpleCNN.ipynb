{
  "nbformat": 4,
  "nbformat_minor": 0,
  "metadata": {
    "accelerator": "GPU",
    "colab": {
      "name": "simpleCNN.ipynb",
      "provenance": [],
      "collapsed_sections": [],
      "include_colab_link": true
    },
    "interpreter": {
      "hash": "652067eec5de986345d2a6410d7e1666adff1463be4220feb6214403227df83a"
    },
    "kernelspec": {
      "display_name": "Python 3.8.2 64-bit",
      "language": "python",
      "name": "python3"
    },
    "language_info": {
      "codemirror_mode": {
        "name": "ipython",
        "version": 3
      },
      "file_extension": ".py",
      "mimetype": "text/x-python",
      "name": "python",
      "nbconvert_exporter": "python",
      "pygments_lexer": "ipython3",
      "version": "3.8.2"
    }
  },
  "cells": [
    {
      "cell_type": "markdown",
      "metadata": {
        "id": "view-in-github",
        "colab_type": "text"
      },
      "source": [
        "<a href=\"https://colab.research.google.com/github/amFarrouk/OCR_prj/blob/main/simpleCNN.ipynb\" target=\"_parent\"><img src=\"https://colab.research.google.com/assets/colab-badge.svg\" alt=\"Open In Colab\"/></a>"
      ]
    },
    {
      "cell_type": "code",
      "metadata": {
        "id": "nSohdxGbaaTI"
      },
      "source": [
        "import cv2\n",
        "import pandas as pd\n",
        "import os\n",
        "import matplotlib.pyplot as plt\n",
        "import zipfile"
      ],
      "execution_count": 1,
      "outputs": []
    },
    {
      "cell_type": "code",
      "metadata": {
        "colab": {
          "base_uri": "https://localhost:8080/"
        },
        "id": "TjPvAvqIt2ad",
        "outputId": "e8ebb889-4b8e-4475-844f-dfc5b889d271"
      },
      "source": [
        "!wget https://raw.githubusercontent.com/amFarrouk/OCR_prj/main/bdh.zip\n",
        "!unzip -qq ./bdh.zip \n",
        "!rm ./bdh.zip"
      ],
      "execution_count": 2,
      "outputs": [
        {
          "output_type": "stream",
          "name": "stdout",
          "text": [
            "--2021-12-10 00:59:51--  https://raw.githubusercontent.com/amFarrouk/OCR_prj/main/bdh.zip\n",
            "Resolving raw.githubusercontent.com (raw.githubusercontent.com)... 185.199.110.133, 185.199.111.133, 185.199.108.133, ...\n",
            "Connecting to raw.githubusercontent.com (raw.githubusercontent.com)|185.199.110.133|:443... connected.\n",
            "HTTP request sent, awaiting response... 200 OK\n",
            "Length: 7536168 (7.2M) [application/zip]\n",
            "Saving to: ‘bdh.zip’\n",
            "\n",
            "bdh.zip             100%[===================>]   7.19M  35.8MB/s    in 0.2s    \n",
            "\n",
            "2021-12-10 00:59:53 (35.8 MB/s) - ‘bdh.zip’ saved [7536168/7536168]\n",
            "\n"
          ]
        }
      ]
    },
    {
      "cell_type": "code",
      "metadata": {
        "colab": {
          "base_uri": "https://localhost:8080/"
        },
        "id": "X1y7XaIfQH3f",
        "outputId": "925fa707-22da-4dc8-f721-dadf33c59be6"
      },
      "source": [
        "!wget https://www.dropbox.com/s/qpagi0h1089kr2f/images_df.csv"
      ],
      "execution_count": 3,
      "outputs": [
        {
          "output_type": "stream",
          "name": "stdout",
          "text": [
            "--2021-12-10 00:59:54--  https://www.dropbox.com/s/qpagi0h1089kr2f/images_df.csv\n",
            "Resolving www.dropbox.com (www.dropbox.com)... 162.125.81.18, 2620:100:6035:18::a27d:5512\n",
            "Connecting to www.dropbox.com (www.dropbox.com)|162.125.81.18|:443... connected.\n",
            "HTTP request sent, awaiting response... 301 Moved Permanently\n",
            "Location: /s/raw/qpagi0h1089kr2f/images_df.csv [following]\n",
            "--2021-12-10 00:59:54--  https://www.dropbox.com/s/raw/qpagi0h1089kr2f/images_df.csv\n",
            "Reusing existing connection to www.dropbox.com:443.\n",
            "HTTP request sent, awaiting response... 302 Found\n",
            "Location: https://uc0127eebedc1c204f434a0ac2f4.dl.dropboxusercontent.com/cd/0/inline/BbjRih3RlUQwoIafU8oaHB1fS8PiD-FLKNF6Vz5Ze_U-dEETelNIES6x_b47XGKYJXM-mRDl4rGM2cmvi1jJrbjDj7wzwATMiC8V-F4tepLj3057ONN1M-aYJ7gRsBatUtWDx0NMN0Yi8yJqTMwkLkhk/file# [following]\n",
            "--2021-12-10 00:59:55--  https://uc0127eebedc1c204f434a0ac2f4.dl.dropboxusercontent.com/cd/0/inline/BbjRih3RlUQwoIafU8oaHB1fS8PiD-FLKNF6Vz5Ze_U-dEETelNIES6x_b47XGKYJXM-mRDl4rGM2cmvi1jJrbjDj7wzwATMiC8V-F4tepLj3057ONN1M-aYJ7gRsBatUtWDx0NMN0Yi8yJqTMwkLkhk/file\n",
            "Resolving uc0127eebedc1c204f434a0ac2f4.dl.dropboxusercontent.com (uc0127eebedc1c204f434a0ac2f4.dl.dropboxusercontent.com)... 162.125.80.15, 2620:100:6035:15::a27d:550f\n",
            "Connecting to uc0127eebedc1c204f434a0ac2f4.dl.dropboxusercontent.com (uc0127eebedc1c204f434a0ac2f4.dl.dropboxusercontent.com)|162.125.80.15|:443... connected.\n",
            "HTTP request sent, awaiting response... 200 OK\n",
            "Length: 125438 (122K) [text/plain]\n",
            "Saving to: ‘images_df.csv’\n",
            "\n",
            "images_df.csv       100%[===================>] 122.50K   599KB/s    in 0.2s    \n",
            "\n",
            "2021-12-10 00:59:55 (599 KB/s) - ‘images_df.csv’ saved [125438/125438]\n",
            "\n"
          ]
        }
      ]
    },
    {
      "cell_type": "code",
      "metadata": {
        "colab": {
          "base_uri": "https://localhost:8080/",
          "height": 206
        },
        "id": "zQQ_xXdvSWPv",
        "outputId": "3ed5e13f-8f7c-4db4-f5ba-0762c8a7e46d"
      },
      "source": [
        "images_df=pd.read_csv(\"./images_df.csv\",header=None,names=[\"img\",\"label\"])\n",
        "images_df[\"label\"]=images_df[\"label\"].apply(lambda x : str(x))\n",
        "images_df.head()"
      ],
      "execution_count": 4,
      "outputs": [
        {
          "output_type": "execute_result",
          "data": {
            "text/html": [
              "<div>\n",
              "<style scoped>\n",
              "    .dataframe tbody tr th:only-of-type {\n",
              "        vertical-align: middle;\n",
              "    }\n",
              "\n",
              "    .dataframe tbody tr th {\n",
              "        vertical-align: top;\n",
              "    }\n",
              "\n",
              "    .dataframe thead th {\n",
              "        text-align: right;\n",
              "    }\n",
              "</style>\n",
              "<table border=\"1\" class=\"dataframe\">\n",
              "  <thead>\n",
              "    <tr style=\"text-align: right;\">\n",
              "      <th></th>\n",
              "      <th>img</th>\n",
              "      <th>label</th>\n",
              "    </tr>\n",
              "  </thead>\n",
              "  <tbody>\n",
              "    <tr>\n",
              "      <th>0</th>\n",
              "      <td>ae07_005.bmp</td>\n",
              "      <td>18</td>\n",
              "    </tr>\n",
              "    <tr>\n",
              "      <th>1</th>\n",
              "      <td>ae07_011.bmp</td>\n",
              "      <td>17</td>\n",
              "    </tr>\n",
              "    <tr>\n",
              "      <th>2</th>\n",
              "      <td>ae07_014.bmp</td>\n",
              "      <td>20</td>\n",
              "    </tr>\n",
              "    <tr>\n",
              "      <th>3</th>\n",
              "      <td>ae07_015.bmp</td>\n",
              "      <td>18</td>\n",
              "    </tr>\n",
              "    <tr>\n",
              "      <th>4</th>\n",
              "      <td>ae07_022.bmp</td>\n",
              "      <td>12</td>\n",
              "    </tr>\n",
              "  </tbody>\n",
              "</table>\n",
              "</div>"
            ],
            "text/plain": [
              "            img label\n",
              "0  ae07_005.bmp    18\n",
              "1  ae07_011.bmp    17\n",
              "2  ae07_014.bmp    20\n",
              "3  ae07_015.bmp    18\n",
              "4  ae07_022.bmp    12"
            ]
          },
          "metadata": {},
          "execution_count": 4
        }
      ]
    },
    {
      "cell_type": "code",
      "metadata": {
        "id": "B5AmEhiCaaTT"
      },
      "source": [
        "labels=images_df['label']\n",
        "labels=labels.to_numpy()"
      ],
      "execution_count": 5,
      "outputs": []
    },
    {
      "cell_type": "code",
      "metadata": {
        "colab": {
          "base_uri": "https://localhost:8080/",
          "height": 338
        },
        "id": "J48PNIZpaaTU",
        "outputId": "91000ef9-16f3-4db1-b5bd-a92fdcb1a145"
      },
      "source": [
        "plt.figure(figsize=(5,5))\n",
        "plt.xlim()\n",
        "plt.xlabel(\"labels\")\n",
        "plt.ylabel(\"num_words_in_labs\")\n",
        "plt.hist(labels,bins=22)\n",
        "plt.show()"
      ],
      "execution_count": 6,
      "outputs": [
        {
          "output_type": "display_data",
          "data": {
            "image/png": "[encoded data removed]",
            "text/plain": [
              "<Figure size 360x360 with 1 Axes>"
            ]
          },
          "metadata": {
            "needs_background": "light"
          }
        }
      ]
    },
    {
      "cell_type": "code",
      "metadata": {
        "id": "KXNsE23raaTV"
      },
      "source": [
        "img1=cv2.imread(\"./bdh/ae07_005.bmp\",cv2.IMREAD_GRAYSCALE)\n",
        "img2=cv2.imread(\"./bdh/ae07_031.bmp\",cv2.IMREAD_GRAYSCALE)\n",
        "img3=cv2.imread(\"./bdh/ae09_017.bmp\",cv2.IMREAD_GRAYSCALE)\n",
        "img4=cv2.imread(\"./bdh/ai64_020.bmp\",cv2.IMREAD_GRAYSCALE)"
      ],
      "execution_count": 7,
      "outputs": []
    },
    {
      "cell_type": "code",
      "source": [
        "_, axarr = plt.subplots(2,2)\n",
        "\n",
        "axarr[0,0].imshow(img1)\n",
        "axarr[0,0].set_xlabel(\"ae07_005.bmp\")\n",
        "axarr[0,1].imshow(img2)\n",
        "axarr[0,1].set_xlabel(\"ae07_031.bmp\")\n",
        "axarr[1,0].imshow(img3)\n",
        "axarr[1,0].set_xlabel(\"ae09_017.bmp\")\n",
        "axarr[1,1].imshow(img4)\n",
        "axarr[1,1].set_xlabel(\"ai64_020.bmp\")"
      ],
      "metadata": {
        "colab": {
          "base_uri": "https://localhost:8080/",
          "height": 243
        },
        "id": "qPKpsFf8bWNT",
        "outputId": "aa4f1ea4-13ad-4c2d-902b-642326852a5b"
      },
      "execution_count": 8,
      "outputs": [
        {
          "output_type": "execute_result",
          "data": {
            "text/plain": [
              "Text(0.5, 0, 'ai64_020.bmp')"
            ]
          },
          "metadata": {},
          "execution_count": 8
        },
        {
          "output_type": "display_data",
          "data": {
            "image/png": "[encoded data removed]",
            "text/plain": [
              "<Figure size 432x288 with 4 Axes>"
            ]
          },
          "metadata": {
            "needs_background": "light"
          }
        }
      ]
    },
    {
      "cell_type": "code",
      "metadata": {
        "id": "KIx-JyKpaaTV"
      },
      "source": [
        "imgresize1 = cv2.resize(img1, (760, 120)) \n",
        "imgresize2 = cv2.resize(img2, (760, 120)) \n",
        "imgresize3 = cv2.resize(img3, (760, 120)) \n",
        "imgresize4 = cv2.resize(img4, (760, 120)) "
      ],
      "execution_count": 9,
      "outputs": []
    },
    {
      "cell_type": "code",
      "metadata": {
        "colab": {
          "base_uri": "https://localhost:8080/",
          "height": 226
        },
        "id": "f-ICyXKbaaTW",
        "outputId": "50db99a0-d05c-4577-ec77-a4936d9a3b8f"
      },
      "source": [
        "_, axarr = plt.subplots(2,2)\n",
        "axarr[0,0].imshow(imgresize1)\n",
        "axarr[0,0].set_xlabel(\"ae07_005.bmp\")\n",
        "axarr[0,1].imshow(imgresize2)\n",
        "axarr[0,1].set_xlabel(\"ae07_031.bmp\")\n",
        "axarr[1,0].imshow(imgresize3)\n",
        "axarr[1,0].set_xlabel(\"ae09_017.bmp\")\n",
        "axarr[1,1].imshow(imgresize4)\n",
        "axarr[1,1].set_xlabel(\"ai64_020.bmp\")"
      ],
      "execution_count": 10,
      "outputs": [
        {
          "output_type": "execute_result",
          "data": {
            "text/plain": [
              "Text(0.5, 0, 'ai64_020.bmp')"
            ]
          },
          "metadata": {},
          "execution_count": 10
        },
        {
          "output_type": "display_data",
          "data": {
            "image/png": "[encoded data removed]",
            "text/plain": [
              "<Figure size 432x288 with 4 Axes>"
            ]
          },
          "metadata": {
            "needs_background": "light"
          }
        }
      ]
    },
    {
      "cell_type": "code",
      "metadata": {
        "id": "JW5bEQO5aaTb"
      },
      "source": [
        "from sklearn.model_selection import train_test_split"
      ],
      "execution_count": 11,
      "outputs": []
    },
    {
      "cell_type": "code",
      "metadata": {
        "colab": {
          "base_uri": "https://localhost:8080/",
          "height": 224
        },
        "id": "7KgmfKvEaaTc",
        "outputId": "635a8519-c4f2-42e3-b7b2-c5df21534f3a"
      },
      "source": [
        "all_x,all_y=images_df[\"img\"],images_df[\"label\"]\n",
        "\n",
        "xtrain,xtest,ytrain,ytest=train_test_split(all_x,all_y,train_size=0.8,random_state=1,shuffle=True)\n",
        "\n",
        "train_df=pd.DataFrame(xtrain,columns=[\"img\"])\n",
        "train_df[\"label\"]=ytrain\n",
        "\n",
        "print(\"train_data:\")\n",
        "train_df.head()"
      ],
      "execution_count": 12,
      "outputs": [
        {
          "output_type": "stream",
          "name": "stdout",
          "text": [
            "train_data:\n"
          ]
        },
        {
          "output_type": "execute_result",
          "data": {
            "text/html": [
              "<div>\n",
              "<style scoped>\n",
              "    .dataframe tbody tr th:only-of-type {\n",
              "        vertical-align: middle;\n",
              "    }\n",
              "\n",
              "    .dataframe tbody tr th {\n",
              "        vertical-align: top;\n",
              "    }\n",
              "\n",
              "    .dataframe thead th {\n",
              "        text-align: right;\n",
              "    }\n",
              "</style>\n",
              "<table border=\"1\" class=\"dataframe\">\n",
              "  <thead>\n",
              "    <tr style=\"text-align: right;\">\n",
              "      <th></th>\n",
              "      <th>img</th>\n",
              "      <th>label</th>\n",
              "    </tr>\n",
              "  </thead>\n",
              "  <tbody>\n",
              "    <tr>\n",
              "      <th>5764</th>\n",
              "      <td>de12_032.bmp</td>\n",
              "      <td>16</td>\n",
              "    </tr>\n",
              "    <tr>\n",
              "      <th>7223</th>\n",
              "      <td>dm34_024.bmp</td>\n",
              "      <td>16</td>\n",
              "    </tr>\n",
              "    <tr>\n",
              "      <th>5124</th>\n",
              "      <td>cj14_066.bmp</td>\n",
              "      <td>13</td>\n",
              "    </tr>\n",
              "    <tr>\n",
              "      <th>5621</th>\n",
              "      <td>cq65_006.bmp</td>\n",
              "      <td>8</td>\n",
              "    </tr>\n",
              "    <tr>\n",
              "      <th>2624</th>\n",
              "      <td>bi06_006.bmp</td>\n",
              "      <td>16</td>\n",
              "    </tr>\n",
              "  </tbody>\n",
              "</table>\n",
              "</div>"
            ],
            "text/plain": [
              "               img label\n",
              "5764  de12_032.bmp    16\n",
              "7223  dm34_024.bmp    16\n",
              "5124  cj14_066.bmp    13\n",
              "5621  cq65_006.bmp     8\n",
              "2624  bi06_006.bmp    16"
            ]
          },
          "metadata": {},
          "execution_count": 12
        }
      ]
    },
    {
      "cell_type": "code",
      "metadata": {
        "colab": {
          "base_uri": "https://localhost:8080/",
          "height": 224
        },
        "id": "HzcTTXqGaaTc",
        "outputId": "3ddfadc0-35ab-4fb2-951b-337d4f22863e"
      },
      "source": [
        "test_df=pd.DataFrame(xtest,columns=[\"img\"])\n",
        "test_df[\"label\"]=ytest\n",
        "\n",
        "print(\"test_data:\")\n",
        "test_df.head()"
      ],
      "execution_count": 13,
      "outputs": [
        {
          "output_type": "stream",
          "name": "stdout",
          "text": [
            "test_data:\n"
          ]
        },
        {
          "output_type": "execute_result",
          "data": {
            "text/html": [
              "<div>\n",
              "<style scoped>\n",
              "    .dataframe tbody tr th:only-of-type {\n",
              "        vertical-align: middle;\n",
              "    }\n",
              "\n",
              "    .dataframe tbody tr th {\n",
              "        vertical-align: top;\n",
              "    }\n",
              "\n",
              "    .dataframe thead th {\n",
              "        text-align: right;\n",
              "    }\n",
              "</style>\n",
              "<table border=\"1\" class=\"dataframe\">\n",
              "  <thead>\n",
              "    <tr style=\"text-align: right;\">\n",
              "      <th></th>\n",
              "      <th>img</th>\n",
              "      <th>label</th>\n",
              "    </tr>\n",
              "  </thead>\n",
              "  <tbody>\n",
              "    <tr>\n",
              "      <th>3069</th>\n",
              "      <td>bj01_033.bmp</td>\n",
              "      <td>3</td>\n",
              "    </tr>\n",
              "    <tr>\n",
              "      <th>642</th>\n",
              "      <td>af62_017.bmp</td>\n",
              "      <td>22</td>\n",
              "    </tr>\n",
              "    <tr>\n",
              "      <th>7266</th>\n",
              "      <td>dq06_018.bmp</td>\n",
              "      <td>8</td>\n",
              "    </tr>\n",
              "    <tr>\n",
              "      <th>5765</th>\n",
              "      <td>de12_034.bmp</td>\n",
              "      <td>16</td>\n",
              "    </tr>\n",
              "    <tr>\n",
              "      <th>2229</th>\n",
              "      <td>be92_023.bmp</td>\n",
              "      <td>13</td>\n",
              "    </tr>\n",
              "  </tbody>\n",
              "</table>\n",
              "</div>"
            ],
            "text/plain": [
              "               img label\n",
              "3069  bj01_033.bmp     3\n",
              "642   af62_017.bmp    22\n",
              "7266  dq06_018.bmp     8\n",
              "5765  de12_034.bmp    16\n",
              "2229  be92_023.bmp    13"
            ]
          },
          "metadata": {},
          "execution_count": 13
        }
      ]
    },
    {
      "cell_type": "code",
      "metadata": {
        "id": "zhoeMwk5aaTd"
      },
      "source": [
        "from tensorflow.keras.preprocessing.image import ImageDataGenerator"
      ],
      "execution_count": 14,
      "outputs": []
    },
    {
      "cell_type": "code",
      "metadata": {
        "id": "zIhTyw6HaaTd"
      },
      "source": [
        "train_image_gen=ImageDataGenerator(rescale=1.0/255)\n",
        "test_image_gen=ImageDataGenerator(rescale=1.0/255)"
      ],
      "execution_count": 15,
      "outputs": []
    },
    {
      "cell_type": "code",
      "metadata": {
        "colab": {
          "base_uri": "https://localhost:8080/"
        },
        "id": "ajLdcxGgaaTe",
        "outputId": "831fec15-4687-4227-b9df-398d7c869c0b"
      },
      "source": [
        "train_image_gen=train_image_gen.flow_from_dataframe(train_df,x_col=\"img\",y_col=\"label\",\n",
        "                                            directory=\"./bdh\",\n",
        "                                            batch_size=32,\n",
        "                                            target_size=(imgresize1.shape[0],imgresize1.shape[1]),\n",
        "                                            color_mode='grayscale',\n",
        "                                            class_mode='categorical')"
      ],
      "execution_count": 16,
      "outputs": [
        {
          "output_type": "stream",
          "name": "stdout",
          "text": [
            "Found 6048 validated image filenames belonging to 22 classes.\n"
          ]
        }
      ]
    },
    {
      "cell_type": "code",
      "metadata": {
        "colab": {
          "base_uri": "https://localhost:8080/"
        },
        "id": "9l75gGK2aaTf",
        "outputId": "f5c71407-fa5a-4696-ffc6-414da2965d74"
      },
      "source": [
        "test_image_gen=test_image_gen.flow_from_dataframe(test_df,x_col=\"img\",y_col=\"label\",\n",
        "                                            directory=\"./bdh\",\n",
        "                                            batch_size=32,\n",
        "                                            target_size=(imgresize1.shape[0],imgresize1.shape[1]),\n",
        "                                            color_mode='grayscale',\n",
        "                                            class_mode='categorical')"
      ],
      "execution_count": 17,
      "outputs": [
        {
          "output_type": "stream",
          "name": "stdout",
          "text": [
            "Found 1512 validated image filenames belonging to 22 classes.\n"
          ]
        }
      ]
    },
    {
      "cell_type": "code",
      "metadata": {
        "id": "NCfVKSaUaaTf"
      },
      "source": [
        "import tensorflow as tf"
      ],
      "execution_count": 18,
      "outputs": []
    },
    {
      "cell_type": "code",
      "metadata": {
        "id": "M4CuMufWaaTg"
      },
      "source": [
        "model = tf.keras.models.Sequential([\n",
        "    # Note the input shape is the desired size of the image 760x120 with 1 bytes color\n",
        "    # This is the first convolution\n",
        "    tf.keras.layers.Conv2D(32, (3,3), activation='relu', input_shape=(760, 120, 1)),\n",
        "    tf.keras.layers.MaxPooling2D(2, 2),\n",
        "    # The third convolution\n",
        "    tf.keras.layers.Conv2D(64, (3,3), activation='relu'),\n",
        "    tf.keras.layers.MaxPooling2D(2,2),\n",
        "    # The fourth convolution\n",
        "    tf.keras.layers.Conv2D(64, (3,3), activation='relu'),\n",
        "    tf.keras.layers.MaxPooling2D(2,2),\n",
        "    # The fifth convolution\n",
        "    tf.keras.layers.Conv2D(32, (3,3), activation='relu'),\n",
        "    tf.keras.layers.MaxPooling2D(2,2),\n",
        "    # Flatten the results to feed into a DNN\n",
        "    tf.keras.layers.Flatten(),\n",
        "    # 128 neuron hidden layer\n",
        "    tf.keras.layers.Dense(128, activation='relu'),\n",
        "    # Only 22 output neuron.\n",
        "    tf.keras.layers.Dense(22, activation='softmax')\n",
        "])"
      ],
      "execution_count": 19,
      "outputs": []
    },
    {
      "cell_type": "code",
      "metadata": {
        "id": "5DEMFMntaaTg"
      },
      "source": [
        "loss=tf.keras.losses.categorical_crossentropy\n",
        "optim=tf.keras.optimizers.Adam()\n",
        "myCallBack=tf.keras.callbacks.EarlyStopping(monitor=\"val_accuracy\",patience=4)\n",
        "\n",
        "model.compile(optimizer=optim, loss=loss, metrics=['accuracy'])"
      ],
      "execution_count": 20,
      "outputs": []
    },
    {
      "cell_type": "code",
      "metadata": {
        "colab": {
          "base_uri": "https://localhost:8080/"
        },
        "id": "xaBMgB-BCiGE",
        "outputId": "69788f7d-d0b4-4047-8d30-0e8b92f7e0c3"
      },
      "source": [
        "_=tf.keras.utils.plot_model(\n",
        "    model, to_file='./simpleCNN1.png', show_shapes=True, show_layer_names=False,\n",
        ")\n",
        "model.summary()"
      ],
      "execution_count": 21,
      "outputs": [
        {
          "output_type": "stream",
          "name": "stdout",
          "text": [
            "Model: \"sequential\"\n",
            "_________________________________________________________________\n",
            " Layer (type)                Output Shape              Param #   \n",
            "=================================================================\n",
            " conv2d (Conv2D)             (None, 758, 118, 32)      320       \n",
            "                                                                 \n",
            " max_pooling2d (MaxPooling2D  (None, 379, 59, 32)      0         \n",
            " )                                                               \n",
            "                                                                 \n",
            " conv2d_1 (Conv2D)           (None, 377, 57, 64)       18496     \n",
            "                                                                 \n",
            " max_pooling2d_1 (MaxPooling  (None, 188, 28, 64)      0         \n",
            " 2D)                                                             \n",
            "                                                                 \n",
            " conv2d_2 (Conv2D)           (None, 186, 26, 64)       36928     \n",
            "                                                                 \n",
            " max_pooling2d_2 (MaxPooling  (None, 93, 13, 64)       0         \n",
            " 2D)                                                             \n",
            "                                                                 \n",
            " conv2d_3 (Conv2D)           (None, 91, 11, 32)        18464     \n",
            "                                                                 \n",
            " max_pooling2d_3 (MaxPooling  (None, 45, 5, 32)        0         \n",
            " 2D)                                                             \n",
            "                                                                 \n",
            " flatten (Flatten)           (None, 7200)              0         \n",
            "                                                                 \n",
            " dense (Dense)               (None, 128)               921728    \n",
            "                                                                 \n",
            " dense_1 (Dense)             (None, 22)                2838      \n",
            "                                                                 \n",
            "=================================================================\n",
            "Total params: 998,774\n",
            "Trainable params: 998,774\n",
            "Non-trainable params: 0\n",
            "_________________________________________________________________\n"
          ]
        }
      ]
    },
    {
      "cell_type": "code",
      "metadata": {
        "colab": {
          "base_uri": "https://localhost:8080/"
        },
        "id": "zuRqSD63aaTh",
        "outputId": "1f1dfeba-6c2f-421a-f90d-9f9a123d4659"
      },
      "source": [
        "history=model.fit(train_image_gen,epochs=100,steps_per_epoch=189,validation_data=test_image_gen,callbacks=[myCallBack])"
      ],
      "execution_count": 22,
      "outputs": [
        {
          "output_type": "stream",
          "name": "stdout",
          "text": [
            "Epoch 1/100\n",
            "189/189 [==============================] - 44s 165ms/step - loss: 0.6559 - accuracy: 0.8072 - val_loss: 0.2157 - val_accuracy: 0.9259\n",
            "Epoch 2/100\n",
            "189/189 [==============================] - 31s 162ms/step - loss: 0.0932 - accuracy: 0.9688 - val_loss: 0.2156 - val_accuracy: 0.9312\n",
            "Epoch 3/100\n",
            "189/189 [==============================] - 30s 161ms/step - loss: 0.0298 - accuracy: 0.9889 - val_loss: 0.2187 - val_accuracy: 0.9365\n",
            "Epoch 4/100\n",
            "189/189 [==============================] - 30s 161ms/step - loss: 0.0353 - accuracy: 0.9886 - val_loss: 0.1531 - val_accuracy: 0.9544\n",
            "Epoch 5/100\n",
            "189/189 [==============================] - 30s 161ms/step - loss: 0.0202 - accuracy: 0.9931 - val_loss: 0.1833 - val_accuracy: 0.9511\n",
            "Epoch 6/100\n",
            "189/189 [==============================] - 30s 161ms/step - loss: 0.0131 - accuracy: 0.9959 - val_loss: 0.1960 - val_accuracy: 0.9425\n",
            "Epoch 7/100\n",
            "189/189 [==============================] - 30s 161ms/step - loss: 0.0224 - accuracy: 0.9926 - val_loss: 0.1987 - val_accuracy: 0.9537\n",
            "Epoch 8/100\n",
            "189/189 [==============================] - 30s 161ms/step - loss: 0.0099 - accuracy: 0.9960 - val_loss: 0.1511 - val_accuracy: 0.9630\n",
            "Epoch 9/100\n",
            "189/189 [==============================] - 30s 161ms/step - loss: 0.0069 - accuracy: 0.9979 - val_loss: 0.2129 - val_accuracy: 0.9517\n",
            "Epoch 10/100\n",
            "189/189 [==============================] - 30s 161ms/step - loss: 0.0089 - accuracy: 0.9965 - val_loss: 0.1954 - val_accuracy: 0.9577\n",
            "Epoch 11/100\n",
            "189/189 [==============================] - 30s 161ms/step - loss: 0.0193 - accuracy: 0.9937 - val_loss: 0.1717 - val_accuracy: 0.9544\n",
            "Epoch 12/100\n",
            "189/189 [==============================] - 30s 160ms/step - loss: 0.0117 - accuracy: 0.9982 - val_loss: 0.1323 - val_accuracy: 0.9616\n"
          ]
        }
      ]
    },
    {
      "cell_type": "code",
      "metadata": {
        "id": "wSvl_wlCgGm1"
      },
      "source": [
        "#-----------------------------------------------------------------------\n",
        "# Retrieve a list of list results on training and test data of 1st model\n",
        "# sets for each training epoch\n",
        "#-----------------------------------------------------------------------\n",
        "acc_hist=history.history['accuracy']\n",
        "val_acc_hist=history.history['val_accuracy']\n",
        "loss_hist=history.history['loss']\n",
        "val_loss_hist=history.history['val_loss']\n",
        "\n",
        "epochs=range(len(acc_hist)) # Get number of epochs"
      ],
      "execution_count": 39,
      "outputs": []
    },
    {
      "cell_type": "code",
      "metadata": {
        "id": "jw4-pkikgBXy"
      },
      "source": [
        "model2 = tf.keras.models.Sequential([\n",
        "    # Note the input shape is the desired size of the image 300x300 with 3 bytes color\n",
        "    # This is the first convolution\n",
        "    tf.keras.layers.Conv2D(64, (3,3), activation='relu', input_shape=(760, 120, 1)),\n",
        "    tf.keras.layers.MaxPooling2D(2, 2),\n",
        "    # The third convolution\n",
        "    tf.keras.layers.Conv2D(128, (3,3), activation='relu'),\n",
        "    tf.keras.layers.MaxPooling2D(2,2),\n",
        "    # The fourth convolution\n",
        "    tf.keras.layers.Conv2D(128, (3,3), activation='relu'),\n",
        "    tf.keras.layers.MaxPooling2D(2,2),\n",
        "    # The fifth convolution\n",
        "    tf.keras.layers.Conv2D(64, (3,3), activation='relu'),\n",
        "    tf.keras.layers.MaxPooling2D(2,2),\n",
        "    # Flatten the results to feed into a DNN\n",
        "    tf.keras.layers.Flatten(),\n",
        "    # 512 neuron hidden layer\n",
        "    tf.keras.layers.Dense(256, activation='relu'),\n",
        "    # Only 22 output neuron.\n",
        "    tf.keras.layers.Dense(22, activation='softmax')\n",
        "])"
      ],
      "execution_count": 24,
      "outputs": []
    },
    {
      "cell_type": "code",
      "metadata": {
        "id": "dVLY4qfjgEaX"
      },
      "source": [
        "loss=tf.keras.losses.categorical_crossentropy\n",
        "optim=tf.keras.optimizers.Adam()\n",
        "myCallBack=tf.keras.callbacks.EarlyStopping(monitor=\"val_accuracy\",patience=4)\n",
        "\n",
        "model2.compile(optimizer=optim, loss=loss, metrics=['accuracy'])"
      ],
      "execution_count": 25,
      "outputs": []
    },
    {
      "cell_type": "code",
      "metadata": {
        "colab": {
          "base_uri": "https://localhost:8080/"
        },
        "id": "CnR287g0gHiY",
        "outputId": "306ca84f-63c7-40e6-c7e5-a5fd93ba355d"
      },
      "source": [
        "history2=model2.fit(train_image_gen,epochs=100,steps_per_epoch=189,validation_data=test_image_gen,callbacks=[myCallBack])"
      ],
      "execution_count": 26,
      "outputs": [
        {
          "output_type": "stream",
          "name": "stdout",
          "text": [
            "Epoch 1/100\n",
            "189/189 [==============================] - 68s 340ms/step - loss: 0.5830 - accuracy: 0.8271 - val_loss: 0.1453 - val_accuracy: 0.9497\n",
            "Epoch 2/100\n",
            "189/189 [==============================] - 63s 334ms/step - loss: 0.0817 - accuracy: 0.9727 - val_loss: 0.1277 - val_accuracy: 0.9616\n",
            "Epoch 3/100\n",
            "189/189 [==============================] - 63s 335ms/step - loss: 0.0288 - accuracy: 0.9894 - val_loss: 0.1635 - val_accuracy: 0.9544\n",
            "Epoch 4/100\n",
            "189/189 [==============================] - 63s 335ms/step - loss: 0.0244 - accuracy: 0.9919 - val_loss: 0.1811 - val_accuracy: 0.9405\n",
            "Epoch 5/100\n",
            "189/189 [==============================] - 63s 335ms/step - loss: 0.0334 - accuracy: 0.9899 - val_loss: 0.1271 - val_accuracy: 0.9649\n",
            "Epoch 6/100\n",
            "189/189 [==============================] - 63s 334ms/step - loss: 0.0265 - accuracy: 0.9912 - val_loss: 0.1278 - val_accuracy: 0.9597\n",
            "Epoch 7/100\n",
            "189/189 [==============================] - 63s 334ms/step - loss: 0.0087 - accuracy: 0.9972 - val_loss: 0.1403 - val_accuracy: 0.9636\n",
            "Epoch 8/100\n",
            "189/189 [==============================] - 63s 335ms/step - loss: 0.0063 - accuracy: 0.9980 - val_loss: 0.1674 - val_accuracy: 0.9649\n",
            "Epoch 9/100\n",
            "189/189 [==============================] - 63s 336ms/step - loss: 0.0169 - accuracy: 0.9959 - val_loss: 0.1638 - val_accuracy: 0.9663\n",
            "Epoch 10/100\n",
            "189/189 [==============================] - 63s 335ms/step - loss: 0.0263 - accuracy: 0.9921 - val_loss: 0.1037 - val_accuracy: 0.9749\n",
            "Epoch 11/100\n",
            "189/189 [==============================] - 63s 334ms/step - loss: 0.0093 - accuracy: 0.9974 - val_loss: 0.1025 - val_accuracy: 0.9696\n",
            "Epoch 12/100\n",
            "189/189 [==============================] - 63s 334ms/step - loss: 0.0061 - accuracy: 0.9985 - val_loss: 0.0893 - val_accuracy: 0.9782\n",
            "Epoch 13/100\n",
            "189/189 [==============================] - 63s 333ms/step - loss: 1.1168e-04 - accuracy: 1.0000 - val_loss: 0.0909 - val_accuracy: 0.9802\n",
            "Epoch 14/100\n",
            "189/189 [==============================] - 63s 334ms/step - loss: 1.5094e-05 - accuracy: 1.0000 - val_loss: 0.0939 - val_accuracy: 0.9802\n",
            "Epoch 15/100\n",
            "189/189 [==============================] - 63s 334ms/step - loss: 9.7246e-06 - accuracy: 1.0000 - val_loss: 0.0961 - val_accuracy: 0.9802\n",
            "Epoch 16/100\n",
            "189/189 [==============================] - 63s 334ms/step - loss: 6.9761e-06 - accuracy: 1.0000 - val_loss: 0.0980 - val_accuracy: 0.9802\n",
            "Epoch 17/100\n",
            "189/189 [==============================] - 63s 334ms/step - loss: 5.2572e-06 - accuracy: 1.0000 - val_loss: 0.0997 - val_accuracy: 0.9802\n"
          ]
        }
      ]
    },
    {
      "cell_type": "code",
      "metadata": {
        "id": "8YxmrlbjgI9l"
      },
      "source": [
        "#-----------------------------------------------------------------------\n",
        "# Retrieve a list of list results on training and test data of 2nd model\n",
        "# sets for each training epoch\n",
        "#-----------------------------------------------------------------------\n",
        "acc2_hist=history2.history['accuracy']\n",
        "val_acc2_hist=history2.history['val_accuracy']\n",
        "loss2_hist=history2.history['loss']\n",
        "val_loss2_hist=history2.history['val_loss']\n",
        "\n",
        "epochs2=range(len(acc2_hist)) # Get number of epochs"
      ],
      "execution_count": 41,
      "outputs": []
    },
    {
      "cell_type": "code",
      "metadata": {
        "colab": {
          "base_uri": "https://localhost:8080/",
          "height": 372
        },
        "id": "dL44NcKogL-l",
        "outputId": "29a779ef-5d8a-4e36-df0c-fe69c7bedc95"
      },
      "source": [
        "#----------------------------------------------------------------\n",
        "# Plot training and validation accuracy per epoch for both models\n",
        "#----------------------------------------------------------------\n",
        "fig, (axs1, axs2) = plt.subplots(1, 2,figsize=(12,5),sharey=True)\n",
        "fig.suptitle('Training and validation accuracy')\n",
        "\n",
        "axs1.set_title('Model 1')\n",
        "axs1.set(xlabel=\"Epochs\",ylabel=\"Accuracy\")\n",
        "axs1.plot(epochs, acc_hist,'b',label=\"acc\")\n",
        "axs1.plot(epochs, val_acc_hist,'r',label=\"val_acc\")\n",
        "\n",
        "axs2.set_title('Model 2')\n",
        "axs2.set(xlabel=\"Epochs\",ylabel=\"Accuracy\")\n",
        "axs2.plot(epochs2, acc2_hist,'b')\n",
        "axs2.plot(epochs2, val_acc2_hist,'r')\n",
        "\n",
        "fig.legend(loc=\"upper right\")\n",
        "plt.show()"
      ],
      "execution_count": 43,
      "outputs": [
        {
          "output_type": "display_data",
          "data": {
            "image/png": "[encoded data removed]",
            "text/plain": [
              "<Figure size 864x360 with 2 Axes>"
            ]
          },
          "metadata": {
            "needs_background": "light"
          }
        }
      ]
    },
    {
      "cell_type": "code",
      "source": [
        "#----------------------------------------------------------------\n",
        "# Plot training and validation accuracy per epoch for both models\n",
        "#----------------------------------------------------------------\n",
        "fig, (axs1, axs2) = plt.subplots(1, 2,figsize=(12,5),sharey=True)\n",
        "fig.suptitle('Training and validation loss')\n",
        "\n",
        "axs1.set_title('Model 1')\n",
        "axs1.set(xlabel=\"Epochs\",ylabel=\"Loss\")\n",
        "axs1.plot(epochs, loss_hist,'b',label=\"loss\")\n",
        "axs1.plot(epochs, val_loss_hist,'r',label=\"val_loss\")\n",
        "\n",
        "axs2.set_title('Model 2')\n",
        "axs2.set(xlabel=\"Epochs\",ylabel=\"Loss\")\n",
        "axs2.plot(epochs2, loss2_hist,'b')\n",
        "axs2.plot(epochs2, val_loss2_hist,'r')\n",
        "\n",
        "fig.legend(loc=\"upper right\")\n",
        "plt.show()"
      ],
      "metadata": {
        "colab": {
          "base_uri": "https://localhost:8080/",
          "height": 372
        },
        "id": "tJ9zCG7jsAg0",
        "outputId": "eb5ee52e-1014-4df4-8b52-3ea9e9c858e8"
      },
      "execution_count": 44,
      "outputs": [
        {
          "output_type": "display_data",
          "data": {
            "image/png": "[encoded data removed]",
            "text/plain": [
              "<Figure size 864x360 with 2 Axes>"
            ]
          },
          "metadata": {
            "needs_background": "light"
          }
        }
      ]
    }
  ]
}