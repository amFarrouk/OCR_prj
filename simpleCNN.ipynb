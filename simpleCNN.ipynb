{
  "nbformat": 4,
  "nbformat_minor": 0,
  "metadata": {
    "accelerator": "GPU",
    "colab": {
      "name": "simpleCNN.ipynb",
      "provenance": [],
      "collapsed_sections": [],
      "include_colab_link": true
    },
    "interpreter": {
      "hash": "652067eec5de986345d2a6410d7e1666adff1463be4220feb6214403227df83a"
    },
    "kernelspec": {
      "display_name": "Python 3.8.2 64-bit",
      "language": "python",
      "name": "python3"
    },
    "language_info": {
      "codemirror_mode": {
        "name": "ipython",
        "version": 3
      },
      "file_extension": ".py",
      "mimetype": "text/x-python",
      "name": "python",
      "nbconvert_exporter": "python",
      "pygments_lexer": "ipython3",
      "version": "3.8.2"
    }
  },
  "cells": [
    {
      "cell_type": "markdown",
      "metadata": {
        "id": "view-in-github",
        "colab_type": "text"
      },
      "source": [
        "<a href=\"https://colab.research.google.com/github/amFarrouk/OCR_prj/blob/main/simpleCNN.ipynb\" target=\"_parent\"><img src=\"https://colab.research.google.com/assets/colab-badge.svg\" alt=\"Open In Colab\"/></a>"
      ]
    },
    {
      "cell_type": "code",
      "metadata": {
        "id": "nSohdxGbaaTI"
      },
      "source": [
        "import cv2\n",
        "import pandas as pd\n",
        "import os\n",
        "import matplotlib.pyplot as plt\n",
        "import zipfile"
      ],
      "execution_count": 1,
      "outputs": []
    },
    {
      "cell_type": "code",
      "metadata": {
        "colab": {
          "base_uri": "https://localhost:8080/"
        },
        "id": "TjPvAvqIt2ad",
        "outputId": "120d993a-592c-454c-9df1-5ffb49da28c5"
      },
      "source": [
        "!wget https://raw.githubusercontent.com/amFarrouk/OCR_prj/main/bdh.zip\n",
        "!unzip -qq ./bdh.zip \n",
        "!rm ./bdh.zip"
      ],
      "execution_count": 2,
      "outputs": [
        {
          "output_type": "stream",
          "name": "stdout",
          "text": [
            "--2021-12-07 15:38:38--  https://raw.githubusercontent.com/amFarrouk/OCR_prj/main/bdh.zip\n",
            "Resolving raw.githubusercontent.com (raw.githubusercontent.com)... 185.199.109.133, 185.199.111.133, 185.199.110.133, ...\n",
            "Connecting to raw.githubusercontent.com (raw.githubusercontent.com)|185.199.109.133|:443... connected.\n",
            "HTTP request sent, awaiting response... 200 OK\n",
            "Length: 7536168 (7.2M) [application/zip]\n",
            "Saving to: ‘bdh.zip’\n",
            "\n",
            "bdh.zip             100%[===================>]   7.19M  --.-KB/s    in 0.09s   \n",
            "\n",
            "2021-12-07 15:38:39 (78.2 MB/s) - ‘bdh.zip’ saved [7536168/7536168]\n",
            "\n"
          ]
        }
      ]
    },
    {
      "cell_type": "code",
      "metadata": {
        "colab": {
          "base_uri": "https://localhost:8080/"
        },
        "id": "X1y7XaIfQH3f",
        "outputId": "92cea7bb-3c57-48d2-870d-b6071dbfd3e6"
      },
      "source": [
        "!wget https://www.dropbox.com/s/qpagi0h1089kr2f/images_df.csv"
      ],
      "execution_count": 3,
      "outputs": [
        {
          "output_type": "stream",
          "name": "stdout",
          "text": [
            "--2021-12-07 15:38:40--  https://www.dropbox.com/s/qpagi0h1089kr2f/images_df.csv\n",
            "Resolving www.dropbox.com (www.dropbox.com)... 162.125.3.18, 2620:100:6018:18::a27d:312\n",
            "Connecting to www.dropbox.com (www.dropbox.com)|162.125.3.18|:443... connected.\n",
            "HTTP request sent, awaiting response... 301 Moved Permanently\n",
            "Location: /s/raw/qpagi0h1089kr2f/images_df.csv [following]\n",
            "--2021-12-07 15:38:40--  https://www.dropbox.com/s/raw/qpagi0h1089kr2f/images_df.csv\n",
            "Reusing existing connection to www.dropbox.com:443.\n",
            "HTTP request sent, awaiting response... 302 Found\n",
            "Location: https://uc82195240109e37ea0ca5c5a6d2.dl.dropboxusercontent.com/cd/0/inline/Bbb8cTVCKrq-UhK4toLMaYF021OzgNhQiVgV_6uTKbhzWZlEOiNZWcXTDW6YhUPBlZ64lLvX5lI1woemd_ugcBClA3S-LqFJs3igCGKaYYBiCFSXvOso2bv6RIjJ6dG_8azWWtYSRo1zlhZu28N-1R9X/file# [following]\n",
            "--2021-12-07 15:38:40--  https://uc82195240109e37ea0ca5c5a6d2.dl.dropboxusercontent.com/cd/0/inline/Bbb8cTVCKrq-UhK4toLMaYF021OzgNhQiVgV_6uTKbhzWZlEOiNZWcXTDW6YhUPBlZ64lLvX5lI1woemd_ugcBClA3S-LqFJs3igCGKaYYBiCFSXvOso2bv6RIjJ6dG_8azWWtYSRo1zlhZu28N-1R9X/file\n",
            "Resolving uc82195240109e37ea0ca5c5a6d2.dl.dropboxusercontent.com (uc82195240109e37ea0ca5c5a6d2.dl.dropboxusercontent.com)... 162.125.3.15, 2620:100:6018:15::a27d:30f\n",
            "Connecting to uc82195240109e37ea0ca5c5a6d2.dl.dropboxusercontent.com (uc82195240109e37ea0ca5c5a6d2.dl.dropboxusercontent.com)|162.125.3.15|:443... connected.\n",
            "HTTP request sent, awaiting response... 200 OK\n",
            "Length: 125438 (122K) [text/plain]\n",
            "Saving to: ‘images_df.csv’\n",
            "\n",
            "images_df.csv       100%[===================>] 122.50K  --.-KB/s    in 0.03s   \n",
            "\n",
            "2021-12-07 15:38:40 (4.43 MB/s) - ‘images_df.csv’ saved [125438/125438]\n",
            "\n"
          ]
        }
      ]
    },
    {
      "cell_type": "code",
      "metadata": {
        "colab": {
          "base_uri": "https://localhost:8080/",
          "height": 206
        },
        "id": "zQQ_xXdvSWPv",
        "outputId": "1c0bad73-baeb-46c8-be18-de3b6df362ab"
      },
      "source": [
        "images_df=pd.read_csv(\"./images_df.csv\",header=None,names=[\"img\",\"label\"])\n",
        "images_df[\"label\"]=images_df[\"label\"].apply(lambda x : str(x))\n",
        "images_df.head()"
      ],
      "execution_count": 4,
      "outputs": [
        {
          "output_type": "execute_result",
          "data": {
            "text/html": [
              "<div>\n",
              "<style scoped>\n",
              "    .dataframe tbody tr th:only-of-type {\n",
              "        vertical-align: middle;\n",
              "    }\n",
              "\n",
              "    .dataframe tbody tr th {\n",
              "        vertical-align: top;\n",
              "    }\n",
              "\n",
              "    .dataframe thead th {\n",
              "        text-align: right;\n",
              "    }\n",
              "</style>\n",
              "<table border=\"1\" class=\"dataframe\">\n",
              "  <thead>\n",
              "    <tr style=\"text-align: right;\">\n",
              "      <th></th>\n",
              "      <th>img</th>\n",
              "      <th>label</th>\n",
              "    </tr>\n",
              "  </thead>\n",
              "  <tbody>\n",
              "    <tr>\n",
              "      <th>0</th>\n",
              "      <td>ae07_005.bmp</td>\n",
              "      <td>18</td>\n",
              "    </tr>\n",
              "    <tr>\n",
              "      <th>1</th>\n",
              "      <td>ae07_011.bmp</td>\n",
              "      <td>17</td>\n",
              "    </tr>\n",
              "    <tr>\n",
              "      <th>2</th>\n",
              "      <td>ae07_014.bmp</td>\n",
              "      <td>20</td>\n",
              "    </tr>\n",
              "    <tr>\n",
              "      <th>3</th>\n",
              "      <td>ae07_015.bmp</td>\n",
              "      <td>18</td>\n",
              "    </tr>\n",
              "    <tr>\n",
              "      <th>4</th>\n",
              "      <td>ae07_022.bmp</td>\n",
              "      <td>12</td>\n",
              "    </tr>\n",
              "  </tbody>\n",
              "</table>\n",
              "</div>"
            ],
            "text/plain": [
              "            img label\n",
              "0  ae07_005.bmp    18\n",
              "1  ae07_011.bmp    17\n",
              "2  ae07_014.bmp    20\n",
              "3  ae07_015.bmp    18\n",
              "4  ae07_022.bmp    12"
            ]
          },
          "metadata": {},
          "execution_count": 4
        }
      ]
    },
    {
      "cell_type": "code",
      "metadata": {
        "id": "B5AmEhiCaaTT"
      },
      "source": [
        "labels=images_df['label']\n",
        "labels=labels.to_numpy()"
      ],
      "execution_count": 5,
      "outputs": []
    },
    {
      "cell_type": "code",
      "metadata": {
        "colab": {
          "base_uri": "https://localhost:8080/",
          "height": 501
        },
        "id": "J48PNIZpaaTU",
        "outputId": "b06a9a98-91f9-44e9-e3bb-cc74c46ddac8"
      },
      "source": [
        "plt.figure(figsize=(8,8))\n",
        "plt.xlim()\n",
        "plt.xlabel(\"labels\")\n",
        "plt.ylabel(\"num_words_in_labs\")\n",
        "plt.hist(labels,bins=22)\n",
        "plt.show()"
      ],
      "execution_count": 6,
      "outputs": [
        {
          "output_type": "display_data",
          "data": {
            "image/png": "[encoded data removed]",
            "text/plain": [
              "<Figure size 576x576 with 1 Axes>"
            ]
          },
          "metadata": {
            "needs_background": "light"
          }
        }
      ]
    },
    {
      "cell_type": "code",
      "metadata": {
        "colab": {
          "base_uri": "https://localhost:8080/"
        },
        "id": "KXNsE23raaTV",
        "outputId": "b54d1299-58ab-4040-b03a-753500521ef2"
      },
      "source": [
        "img=cv2.imread(\"./bdh/ae07_005.bmp\",cv2.IMREAD_GRAYSCALE)\n",
        "img.shape"
      ],
      "execution_count": 7,
      "outputs": [
        {
          "output_type": "execute_result",
          "data": {
            "text/plain": [
              "(114, 499)"
            ]
          },
          "metadata": {},
          "execution_count": 7
        }
      ]
    },
    {
      "cell_type": "code",
      "metadata": {
        "id": "KIx-JyKpaaTV"
      },
      "source": [
        "imgresize = cv2.resize(img, (760, 120)) "
      ],
      "execution_count": 8,
      "outputs": []
    },
    {
      "cell_type": "code",
      "metadata": {
        "colab": {
          "base_uri": "https://localhost:8080/",
          "height": 145
        },
        "id": "f-ICyXKbaaTW",
        "outputId": "c91c300b-0243-411c-fcd2-ed34fbc6dfaa"
      },
      "source": [
        "plt.imshow(img)"
      ],
      "execution_count": 9,
      "outputs": [
        {
          "output_type": "execute_result",
          "data": {
            "text/plain": [
              "<matplotlib.image.AxesImage at 0x7fc91278c150>"
            ]
          },
          "metadata": {},
          "execution_count": 9
        },
        {
          "output_type": "display_data",
          "data": {
            "image/png": "[encoded data removed]",
            "text/plain": [
              "<Figure size 432x288 with 1 Axes>"
            ]
          },
          "metadata": {
            "needs_background": "light"
          }
        }
      ]
    },
    {
      "cell_type": "code",
      "metadata": {
        "colab": {
          "base_uri": "https://localhost:8080/",
          "height": 122
        },
        "id": "Z_Dd9r-iaaTX",
        "outputId": "43912ff1-477c-41a7-dcc9-2b060a953eca"
      },
      "source": [
        "plt.imshow(imgresize)"
      ],
      "execution_count": 10,
      "outputs": [
        {
          "output_type": "execute_result",
          "data": {
            "text/plain": [
              "<matplotlib.image.AxesImage at 0x7fc9126ef910>"
            ]
          },
          "metadata": {},
          "execution_count": 10
        },
        {
          "output_type": "display_data",
          "data": {
            "image/png": "[encoded data removed]",
            "text/plain": [
              "<Figure size 432x288 with 1 Axes>"
            ]
          },
          "metadata": {
            "needs_background": "light"
          }
        }
      ]
    },
    {
      "cell_type": "code",
      "metadata": {
        "id": "JW5bEQO5aaTb"
      },
      "source": [
        "from sklearn.model_selection import train_test_split"
      ],
      "execution_count": 11,
      "outputs": []
    },
    {
      "cell_type": "code",
      "metadata": {
        "colab": {
          "base_uri": "https://localhost:8080/",
          "height": 224
        },
        "id": "7KgmfKvEaaTc",
        "outputId": "5b14e2d2-ebd5-49be-fb95-8a079ef75dbe"
      },
      "source": [
        "all_x,all_y=images_df[\"img\"],images_df[\"label\"]\n",
        "\n",
        "xtrain,xtest,ytrain,ytest=train_test_split(all_x,all_y,train_size=0.8,random_state=1,shuffle=True)\n",
        "\n",
        "train_df=pd.DataFrame(xtrain,columns=[\"img\"])\n",
        "train_df[\"label\"]=ytrain\n",
        "\n",
        "print(\"train_data:\")\n",
        "train_df.head()"
      ],
      "execution_count": 12,
      "outputs": [
        {
          "output_type": "stream",
          "name": "stdout",
          "text": [
            "train_data:\n"
          ]
        },
        {
          "output_type": "execute_result",
          "data": {
            "text/html": [
              "<div>\n",
              "<style scoped>\n",
              "    .dataframe tbody tr th:only-of-type {\n",
              "        vertical-align: middle;\n",
              "    }\n",
              "\n",
              "    .dataframe tbody tr th {\n",
              "        vertical-align: top;\n",
              "    }\n",
              "\n",
              "    .dataframe thead th {\n",
              "        text-align: right;\n",
              "    }\n",
              "</style>\n",
              "<table border=\"1\" class=\"dataframe\">\n",
              "  <thead>\n",
              "    <tr style=\"text-align: right;\">\n",
              "      <th></th>\n",
              "      <th>img</th>\n",
              "      <th>label</th>\n",
              "    </tr>\n",
              "  </thead>\n",
              "  <tbody>\n",
              "    <tr>\n",
              "      <th>5764</th>\n",
              "      <td>de12_032.bmp</td>\n",
              "      <td>16</td>\n",
              "    </tr>\n",
              "    <tr>\n",
              "      <th>7223</th>\n",
              "      <td>dm34_024.bmp</td>\n",
              "      <td>16</td>\n",
              "    </tr>\n",
              "    <tr>\n",
              "      <th>5124</th>\n",
              "      <td>cj14_066.bmp</td>\n",
              "      <td>13</td>\n",
              "    </tr>\n",
              "    <tr>\n",
              "      <th>5621</th>\n",
              "      <td>cq65_006.bmp</td>\n",
              "      <td>8</td>\n",
              "    </tr>\n",
              "    <tr>\n",
              "      <th>2624</th>\n",
              "      <td>bi06_006.bmp</td>\n",
              "      <td>16</td>\n",
              "    </tr>\n",
              "  </tbody>\n",
              "</table>\n",
              "</div>"
            ],
            "text/plain": [
              "               img label\n",
              "5764  de12_032.bmp    16\n",
              "7223  dm34_024.bmp    16\n",
              "5124  cj14_066.bmp    13\n",
              "5621  cq65_006.bmp     8\n",
              "2624  bi06_006.bmp    16"
            ]
          },
          "metadata": {},
          "execution_count": 12
        }
      ]
    },
    {
      "cell_type": "code",
      "metadata": {
        "colab": {
          "base_uri": "https://localhost:8080/",
          "height": 224
        },
        "id": "HzcTTXqGaaTc",
        "outputId": "d78c7918-0102-4464-d25f-6667779923c2"
      },
      "source": [
        "test_df=pd.DataFrame(xtest,columns=[\"img\"])\n",
        "test_df[\"label\"]=ytest\n",
        "\n",
        "print(\"test_data:\")\n",
        "test_df.head()"
      ],
      "execution_count": 13,
      "outputs": [
        {
          "output_type": "stream",
          "name": "stdout",
          "text": [
            "test_data:\n"
          ]
        },
        {
          "output_type": "execute_result",
          "data": {
            "text/html": [
              "<div>\n",
              "<style scoped>\n",
              "    .dataframe tbody tr th:only-of-type {\n",
              "        vertical-align: middle;\n",
              "    }\n",
              "\n",
              "    .dataframe tbody tr th {\n",
              "        vertical-align: top;\n",
              "    }\n",
              "\n",
              "    .dataframe thead th {\n",
              "        text-align: right;\n",
              "    }\n",
              "</style>\n",
              "<table border=\"1\" class=\"dataframe\">\n",
              "  <thead>\n",
              "    <tr style=\"text-align: right;\">\n",
              "      <th></th>\n",
              "      <th>img</th>\n",
              "      <th>label</th>\n",
              "    </tr>\n",
              "  </thead>\n",
              "  <tbody>\n",
              "    <tr>\n",
              "      <th>3069</th>\n",
              "      <td>bj01_033.bmp</td>\n",
              "      <td>3</td>\n",
              "    </tr>\n",
              "    <tr>\n",
              "      <th>642</th>\n",
              "      <td>af62_017.bmp</td>\n",
              "      <td>22</td>\n",
              "    </tr>\n",
              "    <tr>\n",
              "      <th>7266</th>\n",
              "      <td>dq06_018.bmp</td>\n",
              "      <td>8</td>\n",
              "    </tr>\n",
              "    <tr>\n",
              "      <th>5765</th>\n",
              "      <td>de12_034.bmp</td>\n",
              "      <td>16</td>\n",
              "    </tr>\n",
              "    <tr>\n",
              "      <th>2229</th>\n",
              "      <td>be92_023.bmp</td>\n",
              "      <td>13</td>\n",
              "    </tr>\n",
              "  </tbody>\n",
              "</table>\n",
              "</div>"
            ],
            "text/plain": [
              "               img label\n",
              "3069  bj01_033.bmp     3\n",
              "642   af62_017.bmp    22\n",
              "7266  dq06_018.bmp     8\n",
              "5765  de12_034.bmp    16\n",
              "2229  be92_023.bmp    13"
            ]
          },
          "metadata": {},
          "execution_count": 13
        }
      ]
    },
    {
      "cell_type": "code",
      "metadata": {
        "id": "zhoeMwk5aaTd"
      },
      "source": [
        "from tensorflow.keras.preprocessing.image import ImageDataGenerator"
      ],
      "execution_count": 14,
      "outputs": []
    },
    {
      "cell_type": "code",
      "metadata": {
        "id": "zIhTyw6HaaTd"
      },
      "source": [
        "train_image_gen=ImageDataGenerator(rescale=1.0/255)\n",
        "test_image_gen=ImageDataGenerator(rescale=1.0/255)"
      ],
      "execution_count": 15,
      "outputs": []
    },
    {
      "cell_type": "code",
      "metadata": {
        "colab": {
          "base_uri": "https://localhost:8080/"
        },
        "id": "ajLdcxGgaaTe",
        "outputId": "a272eed3-7781-4535-f4ad-02ee0e3a5881"
      },
      "source": [
        "train_image_gen=train_image_gen.flow_from_dataframe(train_df,x_col=\"img\",y_col=\"label\",\n",
        "                                            directory=\"./bdh\",\n",
        "                                            batch_size=32,\n",
        "                                            target_size=(imgresize.shape[0],imgresize.shape[1]),\n",
        "                                            color_mode='grayscale',\n",
        "                                            class_mode='categorical')"
      ],
      "execution_count": 16,
      "outputs": [
        {
          "output_type": "stream",
          "name": "stdout",
          "text": [
            "Found 6048 validated image filenames belonging to 22 classes.\n"
          ]
        }
      ]
    },
    {
      "cell_type": "code",
      "metadata": {
        "colab": {
          "base_uri": "https://localhost:8080/"
        },
        "id": "9l75gGK2aaTf",
        "outputId": "fb4484b6-fa35-43ba-d0ab-ed650cbbc093"
      },
      "source": [
        "test_image_gen=test_image_gen.flow_from_dataframe(test_df,x_col=\"img\",y_col=\"label\",\n",
        "                                            directory=\"./bdh\",\n",
        "                                            batch_size=32,\n",
        "                                            target_size=(imgresize.shape[0],imgresize.shape[1]),\n",
        "                                            color_mode='grayscale',\n",
        "                                            class_mode='categorical')"
      ],
      "execution_count": 17,
      "outputs": [
        {
          "output_type": "stream",
          "name": "stdout",
          "text": [
            "Found 1512 validated image filenames belonging to 22 classes.\n"
          ]
        }
      ]
    },
    {
      "cell_type": "code",
      "metadata": {
        "id": "NCfVKSaUaaTf"
      },
      "source": [
        "import tensorflow as tf"
      ],
      "execution_count": 18,
      "outputs": []
    },
    {
      "cell_type": "code",
      "metadata": {
        "id": "M4CuMufWaaTg"
      },
      "source": [
        "model = tf.keras.models.Sequential([\n",
        "    # Note the input shape is the desired size of the image 760x120 with 1 bytes color\n",
        "    # This is the first convolution\n",
        "    tf.keras.layers.Conv2D(32, (3,3), activation='relu', input_shape=(760, 120, 1)),\n",
        "    tf.keras.layers.MaxPooling2D(2, 2),\n",
        "    # The third convolution\n",
        "    tf.keras.layers.Conv2D(64, (3,3), activation='relu'),\n",
        "    tf.keras.layers.MaxPooling2D(2,2),\n",
        "    # The fourth convolution\n",
        "    tf.keras.layers.Conv2D(64, (3,3), activation='relu'),\n",
        "    tf.keras.layers.MaxPooling2D(2,2),\n",
        "    # The fifth convolution\n",
        "    tf.keras.layers.Conv2D(32, (3,3), activation='relu'),\n",
        "    tf.keras.layers.MaxPooling2D(2,2),\n",
        "    # Flatten the results to feed into a DNN\n",
        "    tf.keras.layers.Flatten(),\n",
        "    # 64 neuron hidden layer\n",
        "    tf.keras.layers.Dense(128, activation='relu'),\n",
        "    # Only 22 output neuron.\n",
        "    tf.keras.layers.Dense(22, activation='softmax')\n",
        "])"
      ],
      "execution_count": 19,
      "outputs": []
    },
    {
      "cell_type": "code",
      "metadata": {
        "id": "5DEMFMntaaTg"
      },
      "source": [
        "loss=tf.keras.losses.categorical_crossentropy\n",
        "optim=tf.keras.optimizers.Adam()\n",
        "myCallBack=tf.keras.callbacks.EarlyStopping(monitor=\"val_accuracy\",patience=4)"
      ],
      "execution_count": 20,
      "outputs": []
    },
    {
      "cell_type": "code",
      "metadata": {
        "id": "i_QUKf64aaTh"
      },
      "source": [
        "model.compile(optimizer=optim, loss=loss, metrics=['accuracy'])"
      ],
      "execution_count": 21,
      "outputs": []
    },
    {
      "cell_type": "code",
      "metadata": {
        "colab": {
          "base_uri": "https://localhost:8080/"
        },
        "id": "xaBMgB-BCiGE",
        "outputId": "99a5dc12-1720-43d7-8dd2-c87c50842a8c"
      },
      "source": [
        "model.summary()"
      ],
      "execution_count": 22,
      "outputs": [
        {
          "output_type": "stream",
          "name": "stdout",
          "text": [
            "Model: \"sequential\"\n",
            "_________________________________________________________________\n",
            " Layer (type)                Output Shape              Param #   \n",
            "=================================================================\n",
            " conv2d (Conv2D)             (None, 758, 118, 32)      320       \n",
            "                                                                 \n",
            " max_pooling2d (MaxPooling2D  (None, 379, 59, 32)      0         \n",
            " )                                                               \n",
            "                                                                 \n",
            " conv2d_1 (Conv2D)           (None, 377, 57, 64)       18496     \n",
            "                                                                 \n",
            " max_pooling2d_1 (MaxPooling  (None, 188, 28, 64)      0         \n",
            " 2D)                                                             \n",
            "                                                                 \n",
            " conv2d_2 (Conv2D)           (None, 186, 26, 64)       36928     \n",
            "                                                                 \n",
            " max_pooling2d_2 (MaxPooling  (None, 93, 13, 64)       0         \n",
            " 2D)                                                             \n",
            "                                                                 \n",
            " conv2d_3 (Conv2D)           (None, 91, 11, 32)        18464     \n",
            "                                                                 \n",
            " max_pooling2d_3 (MaxPooling  (None, 45, 5, 32)        0         \n",
            " 2D)                                                             \n",
            "                                                                 \n",
            " flatten (Flatten)           (None, 7200)              0         \n",
            "                                                                 \n",
            " dense (Dense)               (None, 128)               921728    \n",
            "                                                                 \n",
            " dense_1 (Dense)             (None, 22)                2838      \n",
            "                                                                 \n",
            "=================================================================\n",
            "Total params: 998,774\n",
            "Trainable params: 998,774\n",
            "Non-trainable params: 0\n",
            "_________________________________________________________________\n"
          ]
        }
      ]
    },
    {
      "cell_type": "code",
      "metadata": {
        "colab": {
          "base_uri": "https://localhost:8080/"
        },
        "id": "zuRqSD63aaTh",
        "outputId": "54dd91e2-92e3-4995-9dd2-2441e0c7bec4"
      },
      "source": [
        "history=model.fit(train_image_gen,epochs=100,steps_per_epoch=189,validation_data=test_image_gen,callbacks=[myCallBack])"
      ],
      "execution_count": 23,
      "outputs": [
        {
          "output_type": "stream",
          "name": "stdout",
          "text": [
            "Epoch 1/100\n",
            "189/189 [==============================] - 44s 161ms/step - loss: 0.6650 - accuracy: 0.8041 - val_loss: 0.2341 - val_accuracy: 0.9253\n",
            "Epoch 2/100\n",
            "189/189 [==============================] - 30s 159ms/step - loss: 0.1063 - accuracy: 0.9664 - val_loss: 0.1532 - val_accuracy: 0.9484\n",
            "Epoch 3/100\n",
            "189/189 [==============================] - 30s 159ms/step - loss: 0.0410 - accuracy: 0.9864 - val_loss: 0.1594 - val_accuracy: 0.9504\n",
            "Epoch 4/100\n",
            "189/189 [==============================] - 30s 160ms/step - loss: 0.0169 - accuracy: 0.9940 - val_loss: 0.1531 - val_accuracy: 0.9616\n",
            "Epoch 5/100\n",
            "189/189 [==============================] - 30s 160ms/step - loss: 0.0196 - accuracy: 0.9944 - val_loss: 0.2518 - val_accuracy: 0.9372\n",
            "Epoch 6/100\n",
            "189/189 [==============================] - 30s 160ms/step - loss: 0.0239 - accuracy: 0.9931 - val_loss: 0.2460 - val_accuracy: 0.9504\n",
            "Epoch 7/100\n",
            "189/189 [==============================] - 30s 160ms/step - loss: 0.0202 - accuracy: 0.9937 - val_loss: 0.1808 - val_accuracy: 0.9550\n",
            "Epoch 8/100\n",
            "189/189 [==============================] - 30s 160ms/step - loss: 0.0171 - accuracy: 0.9952 - val_loss: 0.1641 - val_accuracy: 0.9583\n"
          ]
        }
      ]
    },
    {
      "cell_type": "code",
      "metadata": {
        "id": "wSvl_wlCgGm1"
      },
      "source": [
        "#-----------------------------------------------------------\n",
        "# Retrieve a list of list results on training and test data\n",
        "# sets for each training epoch\n",
        "#-----------------------------------------------------------\n",
        "acc=history.history['accuracy']\n",
        "val_acc=history.history['val_accuracy']\n",
        "loss=history.history['loss']\n",
        "val_loss=history.history['val_loss']\n",
        "\n",
        "epochs=range(len(acc)) # Get number of epochs"
      ],
      "execution_count": 24,
      "outputs": []
    },
    {
      "cell_type": "code",
      "metadata": {
        "colab": {
          "base_uri": "https://localhost:8080/",
          "height": 312
        },
        "id": "nuxzVy3ef8oW",
        "outputId": "35477011-acc4-45e6-e220-9ec10fc4db74"
      },
      "source": [
        "#------------------------------------------------\n",
        "# Plot training and validation accuracy per epoch\n",
        "#------------------------------------------------\n",
        "plt.plot(epochs, acc, 'r')\n",
        "plt.plot(epochs, val_acc, 'b')\n",
        "plt.title('Training and validation accuracy')\n",
        "plt.xlabel(\"Epochs\")\n",
        "plt.ylabel(\"Accuracy\")\n",
        "plt.legend([\"Accuracy\", \"Validation Accuracy\"])\n",
        "\n",
        "plt.figure()\n",
        "plt.show()"
      ],
      "execution_count": 25,
      "outputs": [
        {
          "output_type": "display_data",
          "data": {
            "image/png": "[encoded data removed]",
            "text/plain": [
              "<Figure size 432x288 with 1 Axes>"
            ]
          },
          "metadata": {
            "needs_background": "light"
          }
        },
        {
          "output_type": "display_data",
          "data": {
            "text/plain": [
              "<Figure size 432x288 with 0 Axes>"
            ]
          },
          "metadata": {}
        }
      ]
    },
    {
      "cell_type": "code",
      "metadata": {
        "colab": {
          "base_uri": "https://localhost:8080/",
          "height": 312
        },
        "id": "Z37xo8Fof--l",
        "outputId": "7bc55456-89cf-464d-e088-08dc2dc7edb0"
      },
      "source": [
        "#------------------------------------------------\n",
        "# Plot training and validation loss per epoch\n",
        "#------------------------------------------------\n",
        "plt.plot(epochs, loss, 'r')\n",
        "plt.plot(epochs, val_loss, 'b')\n",
        "plt.title('Training and validation loss')\n",
        "plt.xlabel(\"Epochs\")\n",
        "plt.ylabel(\"Loss\")\n",
        "plt.legend([\"Loss\", \"Validation Loss\"])\n",
        "\n",
        "plt.figure()\n",
        "plt.show()"
      ],
      "execution_count": 26,
      "outputs": [
        {
          "output_type": "display_data",
          "data": {
            "image/png": "[encoded data removed]",
            "text/plain": [
              "<Figure size 432x288 with 1 Axes>"
            ]
          },
          "metadata": {
            "needs_background": "light"
          }
        },
        {
          "output_type": "display_data",
          "data": {
            "text/plain": [
              "<Figure size 432x288 with 0 Axes>"
            ]
          },
          "metadata": {}
        }
      ]
    },
    {
      "cell_type": "code",
      "metadata": {
        "id": "jw4-pkikgBXy"
      },
      "source": [
        "model2 = tf.keras.models.Sequential([\n",
        "    # Note the input shape is the desired size of the image 300x300 with 3 bytes color\n",
        "    # This is the first convolution\n",
        "    tf.keras.layers.Conv2D(64, (3,3), activation='relu', input_shape=(760, 120, 1)),\n",
        "    tf.keras.layers.MaxPooling2D(2, 2),\n",
        "    # The third convolution\n",
        "    tf.keras.layers.Conv2D(128, (3,3), activation='relu'),\n",
        "    tf.keras.layers.MaxPooling2D(2,2),\n",
        "    # The fourth convolution\n",
        "    tf.keras.layers.Conv2D(128, (3,3), activation='relu'),\n",
        "    tf.keras.layers.MaxPooling2D(2,2),\n",
        "    # The fifth convolution\n",
        "    tf.keras.layers.Conv2D(64, (3,3), activation='relu'),\n",
        "    tf.keras.layers.MaxPooling2D(2,2),\n",
        "    # Flatten the results to feed into a DNN\n",
        "    tf.keras.layers.Flatten(),\n",
        "    # 512 neuron hidden layer\n",
        "    tf.keras.layers.Dense(256, activation='relu'),\n",
        "    # Only 22 output neuron.\n",
        "    tf.keras.layers.Dense(22, activation='softmax')\n",
        "])"
      ],
      "execution_count": 27,
      "outputs": []
    },
    {
      "cell_type": "code",
      "metadata": {
        "id": "dVLY4qfjgEaX"
      },
      "source": [
        "loss=tf.keras.losses.categorical_crossentropy\n",
        "optim=tf.keras.optimizers.Adam()\n",
        "myCallBack=tf.keras.callbacks.EarlyStopping(monitor=\"val_accuracy\",patience=4)\n",
        "\n",
        "model2.compile(optimizer=optim, loss=loss, metrics=['accuracy'])"
      ],
      "execution_count": 28,
      "outputs": []
    },
    {
      "cell_type": "code",
      "metadata": {
        "colab": {
          "base_uri": "https://localhost:8080/"
        },
        "id": "CnR287g0gHiY",
        "outputId": "28ef4414-011e-40fb-bbf6-16ed147fc56e"
      },
      "source": [
        "history2=model2.fit(train_image_gen,epochs=100,steps_per_epoch=189,validation_data=test_image_gen,callbacks=[myCallBack])"
      ],
      "execution_count": 29,
      "outputs": [
        {
          "output_type": "stream",
          "name": "stdout",
          "text": [
            "Epoch 1/100\n",
            "189/189 [==============================] - 67s 334ms/step - loss: 0.5582 - accuracy: 0.8325 - val_loss: 0.1346 - val_accuracy: 0.9570\n",
            "Epoch 2/100\n",
            "189/189 [==============================] - 62s 328ms/step - loss: 0.0804 - accuracy: 0.9735 - val_loss: 0.2020 - val_accuracy: 0.9345\n",
            "Epoch 3/100\n",
            "189/189 [==============================] - 62s 329ms/step - loss: 0.0325 - accuracy: 0.9876 - val_loss: 0.1462 - val_accuracy: 0.9603\n",
            "Epoch 4/100\n",
            "189/189 [==============================] - 62s 329ms/step - loss: 0.0275 - accuracy: 0.9922 - val_loss: 0.1761 - val_accuracy: 0.9563\n",
            "Epoch 5/100\n",
            "189/189 [==============================] - 62s 328ms/step - loss: 0.0205 - accuracy: 0.9939 - val_loss: 0.1606 - val_accuracy: 0.9537\n",
            "Epoch 6/100\n",
            "189/189 [==============================] - 62s 328ms/step - loss: 0.0210 - accuracy: 0.9924 - val_loss: 0.1456 - val_accuracy: 0.9636\n",
            "Epoch 7/100\n",
            "189/189 [==============================] - 62s 328ms/step - loss: 0.0013 - accuracy: 0.9993 - val_loss: 0.1482 - val_accuracy: 0.9676\n",
            "Epoch 8/100\n",
            "189/189 [==============================] - 62s 328ms/step - loss: 0.0182 - accuracy: 0.9952 - val_loss: 0.1619 - val_accuracy: 0.9484\n",
            "Epoch 9/100\n",
            "189/189 [==============================] - 62s 328ms/step - loss: 0.0220 - accuracy: 0.9936 - val_loss: 0.2911 - val_accuracy: 0.9425\n",
            "Epoch 10/100\n",
            "189/189 [==============================] - 62s 328ms/step - loss: 0.0168 - accuracy: 0.9942 - val_loss: 0.1442 - val_accuracy: 0.9590\n",
            "Epoch 11/100\n",
            "189/189 [==============================] - 62s 327ms/step - loss: 0.0054 - accuracy: 0.9979 - val_loss: 0.1448 - val_accuracy: 0.9649\n"
          ]
        }
      ]
    },
    {
      "cell_type": "code",
      "metadata": {
        "id": "8YxmrlbjgI9l"
      },
      "source": [
        "#-----------------------------------------------------------\n",
        "# Retrieve a list of list results on training and test data\n",
        "# sets for each training epoch\n",
        "#-----------------------------------------------------------\n",
        "acc=history.history['accuracy']\n",
        "val_acc=history.history['val_accuracy']\n",
        "loss=history.history['loss']\n",
        "val_loss=history.history['val_loss']\n",
        "\n",
        "epochs=range(len(acc)) # Get number of epochs"
      ],
      "execution_count": 30,
      "outputs": []
    },
    {
      "cell_type": "code",
      "metadata": {
        "colab": {
          "base_uri": "https://localhost:8080/",
          "height": 312
        },
        "id": "dL44NcKogL-l",
        "outputId": "47841003-1e6e-4d78-87c7-b3d91f65ce04"
      },
      "source": [
        "#------------------------------------------------\n",
        "# Plot training and validation accuracy per epoch\n",
        "#------------------------------------------------\n",
        "plt.plot(epochs, acc, 'r')\n",
        "plt.plot(epochs, val_acc, 'b')\n",
        "plt.title('Training and validation accuracy')\n",
        "plt.xlabel(\"Epochs\")\n",
        "plt.ylabel(\"Accuracy\")\n",
        "plt.legend([\"Accuracy\", \"Validation Accuracy\"])\n",
        "\n",
        "plt.figure()\n",
        "plt.show()"
      ],
      "execution_count": 31,
      "outputs": [
        {
          "output_type": "display_data",
          "data": {
            "image/png": "[encoded data removed]",
            "text/plain": [
              "<Figure size 432x288 with 1 Axes>"
            ]
          },
          "metadata": {
            "needs_background": "light"
          }
        },
        {
          "output_type": "display_data",
          "data": {
            "text/plain": [
              "<Figure size 432x288 with 0 Axes>"
            ]
          },
          "metadata": {}
        }
      ]
    },
    {
      "cell_type": "code",
      "metadata": {
        "colab": {
          "base_uri": "https://localhost:8080/",
          "height": 312
        },
        "id": "hLwcSOsigOEr",
        "outputId": "a18cbb1a-3c93-4c42-8c9f-8fe4e1a2b940"
      },
      "source": [
        "#------------------------------------------------\n",
        "# Plot training and validation loss per epoch\n",
        "#------------------------------------------------\n",
        "plt.plot(epochs, loss, 'r')\n",
        "plt.plot(epochs, val_loss, 'b')\n",
        "plt.title('Training and validation loss')\n",
        "plt.xlabel(\"Epochs\")\n",
        "plt.ylabel(\"Loss\")\n",
        "plt.legend([\"Loss\", \"Validation Loss\"])\n",
        "\n",
        "plt.figure()\n",
        "plt.show()"
      ],
      "execution_count": 32,
      "outputs": [
        {
          "output_type": "display_data",
          "data": {
            "image/png": "[encoded data removed]",
            "text/plain": [
              "<Figure size 432x288 with 1 Axes>"
            ]
          },
          "metadata": {
            "needs_background": "light"
          }
        },
        {
          "output_type": "display_data",
          "data": {
            "text/plain": [
              "<Figure size 432x288 with 0 Axes>"
            ]
          },
          "metadata": {}
        }
      ]
    }
  ]
}