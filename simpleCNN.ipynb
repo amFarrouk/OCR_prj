{
  "nbformat": 4,
  "nbformat_minor": 0,
  "metadata": {
    "colab": {
      "name": "simpleCNN.ipynb",
      "provenance": [],
      "collapsed_sections": [],
      "include_colab_link": true
    },
    "interpreter": {
      "hash": "652067eec5de986345d2a6410d7e1666adff1463be4220feb6214403227df83a"
    },
    "kernelspec": {
      "display_name": "Python 3.8.2 64-bit",
      "language": "python",
      "name": "python3"
    },
    "language_info": {
      "codemirror_mode": {
        "name": "ipython",
        "version": 3
      },
      "file_extension": ".py",
      "mimetype": "text/x-python",
      "name": "python",
      "nbconvert_exporter": "python",
      "pygments_lexer": "ipython3",
      "version": "3.8.2"
    },
    "accelerator": "GPU"
  },
  "cells": [
    {
      "cell_type": "markdown",
      "metadata": {
        "id": "view-in-github",
        "colab_type": "text"
      },
      "source": [
        "<a href=\"https://colab.research.google.com/github/amFarrouk/OCR_prj/blob/main/simpleCNN.ipynb\" target=\"_parent\"><img src=\"https://colab.research.google.com/assets/colab-badge.svg\" alt=\"Open In Colab\"/></a>"
      ]
    },
    {
      "cell_type": "code",
      "metadata": {
        "id": "nSohdxGbaaTI"
      },
      "source": [
        "import cv2\n",
        "import pandas as pd\n",
        "import os\n",
        "import matplotlib.pyplot as plt\n",
        "import zipfile"
      ],
      "execution_count": 1,
      "outputs": []
    },
    {
      "cell_type": "code",
      "metadata": {
        "id": "TjPvAvqIt2ad",
        "colab": {
          "base_uri": "https://localhost:8080/"
        },
        "outputId": "e5a874fd-4c03-4d50-a3c9-0aa5ce9fda39"
      },
      "source": [
        "!wget https://raw.githubusercontent.com/amFarrouk/OCR_prj/main/bdh.zip\n",
        "!unzip -qq ./bdh.zip \n",
        "!rm ./bdh.zip"
      ],
      "execution_count": 2,
      "outputs": [
        {
          "output_type": "stream",
          "name": "stdout",
          "text": [
            "--2021-12-06 02:31:51--  https://raw.githubusercontent.com/amFarrouk/OCR_prj/main/bdh.zip\n",
            "Resolving raw.githubusercontent.com (raw.githubusercontent.com)... 185.199.108.133, 185.199.109.133, 185.199.110.133, ...\n",
            "Connecting to raw.githubusercontent.com (raw.githubusercontent.com)|185.199.108.133|:443... connected.\n",
            "HTTP request sent, awaiting response... 200 OK\n",
            "Length: 7536168 (7.2M) [application/zip]\n",
            "Saving to: ‘bdh.zip’\n",
            "\n",
            "bdh.zip             100%[===================>]   7.19M  --.-KB/s    in 0.1s    \n",
            "\n",
            "2021-12-06 02:31:52 (71.6 MB/s) - ‘bdh.zip’ saved [7536168/7536168]\n",
            "\n"
          ]
        }
      ]
    },
    {
      "cell_type": "code",
      "metadata": {
        "colab": {
          "base_uri": "https://localhost:8080/"
        },
        "id": "X1y7XaIfQH3f",
        "outputId": "e706b1e4-7d16-4ae1-a196-c3e63550d14e"
      },
      "source": [
        "!wget https://www.dropbox.com/s/qpagi0h1089kr2f/images_df.csv"
      ],
      "execution_count": 3,
      "outputs": [
        {
          "output_type": "stream",
          "name": "stdout",
          "text": [
            "--2021-12-06 02:31:53--  https://www.dropbox.com/s/qpagi0h1089kr2f/images_df.csv\n",
            "Resolving www.dropbox.com (www.dropbox.com)... 162.125.81.18, 2620:100:6035:18::a27d:5512\n",
            "Connecting to www.dropbox.com (www.dropbox.com)|162.125.81.18|:443... connected.\n",
            "HTTP request sent, awaiting response... 301 Moved Permanently\n",
            "Location: /s/raw/qpagi0h1089kr2f/images_df.csv [following]\n",
            "--2021-12-06 02:31:54--  https://www.dropbox.com/s/raw/qpagi0h1089kr2f/images_df.csv\n",
            "Reusing existing connection to www.dropbox.com:443.\n",
            "HTTP request sent, awaiting response... 302 Found\n",
            "Location: https://uc73ae5d7ae4afc6784f58cd4572.dl.dropboxusercontent.com/cd/0/inline/BbRmLhYpVcFINIanQ5oClZBqfcGLKyTvX8ZBzIdhf1yv-pM661Rc3IsA_9Hk9hLhPd3VVrFptb4Oo6y10etuzSVj2amIPxJkqfilHNyAdlSu2g2Hcm8IV-h3rMxyA0i7ifPgVIq2oj6zcy_8dTaOE908/file# [following]\n",
            "--2021-12-06 02:31:54--  https://uc73ae5d7ae4afc6784f58cd4572.dl.dropboxusercontent.com/cd/0/inline/BbRmLhYpVcFINIanQ5oClZBqfcGLKyTvX8ZBzIdhf1yv-pM661Rc3IsA_9Hk9hLhPd3VVrFptb4Oo6y10etuzSVj2amIPxJkqfilHNyAdlSu2g2Hcm8IV-h3rMxyA0i7ifPgVIq2oj6zcy_8dTaOE908/file\n",
            "Resolving uc73ae5d7ae4afc6784f58cd4572.dl.dropboxusercontent.com (uc73ae5d7ae4afc6784f58cd4572.dl.dropboxusercontent.com)... 162.125.81.15, 2620:100:6035:15::a27d:550f\n",
            "Connecting to uc73ae5d7ae4afc6784f58cd4572.dl.dropboxusercontent.com (uc73ae5d7ae4afc6784f58cd4572.dl.dropboxusercontent.com)|162.125.81.15|:443... connected.\n",
            "HTTP request sent, awaiting response... 200 OK\n",
            "Length: 125438 (122K) [text/plain]\n",
            "Saving to: ‘images_df.csv’\n",
            "\n",
            "images_df.csv       100%[===================>] 122.50K  --.-KB/s    in 0.1s    \n",
            "\n",
            "2021-12-06 02:31:55 (932 KB/s) - ‘images_df.csv’ saved [125438/125438]\n",
            "\n"
          ]
        }
      ]
    },
    {
      "cell_type": "code",
      "metadata": {
        "colab": {
          "base_uri": "https://localhost:8080/",
          "height": 206
        },
        "id": "zQQ_xXdvSWPv",
        "outputId": "cc68f950-a0d4-4a6a-c533-dad03990c2a1"
      },
      "source": [
        "images_df=pd.read_csv(\"./images_df.csv\",header=None,names=[\"img\",\"label\"])\n",
        "images_df[\"label\"]=images_df[\"label\"].apply(lambda x : str(x))\n",
        "images_df.head()"
      ],
      "execution_count": 4,
      "outputs": [
        {
          "output_type": "execute_result",
          "data": {
            "text/html": [
              "<div>\n",
              "<style scoped>\n",
              "    .dataframe tbody tr th:only-of-type {\n",
              "        vertical-align: middle;\n",
              "    }\n",
              "\n",
              "    .dataframe tbody tr th {\n",
              "        vertical-align: top;\n",
              "    }\n",
              "\n",
              "    .dataframe thead th {\n",
              "        text-align: right;\n",
              "    }\n",
              "</style>\n",
              "<table border=\"1\" class=\"dataframe\">\n",
              "  <thead>\n",
              "    <tr style=\"text-align: right;\">\n",
              "      <th></th>\n",
              "      <th>img</th>\n",
              "      <th>label</th>\n",
              "    </tr>\n",
              "  </thead>\n",
              "  <tbody>\n",
              "    <tr>\n",
              "      <th>0</th>\n",
              "      <td>ae07_005.bmp</td>\n",
              "      <td>18</td>\n",
              "    </tr>\n",
              "    <tr>\n",
              "      <th>1</th>\n",
              "      <td>ae07_011.bmp</td>\n",
              "      <td>17</td>\n",
              "    </tr>\n",
              "    <tr>\n",
              "      <th>2</th>\n",
              "      <td>ae07_014.bmp</td>\n",
              "      <td>20</td>\n",
              "    </tr>\n",
              "    <tr>\n",
              "      <th>3</th>\n",
              "      <td>ae07_015.bmp</td>\n",
              "      <td>18</td>\n",
              "    </tr>\n",
              "    <tr>\n",
              "      <th>4</th>\n",
              "      <td>ae07_022.bmp</td>\n",
              "      <td>12</td>\n",
              "    </tr>\n",
              "  </tbody>\n",
              "</table>\n",
              "</div>"
            ],
            "text/plain": [
              "            img label\n",
              "0  ae07_005.bmp    18\n",
              "1  ae07_011.bmp    17\n",
              "2  ae07_014.bmp    20\n",
              "3  ae07_015.bmp    18\n",
              "4  ae07_022.bmp    12"
            ]
          },
          "metadata": {},
          "execution_count": 4
        }
      ]
    },
    {
      "cell_type": "code",
      "metadata": {
        "id": "B5AmEhiCaaTT"
      },
      "source": [
        "labels=images_df['label']\n",
        "labels=labels.to_numpy()"
      ],
      "execution_count": 5,
      "outputs": []
    },
    {
      "cell_type": "code",
      "metadata": {
        "colab": {
          "base_uri": "https://localhost:8080/",
          "height": 501
        },
        "id": "J48PNIZpaaTU",
        "outputId": "5c1ea5f7-4357-440f-e618-f0945fa0791e"
      },
      "source": [
        "plt.figure(figsize=(8,8))\n",
        "plt.xlim()\n",
        "plt.xlabel(\"labels\")\n",
        "plt.ylabel(\"num_words_in_labs\")\n",
        "plt.hist(labels,bins=22)\n",
        "plt.show()"
      ],
      "execution_count": 6,
      "outputs": [
        {
          "output_type": "display_data",
          "data": {
            "image/png": "[encoded data removed]",
            "text/plain": [
              "<Figure size 576x576 with 1 Axes>"
            ]
          },
          "metadata": {
            "needs_background": "light"
          }
        }
      ]
    },
    {
      "cell_type": "code",
      "metadata": {
        "colab": {
          "base_uri": "https://localhost:8080/"
        },
        "id": "KXNsE23raaTV",
        "outputId": "30716b1f-94b1-45a2-a078-b900eef26230"
      },
      "source": [
        "img=cv2.imread(\"./bdh/ae07_005.bmp\",cv2.IMREAD_GRAYSCALE)\n",
        "img.shape"
      ],
      "execution_count": 7,
      "outputs": [
        {
          "output_type": "execute_result",
          "data": {
            "text/plain": [
              "(114, 499)"
            ]
          },
          "metadata": {},
          "execution_count": 7
        }
      ]
    },
    {
      "cell_type": "code",
      "metadata": {
        "id": "KIx-JyKpaaTV"
      },
      "source": [
        "imgresize = cv2.resize(img, (760, 120)) "
      ],
      "execution_count": 8,
      "outputs": []
    },
    {
      "cell_type": "code",
      "metadata": {
        "colab": {
          "base_uri": "https://localhost:8080/",
          "height": 145
        },
        "id": "f-ICyXKbaaTW",
        "outputId": "ff05c521-d6fc-4615-cfb0-bf906b1edca0"
      },
      "source": [
        "plt.imshow(img)"
      ],
      "execution_count": 9,
      "outputs": [
        {
          "output_type": "execute_result",
          "data": {
            "text/plain": [
              "<matplotlib.image.AxesImage at 0x7fd916d4e8d0>"
            ]
          },
          "metadata": {},
          "execution_count": 9
        },
        {
          "output_type": "display_data",
          "data": {
            "image/png": "[encoded data removed]",
            "text/plain": [
              "<Figure size 432x288 with 1 Axes>"
            ]
          },
          "metadata": {
            "needs_background": "light"
          }
        }
      ]
    },
    {
      "cell_type": "code",
      "metadata": {
        "colab": {
          "base_uri": "https://localhost:8080/",
          "height": 122
        },
        "id": "Z_Dd9r-iaaTX",
        "outputId": "50196d68-6b35-4240-b8e6-1575abe97599"
      },
      "source": [
        "plt.imshow(imgresize)"
      ],
      "execution_count": 10,
      "outputs": [
        {
          "output_type": "execute_result",
          "data": {
            "text/plain": [
              "<matplotlib.image.AxesImage at 0x7fd916cbd210>"
            ]
          },
          "metadata": {},
          "execution_count": 10
        },
        {
          "output_type": "display_data",
          "data": {
            "image/png": "[encoded data removed]",
            "text/plain": [
              "<Figure size 432x288 with 1 Axes>"
            ]
          },
          "metadata": {
            "needs_background": "light"
          }
        }
      ]
    },
    {
      "cell_type": "code",
      "metadata": {
        "id": "JW5bEQO5aaTb"
      },
      "source": [
        "from sklearn.model_selection import train_test_split"
      ],
      "execution_count": 11,
      "outputs": []
    },
    {
      "cell_type": "code",
      "metadata": {
        "colab": {
          "base_uri": "https://localhost:8080/",
          "height": 224
        },
        "id": "7KgmfKvEaaTc",
        "outputId": "454429a6-2d89-4b0c-9675-a2c336b3ba4d"
      },
      "source": [
        "all_x,all_y=images_df[\"img\"],images_df[\"label\"]\n",
        "\n",
        "xtrain,xtest,ytrain,ytest=train_test_split(all_x,all_y,train_size=0.8,random_state=1,shuffle=True)\n",
        "\n",
        "train_df=pd.DataFrame(xtrain,columns=[\"img\"])\n",
        "train_df[\"label\"]=ytrain\n",
        "\n",
        "print(\"train_data:\")\n",
        "train_df.head()"
      ],
      "execution_count": 12,
      "outputs": [
        {
          "output_type": "stream",
          "name": "stdout",
          "text": [
            "train_data:\n"
          ]
        },
        {
          "output_type": "execute_result",
          "data": {
            "text/html": [
              "<div>\n",
              "<style scoped>\n",
              "    .dataframe tbody tr th:only-of-type {\n",
              "        vertical-align: middle;\n",
              "    }\n",
              "\n",
              "    .dataframe tbody tr th {\n",
              "        vertical-align: top;\n",
              "    }\n",
              "\n",
              "    .dataframe thead th {\n",
              "        text-align: right;\n",
              "    }\n",
              "</style>\n",
              "<table border=\"1\" class=\"dataframe\">\n",
              "  <thead>\n",
              "    <tr style=\"text-align: right;\">\n",
              "      <th></th>\n",
              "      <th>img</th>\n",
              "      <th>label</th>\n",
              "    </tr>\n",
              "  </thead>\n",
              "  <tbody>\n",
              "    <tr>\n",
              "      <th>5764</th>\n",
              "      <td>de12_032.bmp</td>\n",
              "      <td>16</td>\n",
              "    </tr>\n",
              "    <tr>\n",
              "      <th>7223</th>\n",
              "      <td>dm34_024.bmp</td>\n",
              "      <td>16</td>\n",
              "    </tr>\n",
              "    <tr>\n",
              "      <th>5124</th>\n",
              "      <td>cj14_066.bmp</td>\n",
              "      <td>13</td>\n",
              "    </tr>\n",
              "    <tr>\n",
              "      <th>5621</th>\n",
              "      <td>cq65_006.bmp</td>\n",
              "      <td>8</td>\n",
              "    </tr>\n",
              "    <tr>\n",
              "      <th>2624</th>\n",
              "      <td>bi06_006.bmp</td>\n",
              "      <td>16</td>\n",
              "    </tr>\n",
              "  </tbody>\n",
              "</table>\n",
              "</div>"
            ],
            "text/plain": [
              "               img label\n",
              "5764  de12_032.bmp    16\n",
              "7223  dm34_024.bmp    16\n",
              "5124  cj14_066.bmp    13\n",
              "5621  cq65_006.bmp     8\n",
              "2624  bi06_006.bmp    16"
            ]
          },
          "metadata": {},
          "execution_count": 12
        }
      ]
    },
    {
      "cell_type": "code",
      "metadata": {
        "colab": {
          "base_uri": "https://localhost:8080/",
          "height": 224
        },
        "id": "HzcTTXqGaaTc",
        "outputId": "1a784780-31f8-4a05-f23c-6997419b6d56"
      },
      "source": [
        "test_df=pd.DataFrame(xtest,columns=[\"img\"])\n",
        "test_df[\"label\"]=ytest\n",
        "\n",
        "print(\"test_data:\")\n",
        "test_df.head()"
      ],
      "execution_count": 13,
      "outputs": [
        {
          "output_type": "stream",
          "name": "stdout",
          "text": [
            "test_data:\n"
          ]
        },
        {
          "output_type": "execute_result",
          "data": {
            "text/html": [
              "<div>\n",
              "<style scoped>\n",
              "    .dataframe tbody tr th:only-of-type {\n",
              "        vertical-align: middle;\n",
              "    }\n",
              "\n",
              "    .dataframe tbody tr th {\n",
              "        vertical-align: top;\n",
              "    }\n",
              "\n",
              "    .dataframe thead th {\n",
              "        text-align: right;\n",
              "    }\n",
              "</style>\n",
              "<table border=\"1\" class=\"dataframe\">\n",
              "  <thead>\n",
              "    <tr style=\"text-align: right;\">\n",
              "      <th></th>\n",
              "      <th>img</th>\n",
              "      <th>label</th>\n",
              "    </tr>\n",
              "  </thead>\n",
              "  <tbody>\n",
              "    <tr>\n",
              "      <th>3069</th>\n",
              "      <td>bj01_033.bmp</td>\n",
              "      <td>3</td>\n",
              "    </tr>\n",
              "    <tr>\n",
              "      <th>642</th>\n",
              "      <td>af62_017.bmp</td>\n",
              "      <td>22</td>\n",
              "    </tr>\n",
              "    <tr>\n",
              "      <th>7266</th>\n",
              "      <td>dq06_018.bmp</td>\n",
              "      <td>8</td>\n",
              "    </tr>\n",
              "    <tr>\n",
              "      <th>5765</th>\n",
              "      <td>de12_034.bmp</td>\n",
              "      <td>16</td>\n",
              "    </tr>\n",
              "    <tr>\n",
              "      <th>2229</th>\n",
              "      <td>be92_023.bmp</td>\n",
              "      <td>13</td>\n",
              "    </tr>\n",
              "  </tbody>\n",
              "</table>\n",
              "</div>"
            ],
            "text/plain": [
              "               img label\n",
              "3069  bj01_033.bmp     3\n",
              "642   af62_017.bmp    22\n",
              "7266  dq06_018.bmp     8\n",
              "5765  de12_034.bmp    16\n",
              "2229  be92_023.bmp    13"
            ]
          },
          "metadata": {},
          "execution_count": 13
        }
      ]
    },
    {
      "cell_type": "code",
      "metadata": {
        "id": "zhoeMwk5aaTd"
      },
      "source": [
        "from tensorflow.keras.preprocessing.image import ImageDataGenerator"
      ],
      "execution_count": 14,
      "outputs": []
    },
    {
      "cell_type": "code",
      "metadata": {
        "id": "zIhTyw6HaaTd"
      },
      "source": [
        "train_image_gen=ImageDataGenerator(rescale=1.0/255)\n",
        "test_image_gen=ImageDataGenerator(rescale=1.0/255)"
      ],
      "execution_count": 15,
      "outputs": []
    },
    {
      "cell_type": "code",
      "metadata": {
        "colab": {
          "base_uri": "https://localhost:8080/"
        },
        "id": "ajLdcxGgaaTe",
        "outputId": "d2219bd1-cf6f-42df-cd93-569b7b56159f"
      },
      "source": [
        "train_image_gen=train_image_gen.flow_from_dataframe(train_df,x_col=\"img\",y_col=\"label\",\n",
        "                                            directory=\"./bdh\",\n",
        "                                            batch_size=32,\n",
        "                                            target_size=(imgresize.shape[0],imgresize.shape[1]),\n",
        "                                            color_mode='grayscale',\n",
        "                                            class_mode='categorical')"
      ],
      "execution_count": 16,
      "outputs": [
        {
          "output_type": "stream",
          "name": "stdout",
          "text": [
            "Found 6048 validated image filenames belonging to 22 classes.\n"
          ]
        }
      ]
    },
    {
      "cell_type": "code",
      "metadata": {
        "colab": {
          "base_uri": "https://localhost:8080/"
        },
        "id": "9l75gGK2aaTf",
        "outputId": "ec6c6c66-cb79-431b-be62-a41317e5e5ac"
      },
      "source": [
        "test_image_gen=test_image_gen.flow_from_dataframe(test_df,x_col=\"img\",y_col=\"label\",\n",
        "                                            directory=\"./bdh\",\n",
        "                                            batch_size=32,\n",
        "                                            target_size=(imgresize.shape[0],imgresize.shape[1]),\n",
        "                                            color_mode='grayscale',\n",
        "                                            class_mode='categorical')"
      ],
      "execution_count": 17,
      "outputs": [
        {
          "output_type": "stream",
          "name": "stdout",
          "text": [
            "Found 1512 validated image filenames belonging to 22 classes.\n"
          ]
        }
      ]
    },
    {
      "cell_type": "code",
      "metadata": {
        "id": "NCfVKSaUaaTf"
      },
      "source": [
        "import tensorflow as tf"
      ],
      "execution_count": 18,
      "outputs": []
    },
    {
      "cell_type": "code",
      "metadata": {
        "id": "M4CuMufWaaTg"
      },
      "source": [
        "model = tf.keras.models.Sequential([\n",
        "    # Note the input shape is the desired size of the image 760x120 with 1 bytes color\n",
        "    # This is the first convolution\n",
        "    tf.keras.layers.Conv2D(32, (3,3), activation='relu', input_shape=(760, 120, 1)),\n",
        "    tf.keras.layers.MaxPooling2D(2, 2),\n",
        "    # The third convolution\n",
        "    tf.keras.layers.Conv2D(64, (3,3), activation='relu'),\n",
        "    tf.keras.layers.MaxPooling2D(2,2),\n",
        "    # The fourth convolution\n",
        "    tf.keras.layers.Conv2D(64, (3,3), activation='relu'),\n",
        "    tf.keras.layers.MaxPooling2D(2,2),\n",
        "    # Flatten the results to feed into a DNN\n",
        "    tf.keras.layers.Flatten(),\n",
        "    # 64 neuron hidden layer\n",
        "    tf.keras.layers.Dense(64, activation='relu'),\n",
        "    # Only 22 output neuron.\n",
        "    tf.keras.layers.Dense(22, activation='softmax')\n",
        "])"
      ],
      "execution_count": 19,
      "outputs": []
    },
    {
      "cell_type": "code",
      "metadata": {
        "id": "5DEMFMntaaTg"
      },
      "source": [
        "loss=tf.keras.losses.categorical_crossentropy\n",
        "optim=tf.keras.optimizers.Adam()"
      ],
      "execution_count": 20,
      "outputs": []
    },
    {
      "cell_type": "code",
      "metadata": {
        "id": "i_QUKf64aaTh"
      },
      "source": [
        "model.compile(optimizer=optim, loss=loss, metrics=['accuracy'])"
      ],
      "execution_count": 21,
      "outputs": []
    },
    {
      "cell_type": "code",
      "metadata": {
        "colab": {
          "base_uri": "https://localhost:8080/"
        },
        "id": "xaBMgB-BCiGE",
        "outputId": "780fad06-bc6d-4beb-ed61-6fb878dffb0b"
      },
      "source": [
        "model.summary()"
      ],
      "execution_count": 22,
      "outputs": [
        {
          "output_type": "stream",
          "name": "stdout",
          "text": [
            "Model: \"sequential\"\n",
            "_________________________________________________________________\n",
            " Layer (type)                Output Shape              Param #   \n",
            "=================================================================\n",
            " conv2d (Conv2D)             (None, 758, 118, 32)      320       \n",
            "                                                                 \n",
            " max_pooling2d (MaxPooling2D  (None, 379, 59, 32)      0         \n",
            " )                                                               \n",
            "                                                                 \n",
            " conv2d_1 (Conv2D)           (None, 377, 57, 64)       18496     \n",
            "                                                                 \n",
            " max_pooling2d_1 (MaxPooling  (None, 188, 28, 64)      0         \n",
            " 2D)                                                             \n",
            "                                                                 \n",
            " conv2d_2 (Conv2D)           (None, 186, 26, 64)       36928     \n",
            "                                                                 \n",
            " max_pooling2d_2 (MaxPooling  (None, 93, 13, 64)       0         \n",
            " 2D)                                                             \n",
            "                                                                 \n",
            " flatten (Flatten)           (None, 77376)             0         \n",
            "                                                                 \n",
            " dense (Dense)               (None, 64)                4952128   \n",
            "                                                                 \n",
            " dense_1 (Dense)             (None, 22)                1430      \n",
            "                                                                 \n",
            "=================================================================\n",
            "Total params: 5,009,302\n",
            "Trainable params: 5,009,302\n",
            "Non-trainable params: 0\n",
            "_________________________________________________________________\n"
          ]
        }
      ]
    },
    {
      "cell_type": "code",
      "metadata": {
        "colab": {
          "base_uri": "https://localhost:8080/"
        },
        "id": "zuRqSD63aaTh",
        "outputId": "312c1e0e-fa56-46ac-ba98-23d3cc222869"
      },
      "source": [
        "history=model.fit(train_image_gen,epochs=100,steps_per_epoch=189,validation_data=test_image_gen)"
      ],
      "execution_count": 23,
      "outputs": [
        {
          "output_type": "stream",
          "name": "stdout",
          "text": [
            "Epoch 1/100\n",
            "189/189 [==============================] - 44s 162ms/step - loss: 0.6711 - accuracy: 0.8084 - val_loss: 0.2852 - val_accuracy: 0.9021\n",
            "Epoch 2/100\n",
            "189/189 [==============================] - 30s 160ms/step - loss: 0.0569 - accuracy: 0.9810 - val_loss: 0.2903 - val_accuracy: 0.9081\n",
            "Epoch 3/100\n",
            "189/189 [==============================] - 30s 160ms/step - loss: 0.0305 - accuracy: 0.9901 - val_loss: 0.3214 - val_accuracy: 0.9246\n",
            "Epoch 4/100\n",
            "189/189 [==============================] - 30s 160ms/step - loss: 0.0216 - accuracy: 0.9916 - val_loss: 0.2834 - val_accuracy: 0.9325\n",
            "Epoch 5/100\n",
            "189/189 [==============================] - 30s 159ms/step - loss: 0.0257 - accuracy: 0.9902 - val_loss: 0.2214 - val_accuracy: 0.9458\n",
            "Epoch 6/100\n",
            "189/189 [==============================] - 30s 159ms/step - loss: 0.0107 - accuracy: 0.9970 - val_loss: 0.2468 - val_accuracy: 0.9431\n",
            "Epoch 7/100\n",
            "189/189 [==============================] - 30s 160ms/step - loss: 0.0052 - accuracy: 0.9987 - val_loss: 0.2453 - val_accuracy: 0.9517\n",
            "Epoch 8/100\n",
            "189/189 [==============================] - 30s 160ms/step - loss: 4.1415e-04 - accuracy: 1.0000 - val_loss: 0.2269 - val_accuracy: 0.9550\n",
            "Epoch 9/100\n",
            "189/189 [==============================] - 30s 159ms/step - loss: 5.2228e-05 - accuracy: 1.0000 - val_loss: 0.2310 - val_accuracy: 0.9570\n",
            "Epoch 10/100\n",
            "189/189 [==============================] - 30s 160ms/step - loss: 1.8070e-05 - accuracy: 1.0000 - val_loss: 0.2342 - val_accuracy: 0.9583\n",
            "Epoch 11/100\n",
            "189/189 [==============================] - 30s 160ms/step - loss: 1.2742e-05 - accuracy: 1.0000 - val_loss: 0.2370 - val_accuracy: 0.9583\n",
            "Epoch 12/100\n",
            "189/189 [==============================] - 30s 160ms/step - loss: 9.8417e-06 - accuracy: 1.0000 - val_loss: 0.2398 - val_accuracy: 0.9590\n",
            "Epoch 13/100\n",
            "189/189 [==============================] - 30s 160ms/step - loss: 7.8720e-06 - accuracy: 1.0000 - val_loss: 0.2424 - val_accuracy: 0.9597\n",
            "Epoch 14/100\n",
            "189/189 [==============================] - 30s 160ms/step - loss: 6.4482e-06 - accuracy: 1.0000 - val_loss: 0.2448 - val_accuracy: 0.9597\n",
            "Epoch 15/100\n",
            "189/189 [==============================] - 30s 160ms/step - loss: 5.3857e-06 - accuracy: 1.0000 - val_loss: 0.2472 - val_accuracy: 0.9590\n",
            "Epoch 16/100\n",
            "189/189 [==============================] - 30s 161ms/step - loss: 4.5473e-06 - accuracy: 1.0000 - val_loss: 0.2494 - val_accuracy: 0.9590\n",
            "Epoch 17/100\n",
            "189/189 [==============================] - 30s 160ms/step - loss: 3.8801e-06 - accuracy: 1.0000 - val_loss: 0.2515 - val_accuracy: 0.9597\n",
            "Epoch 18/100\n",
            "189/189 [==============================] - 30s 160ms/step - loss: 3.3315e-06 - accuracy: 1.0000 - val_loss: 0.2535 - val_accuracy: 0.9597\n",
            "Epoch 19/100\n",
            "189/189 [==============================] - 30s 160ms/step - loss: 2.8798e-06 - accuracy: 1.0000 - val_loss: 0.2557 - val_accuracy: 0.9597\n",
            "Epoch 20/100\n",
            "189/189 [==============================] - 30s 160ms/step - loss: 2.5020e-06 - accuracy: 1.0000 - val_loss: 0.2577 - val_accuracy: 0.9597\n",
            "Epoch 21/100\n",
            "189/189 [==============================] - 30s 160ms/step - loss: 2.1836e-06 - accuracy: 1.0000 - val_loss: 0.2596 - val_accuracy: 0.9597\n",
            "Epoch 22/100\n",
            "189/189 [==============================] - 30s 160ms/step - loss: 1.9117e-06 - accuracy: 1.0000 - val_loss: 0.2615 - val_accuracy: 0.9597\n",
            "Epoch 23/100\n",
            "189/189 [==============================] - 30s 161ms/step - loss: 1.6801e-06 - accuracy: 1.0000 - val_loss: 0.2634 - val_accuracy: 0.9597\n",
            "Epoch 24/100\n",
            "189/189 [==============================] - 30s 161ms/step - loss: 1.4789e-06 - accuracy: 1.0000 - val_loss: 0.2654 - val_accuracy: 0.9597\n",
            "Epoch 25/100\n",
            "189/189 [==============================] - 30s 160ms/step - loss: 1.3062e-06 - accuracy: 1.0000 - val_loss: 0.2672 - val_accuracy: 0.9603\n",
            "Epoch 26/100\n",
            "189/189 [==============================] - 30s 160ms/step - loss: 1.1553e-06 - accuracy: 1.0000 - val_loss: 0.2690 - val_accuracy: 0.9603\n",
            "Epoch 27/100\n",
            "189/189 [==============================] - 30s 161ms/step - loss: 1.0247e-06 - accuracy: 1.0000 - val_loss: 0.2708 - val_accuracy: 0.9603\n",
            "Epoch 28/100\n",
            "189/189 [==============================] - 30s 160ms/step - loss: 9.1052e-07 - accuracy: 1.0000 - val_loss: 0.2726 - val_accuracy: 0.9610\n",
            "Epoch 29/100\n",
            "189/189 [==============================] - 30s 160ms/step - loss: 8.0938e-07 - accuracy: 1.0000 - val_loss: 0.2744 - val_accuracy: 0.9610\n",
            "Epoch 30/100\n",
            "189/189 [==============================] - 30s 161ms/step - loss: 7.2081e-07 - accuracy: 1.0000 - val_loss: 0.2763 - val_accuracy: 0.9610\n",
            "Epoch 31/100\n",
            "189/189 [==============================] - 30s 160ms/step - loss: 6.4238e-07 - accuracy: 1.0000 - val_loss: 0.2780 - val_accuracy: 0.9610\n",
            "Epoch 32/100\n",
            "189/189 [==============================] - 30s 161ms/step - loss: 5.7353e-07 - accuracy: 1.0000 - val_loss: 0.2798 - val_accuracy: 0.9603\n",
            "Epoch 33/100\n",
            "189/189 [==============================] - 30s 160ms/step - loss: 5.1170e-07 - accuracy: 1.0000 - val_loss: 0.2816 - val_accuracy: 0.9603\n",
            "Epoch 34/100\n",
            "189/189 [==============================] - 30s 160ms/step - loss: 4.5722e-07 - accuracy: 1.0000 - val_loss: 0.2833 - val_accuracy: 0.9603\n",
            "Epoch 35/100\n",
            "189/189 [==============================] - 30s 160ms/step - loss: 4.0872e-07 - accuracy: 1.0000 - val_loss: 0.2850 - val_accuracy: 0.9597\n",
            "Epoch 36/100\n",
            "189/189 [==============================] - 30s 160ms/step - loss: 3.6634e-07 - accuracy: 1.0000 - val_loss: 0.2867 - val_accuracy: 0.9597\n",
            "Epoch 37/100\n",
            "189/189 [==============================] - 30s 160ms/step - loss: 3.2826e-07 - accuracy: 1.0000 - val_loss: 0.2885 - val_accuracy: 0.9597\n",
            "Epoch 38/100\n",
            "189/189 [==============================] - 30s 161ms/step - loss: 2.9412e-07 - accuracy: 1.0000 - val_loss: 0.2901 - val_accuracy: 0.9603\n",
            "Epoch 39/100\n",
            "189/189 [==============================] - 30s 161ms/step - loss: 2.6355e-07 - accuracy: 1.0000 - val_loss: 0.2919 - val_accuracy: 0.9603\n",
            "Epoch 40/100\n",
            "189/189 [==============================] - 30s 161ms/step - loss: 2.3603e-07 - accuracy: 1.0000 - val_loss: 0.2936 - val_accuracy: 0.9603\n",
            "Epoch 41/100\n",
            "189/189 [==============================] - 30s 160ms/step - loss: 2.1173e-07 - accuracy: 1.0000 - val_loss: 0.2953 - val_accuracy: 0.9603\n",
            "Epoch 42/100\n",
            "189/189 [==============================] - 30s 160ms/step - loss: 1.9021e-07 - accuracy: 1.0000 - val_loss: 0.2970 - val_accuracy: 0.9603\n",
            "Epoch 43/100\n",
            "189/189 [==============================] - 30s 160ms/step - loss: 1.7073e-07 - accuracy: 1.0000 - val_loss: 0.2987 - val_accuracy: 0.9603\n",
            "Epoch 44/100\n",
            "189/189 [==============================] - 30s 160ms/step - loss: 1.5362e-07 - accuracy: 1.0000 - val_loss: 0.3003 - val_accuracy: 0.9603\n",
            "Epoch 45/100\n",
            "189/189 [==============================] - 30s 160ms/step - loss: 1.3797e-07 - accuracy: 1.0000 - val_loss: 0.3020 - val_accuracy: 0.9603\n",
            "Epoch 46/100\n",
            "189/189 [==============================] - 30s 160ms/step - loss: 1.2408e-07 - accuracy: 1.0000 - val_loss: 0.3037 - val_accuracy: 0.9603\n",
            "Epoch 47/100\n",
            "189/189 [==============================] - 30s 160ms/step - loss: 1.1182e-07 - accuracy: 1.0000 - val_loss: 0.3054 - val_accuracy: 0.9603\n",
            "Epoch 48/100\n",
            "189/189 [==============================] - 30s 160ms/step - loss: 1.0033e-07 - accuracy: 1.0000 - val_loss: 0.3070 - val_accuracy: 0.9603\n",
            "Epoch 49/100\n",
            "189/189 [==============================] - 30s 160ms/step - loss: 9.0018e-08 - accuracy: 1.0000 - val_loss: 0.3087 - val_accuracy: 0.9603\n",
            "Epoch 50/100\n",
            "189/189 [==============================] - 30s 160ms/step - loss: 8.1089e-08 - accuracy: 1.0000 - val_loss: 0.3104 - val_accuracy: 0.9603\n",
            "Epoch 51/100\n",
            "189/189 [==============================] - 30s 160ms/step - loss: 7.2791e-08 - accuracy: 1.0000 - val_loss: 0.3120 - val_accuracy: 0.9603\n",
            "Epoch 52/100\n",
            "189/189 [==============================] - 30s 160ms/step - loss: 6.5478e-08 - accuracy: 1.0000 - val_loss: 0.3137 - val_accuracy: 0.9603\n",
            "Epoch 53/100\n",
            "189/189 [==============================] - 30s 160ms/step - loss: 5.8954e-08 - accuracy: 1.0000 - val_loss: 0.3153 - val_accuracy: 0.9603\n",
            "Epoch 54/100\n",
            "189/189 [==============================] - 30s 160ms/step - loss: 5.3120e-08 - accuracy: 1.0000 - val_loss: 0.3169 - val_accuracy: 0.9603\n",
            "Epoch 55/100\n",
            "189/189 [==============================] - 30s 161ms/step - loss: 4.7778e-08 - accuracy: 1.0000 - val_loss: 0.3184 - val_accuracy: 0.9603\n",
            "Epoch 56/100\n",
            "189/189 [==============================] - 30s 160ms/step - loss: 4.3127e-08 - accuracy: 1.0000 - val_loss: 0.3200 - val_accuracy: 0.9603\n",
            "Epoch 57/100\n",
            "189/189 [==============================] - 30s 160ms/step - loss: 3.9145e-08 - accuracy: 1.0000 - val_loss: 0.3216 - val_accuracy: 0.9603\n",
            "Epoch 58/100\n",
            "189/189 [==============================] - 30s 160ms/step - loss: 3.5183e-08 - accuracy: 1.0000 - val_loss: 0.3232 - val_accuracy: 0.9610\n",
            "Epoch 59/100\n",
            "189/189 [==============================] - 30s 160ms/step - loss: 3.1793e-08 - accuracy: 1.0000 - val_loss: 0.3247 - val_accuracy: 0.9610\n",
            "Epoch 60/100\n",
            "189/189 [==============================] - 30s 161ms/step - loss: 2.8561e-08 - accuracy: 1.0000 - val_loss: 0.3262 - val_accuracy: 0.9610\n",
            "Epoch 61/100\n",
            "189/189 [==============================] - 30s 160ms/step - loss: 2.5624e-08 - accuracy: 1.0000 - val_loss: 0.3277 - val_accuracy: 0.9610\n",
            "Epoch 62/100\n",
            "189/189 [==============================] - 30s 161ms/step - loss: 2.3396e-08 - accuracy: 1.0000 - val_loss: 0.3293 - val_accuracy: 0.9610\n",
            "Epoch 63/100\n",
            "189/189 [==============================] - 30s 161ms/step - loss: 2.1347e-08 - accuracy: 1.0000 - val_loss: 0.3308 - val_accuracy: 0.9616\n",
            "Epoch 64/100\n",
            "189/189 [==============================] - 30s 161ms/step - loss: 1.9218e-08 - accuracy: 1.0000 - val_loss: 0.3324 - val_accuracy: 0.9616\n",
            "Epoch 65/100\n",
            "189/189 [==============================] - 30s 160ms/step - loss: 1.7247e-08 - accuracy: 1.0000 - val_loss: 0.3339 - val_accuracy: 0.9616\n",
            "Epoch 66/100\n",
            "189/189 [==============================] - 30s 161ms/step - loss: 1.5552e-08 - accuracy: 1.0000 - val_loss: 0.3354 - val_accuracy: 0.9616\n",
            "Epoch 67/100\n",
            "189/189 [==============================] - 30s 161ms/step - loss: 1.4034e-08 - accuracy: 1.0000 - val_loss: 0.3367 - val_accuracy: 0.9616\n",
            "Epoch 68/100\n",
            "189/189 [==============================] - 30s 161ms/step - loss: 1.2713e-08 - accuracy: 1.0000 - val_loss: 0.3381 - val_accuracy: 0.9616\n",
            "Epoch 69/100\n",
            "189/189 [==============================] - 30s 160ms/step - loss: 1.1472e-08 - accuracy: 1.0000 - val_loss: 0.3394 - val_accuracy: 0.9616\n",
            "Epoch 70/100\n",
            "189/189 [==============================] - 30s 161ms/step - loss: 1.0269e-08 - accuracy: 1.0000 - val_loss: 0.3407 - val_accuracy: 0.9616\n",
            "Epoch 71/100\n",
            "189/189 [==============================] - 30s 161ms/step - loss: 9.2837e-09 - accuracy: 1.0000 - val_loss: 0.3418 - val_accuracy: 0.9616\n",
            "Epoch 72/100\n",
            "189/189 [==============================] - 30s 161ms/step - loss: 8.3967e-09 - accuracy: 1.0000 - val_loss: 0.3428 - val_accuracy: 0.9616\n",
            "Epoch 73/100\n",
            "189/189 [==============================] - 30s 160ms/step - loss: 7.7462e-09 - accuracy: 1.0000 - val_loss: 0.3439 - val_accuracy: 0.9616\n",
            "Epoch 74/100\n",
            "189/189 [==============================] - 30s 161ms/step - loss: 7.0564e-09 - accuracy: 1.0000 - val_loss: 0.3450 - val_accuracy: 0.9616\n",
            "Epoch 75/100\n",
            "189/189 [==============================] - 30s 160ms/step - loss: 6.5045e-09 - accuracy: 1.0000 - val_loss: 0.3460 - val_accuracy: 0.9616\n",
            "Epoch 76/100\n",
            "189/189 [==============================] - 30s 160ms/step - loss: 5.8934e-09 - accuracy: 1.0000 - val_loss: 0.3468 - val_accuracy: 0.9616\n",
            "Epoch 77/100\n",
            "189/189 [==============================] - 30s 159ms/step - loss: 5.3021e-09 - accuracy: 1.0000 - val_loss: 0.3474 - val_accuracy: 0.9616\n",
            "Epoch 78/100\n",
            "189/189 [==============================] - 30s 160ms/step - loss: 4.9079e-09 - accuracy: 1.0000 - val_loss: 0.3481 - val_accuracy: 0.9610\n",
            "Epoch 79/100\n",
            "189/189 [==============================] - 30s 161ms/step - loss: 4.5334e-09 - accuracy: 1.0000 - val_loss: 0.3488 - val_accuracy: 0.9616\n",
            "Epoch 80/100\n",
            "189/189 [==============================] - 30s 161ms/step - loss: 4.1786e-09 - accuracy: 1.0000 - val_loss: 0.3493 - val_accuracy: 0.9616\n",
            "Epoch 81/100\n",
            "189/189 [==============================] - 30s 161ms/step - loss: 3.8830e-09 - accuracy: 1.0000 - val_loss: 0.3499 - val_accuracy: 0.9616\n",
            "Epoch 82/100\n",
            "189/189 [==============================] - 30s 160ms/step - loss: 3.5282e-09 - accuracy: 1.0000 - val_loss: 0.3503 - val_accuracy: 0.9610\n",
            "Epoch 83/100\n",
            "189/189 [==============================] - 30s 161ms/step - loss: 3.3114e-09 - accuracy: 1.0000 - val_loss: 0.3505 - val_accuracy: 0.9610\n",
            "Epoch 84/100\n",
            "189/189 [==============================] - 30s 161ms/step - loss: 2.9763e-09 - accuracy: 1.0000 - val_loss: 0.3504 - val_accuracy: 0.9610\n",
            "Epoch 85/100\n",
            "189/189 [==============================] - 30s 160ms/step - loss: 2.8186e-09 - accuracy: 1.0000 - val_loss: 0.3502 - val_accuracy: 0.9610\n",
            "Epoch 86/100\n",
            "189/189 [==============================] - 30s 161ms/step - loss: 2.6609e-09 - accuracy: 1.0000 - val_loss: 0.3498 - val_accuracy: 0.9610\n",
            "Epoch 87/100\n",
            "189/189 [==============================] - 31s 162ms/step - loss: 2.5821e-09 - accuracy: 1.0000 - val_loss: 0.3493 - val_accuracy: 0.9610\n",
            "Epoch 88/100\n",
            "189/189 [==============================] - 31s 161ms/step - loss: 2.5624e-09 - accuracy: 1.0000 - val_loss: 0.3490 - val_accuracy: 0.9603\n",
            "Epoch 89/100\n",
            "189/189 [==============================] - 30s 161ms/step - loss: 2.3850e-09 - accuracy: 1.0000 - val_loss: 0.3481 - val_accuracy: 0.9603\n",
            "Epoch 90/100\n",
            "189/189 [==============================] - 30s 161ms/step - loss: 2.4047e-09 - accuracy: 1.0000 - val_loss: 0.3476 - val_accuracy: 0.9603\n",
            "Epoch 91/100\n",
            "189/189 [==============================] - 31s 162ms/step - loss: 2.4244e-09 - accuracy: 1.0000 - val_loss: 0.3468 - val_accuracy: 0.9603\n",
            "Epoch 92/100\n",
            "189/189 [==============================] - 31s 162ms/step - loss: 2.4638e-09 - accuracy: 1.0000 - val_loss: 0.3463 - val_accuracy: 0.9603\n",
            "Epoch 93/100\n",
            "189/189 [==============================] - 31s 162ms/step - loss: 2.1484e-09 - accuracy: 1.0000 - val_loss: 0.3446 - val_accuracy: 0.9603\n",
            "Epoch 94/100\n",
            "189/189 [==============================] - 31s 162ms/step - loss: 2.4441e-09 - accuracy: 1.0000 - val_loss: 0.3439 - val_accuracy: 0.9603\n",
            "Epoch 95/100\n",
            "189/189 [==============================] - 31s 162ms/step - loss: 2.3653e-09 - accuracy: 1.0000 - val_loss: 0.3428 - val_accuracy: 0.9603\n",
            "Epoch 96/100\n",
            "189/189 [==============================] - 30s 161ms/step - loss: 2.4047e-09 - accuracy: 1.0000 - val_loss: 0.3417 - val_accuracy: 0.9603\n",
            "Epoch 97/100\n",
            "189/189 [==============================] - 31s 162ms/step - loss: 2.2864e-09 - accuracy: 1.0000 - val_loss: 0.3403 - val_accuracy: 0.9603\n",
            "Epoch 98/100\n",
            "189/189 [==============================] - 31s 162ms/step - loss: 2.4638e-09 - accuracy: 1.0000 - val_loss: 0.3393 - val_accuracy: 0.9603\n",
            "Epoch 99/100\n",
            "189/189 [==============================] - 31s 162ms/step - loss: 2.3653e-09 - accuracy: 1.0000 - val_loss: 0.3382 - val_accuracy: 0.9597\n",
            "Epoch 100/100\n",
            "189/189 [==============================] - 31s 162ms/step - loss: 2.3850e-09 - accuracy: 1.0000 - val_loss: 0.3363 - val_accuracy: 0.9597\n"
          ]
        }
      ]
    },
    {
      "cell_type": "code",
      "metadata": {
        "id": "wSvl_wlCgGm1"
      },
      "source": [
        ""
      ],
      "execution_count": 23,
      "outputs": []
    }
  ]
}