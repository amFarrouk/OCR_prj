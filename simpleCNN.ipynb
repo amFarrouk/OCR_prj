{
  "nbformat": 4,
  "nbformat_minor": 0,
  "metadata": {
    "colab": {
      "name": "simpleCNN.ipynb",
      "provenance": [],
      "collapsed_sections": [],
      "include_colab_link": true
    },
    "interpreter": {
      "hash": "652067eec5de986345d2a6410d7e1666adff1463be4220feb6214403227df83a"
    },
    "kernelspec": {
      "display_name": "Python 3.8.2 64-bit",
      "language": "python",
      "name": "python3"
    },
    "language_info": {
      "codemirror_mode": {
        "name": "ipython",
        "version": 3
      },
      "file_extension": ".py",
      "mimetype": "text/x-python",
      "name": "python",
      "nbconvert_exporter": "python",
      "pygments_lexer": "ipython3",
      "version": "3.8.2"
    },
    "accelerator": "GPU"
  },
  "cells": [
    {
      "cell_type": "markdown",
      "metadata": {
        "id": "view-in-github",
        "colab_type": "text"
      },
      "source": [
        "<a href=\"https://colab.research.google.com/github/amFarrouk/OCR_prj/blob/main/simpleCNN.ipynb\" target=\"_parent\"><img src=\"https://colab.research.google.com/assets/colab-badge.svg\" alt=\"Open In Colab\"/></a>"
      ]
    },
    {
      "cell_type": "code",
      "metadata": {
        "id": "nSohdxGbaaTI"
      },
      "source": [
        "import cv2\n",
        "import pandas as pd\n",
        "import os\n",
        "import matplotlib.pyplot as plt\n",
        "import zipfile"
      ],
      "execution_count": 1,
      "outputs": []
    },
    {
      "cell_type": "code",
      "metadata": {
        "id": "TjPvAvqIt2ad",
        "colab": {
          "base_uri": "https://localhost:8080/"
        },
        "outputId": "32928202-7f69-49e4-db58-9d2dc16e8e35"
      },
      "source": [
        "!wget https://raw.githubusercontent.com/amFarrouk/OCR_prj/main/bdh.zip\n",
        "!unzip -qq ./bdh.zip \n",
        "!rm ./bdh.zip"
      ],
      "execution_count": 2,
      "outputs": [
        {
          "output_type": "stream",
          "name": "stdout",
          "text": [
            "--2021-12-05 20:49:22--  https://raw.githubusercontent.com/amFarrouk/OCR_prj/main/bdh.zip\n",
            "Resolving raw.githubusercontent.com (raw.githubusercontent.com)... 185.199.111.133, 185.199.108.133, 185.199.110.133, ...\n",
            "Connecting to raw.githubusercontent.com (raw.githubusercontent.com)|185.199.111.133|:443... connected.\n",
            "HTTP request sent, awaiting response... 200 OK\n",
            "Length: 7536168 (7.2M) [application/zip]\n",
            "Saving to: ‘bdh.zip’\n",
            "\n",
            "\rbdh.zip               0%[                    ]       0  --.-KB/s               \rbdh.zip             100%[===================>]   7.19M  --.-KB/s    in 0.09s   \n",
            "\n",
            "2021-12-05 20:49:23 (82.6 MB/s) - ‘bdh.zip’ saved [7536168/7536168]\n",
            "\n"
          ]
        }
      ]
    },
    {
      "cell_type": "code",
      "metadata": {
        "colab": {
          "base_uri": "https://localhost:8080/"
        },
        "id": "X1y7XaIfQH3f",
        "outputId": "88eda1c2-5653-4e7a-d949-7c68f702d49a"
      },
      "source": [
        "!wget https://www.dropbox.com/s/qpagi0h1089kr2f/images_df.csv"
      ],
      "execution_count": 3,
      "outputs": [
        {
          "output_type": "stream",
          "name": "stdout",
          "text": [
            "--2021-12-05 20:49:29--  https://www.dropbox.com/s/qpagi0h1089kr2f/images_df.csv\n",
            "Resolving www.dropbox.com (www.dropbox.com)... 162.125.3.18, 2620:100:6018:18::a27d:312\n",
            "Connecting to www.dropbox.com (www.dropbox.com)|162.125.3.18|:443... connected.\n",
            "HTTP request sent, awaiting response... 301 Moved Permanently\n",
            "Location: /s/raw/qpagi0h1089kr2f/images_df.csv [following]\n",
            "--2021-12-05 20:49:30--  https://www.dropbox.com/s/raw/qpagi0h1089kr2f/images_df.csv\n",
            "Reusing existing connection to www.dropbox.com:443.\n",
            "HTTP request sent, awaiting response... 302 Found\n",
            "Location: https://uc1e536f810357d284bd5cef6af5.dl.dropboxusercontent.com/cd/0/inline/BbSqOT9bVfl3DGklAafCx3-NijCHB62lg2acgIjOqdMhQ-Ev5EOEkoBtk42JFuHIyCmQgDjPIT0_XpvDOR3HrCjo3rYifa4eLZ29iS2ZMkqty9A-yCSTBopl8s9RYJKoaocmnDv5ScBhp4n99ENIL0Eh/file# [following]\n",
            "--2021-12-05 20:49:30--  https://uc1e536f810357d284bd5cef6af5.dl.dropboxusercontent.com/cd/0/inline/BbSqOT9bVfl3DGklAafCx3-NijCHB62lg2acgIjOqdMhQ-Ev5EOEkoBtk42JFuHIyCmQgDjPIT0_XpvDOR3HrCjo3rYifa4eLZ29iS2ZMkqty9A-yCSTBopl8s9RYJKoaocmnDv5ScBhp4n99ENIL0Eh/file\n",
            "Resolving uc1e536f810357d284bd5cef6af5.dl.dropboxusercontent.com (uc1e536f810357d284bd5cef6af5.dl.dropboxusercontent.com)... 162.125.64.15, 2620:100:601c:15::a27d:60f\n",
            "Connecting to uc1e536f810357d284bd5cef6af5.dl.dropboxusercontent.com (uc1e536f810357d284bd5cef6af5.dl.dropboxusercontent.com)|162.125.64.15|:443... connected.\n",
            "HTTP request sent, awaiting response... 200 OK\n",
            "Length: 125438 (122K) [text/plain]\n",
            "Saving to: ‘images_df.csv’\n",
            "\n",
            "images_df.csv       100%[===================>] 122.50K   465KB/s    in 0.3s    \n",
            "\n",
            "2021-12-05 20:49:31 (465 KB/s) - ‘images_df.csv’ saved [125438/125438]\n",
            "\n"
          ]
        }
      ]
    },
    {
      "cell_type": "code",
      "metadata": {
        "colab": {
          "base_uri": "https://localhost:8080/",
          "height": 206
        },
        "id": "zQQ_xXdvSWPv",
        "outputId": "f06b738c-d8f4-4d89-d2c5-2e2b7beed082"
      },
      "source": [
        "images_df=pd.read_csv(\"./images_df.csv\",header=None,names=[\"img\",\"label\"])\n",
        "images_df[\"label\"]=images_df[\"label\"].apply(lambda x : str(x))\n",
        "images_df.head()"
      ],
      "execution_count": 14,
      "outputs": [
        {
          "output_type": "execute_result",
          "data": {
            "text/html": [
              "<div>\n",
              "<style scoped>\n",
              "    .dataframe tbody tr th:only-of-type {\n",
              "        vertical-align: middle;\n",
              "    }\n",
              "\n",
              "    .dataframe tbody tr th {\n",
              "        vertical-align: top;\n",
              "    }\n",
              "\n",
              "    .dataframe thead th {\n",
              "        text-align: right;\n",
              "    }\n",
              "</style>\n",
              "<table border=\"1\" class=\"dataframe\">\n",
              "  <thead>\n",
              "    <tr style=\"text-align: right;\">\n",
              "      <th></th>\n",
              "      <th>img</th>\n",
              "      <th>label</th>\n",
              "    </tr>\n",
              "  </thead>\n",
              "  <tbody>\n",
              "    <tr>\n",
              "      <th>0</th>\n",
              "      <td>ae07_005.bmp</td>\n",
              "      <td>18</td>\n",
              "    </tr>\n",
              "    <tr>\n",
              "      <th>1</th>\n",
              "      <td>ae07_011.bmp</td>\n",
              "      <td>17</td>\n",
              "    </tr>\n",
              "    <tr>\n",
              "      <th>2</th>\n",
              "      <td>ae07_014.bmp</td>\n",
              "      <td>20</td>\n",
              "    </tr>\n",
              "    <tr>\n",
              "      <th>3</th>\n",
              "      <td>ae07_015.bmp</td>\n",
              "      <td>18</td>\n",
              "    </tr>\n",
              "    <tr>\n",
              "      <th>4</th>\n",
              "      <td>ae07_022.bmp</td>\n",
              "      <td>12</td>\n",
              "    </tr>\n",
              "  </tbody>\n",
              "</table>\n",
              "</div>"
            ],
            "text/plain": [
              "            img label\n",
              "0  ae07_005.bmp    18\n",
              "1  ae07_011.bmp    17\n",
              "2  ae07_014.bmp    20\n",
              "3  ae07_015.bmp    18\n",
              "4  ae07_022.bmp    12"
            ]
          },
          "metadata": {},
          "execution_count": 14
        }
      ]
    },
    {
      "cell_type": "code",
      "metadata": {
        "id": "B5AmEhiCaaTT"
      },
      "source": [
        "labels=images_df['label']\n",
        "labels=labels.to_numpy()"
      ],
      "execution_count": 6,
      "outputs": []
    },
    {
      "cell_type": "code",
      "metadata": {
        "colab": {
          "base_uri": "https://localhost:8080/",
          "height": 501
        },
        "id": "J48PNIZpaaTU",
        "outputId": "68954f1a-bb1e-4017-a6d9-17fb5844d11c"
      },
      "source": [
        "plt.figure(figsize=(8,8))\n",
        "plt.xlim()\n",
        "plt.xlabel(\"labels\")\n",
        "plt.ylabel(\"num_words_in_labs\")\n",
        "plt.hist(labels,bins=22)\n",
        "plt.show()"
      ],
      "execution_count": 7,
      "outputs": [
        {
          "output_type": "display_data",
          "data": {
            "image/png": "[encoded data removed]",
            "text/plain": [
              "<Figure size 576x576 with 1 Axes>"
            ]
          },
          "metadata": {
            "needs_background": "light"
          }
        }
      ]
    },
    {
      "cell_type": "code",
      "metadata": {
        "colab": {
          "base_uri": "https://localhost:8080/"
        },
        "id": "KXNsE23raaTV",
        "outputId": "dcb93924-8839-4273-9f0f-56395c34fff4"
      },
      "source": [
        "img=cv2.imread(\"./bdh/ae07_005.bmp\",cv2.IMREAD_GRAYSCALE)\n",
        "img.shape"
      ],
      "execution_count": 9,
      "outputs": [
        {
          "output_type": "execute_result",
          "data": {
            "text/plain": [
              "(114, 499)"
            ]
          },
          "metadata": {},
          "execution_count": 9
        }
      ]
    },
    {
      "cell_type": "code",
      "metadata": {
        "id": "KIx-JyKpaaTV"
      },
      "source": [
        "imgresize = cv2.resize(img, (760, 120)) "
      ],
      "execution_count": 10,
      "outputs": []
    },
    {
      "cell_type": "code",
      "metadata": {
        "colab": {
          "base_uri": "https://localhost:8080/",
          "height": 145
        },
        "id": "f-ICyXKbaaTW",
        "outputId": "d99a4686-6f1a-4e86-afcb-b394a5b866a9"
      },
      "source": [
        "plt.imshow(img)"
      ],
      "execution_count": 11,
      "outputs": [
        {
          "output_type": "execute_result",
          "data": {
            "text/plain": [
              "<matplotlib.image.AxesImage at 0x7f6bdda15b10>"
            ]
          },
          "metadata": {},
          "execution_count": 11
        },
        {
          "output_type": "display_data",
          "data": {
            "image/png": "[encoded data removed]",
            "text/plain": [
              "<Figure size 432x288 with 1 Axes>"
            ]
          },
          "metadata": {
            "needs_background": "light"
          }
        }
      ]
    },
    {
      "cell_type": "code",
      "metadata": {
        "colab": {
          "base_uri": "https://localhost:8080/",
          "height": 122
        },
        "id": "Z_Dd9r-iaaTX",
        "outputId": "5b22a975-fe4b-4948-cd96-a3ab397ba0cf"
      },
      "source": [
        "plt.imshow(imgresize)"
      ],
      "execution_count": 12,
      "outputs": [
        {
          "output_type": "execute_result",
          "data": {
            "text/plain": [
              "<matplotlib.image.AxesImage at 0x7f6bde17d510>"
            ]
          },
          "metadata": {},
          "execution_count": 12
        },
        {
          "output_type": "display_data",
          "data": {
            "image/png": "[encoded data removed]",
            "text/plain": [
              "<Figure size 432x288 with 1 Axes>"
            ]
          },
          "metadata": {
            "needs_background": "light"
          }
        }
      ]
    },
    {
      "cell_type": "code",
      "metadata": {
        "id": "JW5bEQO5aaTb"
      },
      "source": [
        "from sklearn.model_selection import train_test_split"
      ],
      "execution_count": 13,
      "outputs": []
    },
    {
      "cell_type": "code",
      "metadata": {
        "colab": {
          "base_uri": "https://localhost:8080/",
          "height": 224
        },
        "id": "7KgmfKvEaaTc",
        "outputId": "2629f221-2a17-4f34-f211-7ce15d1df08d"
      },
      "source": [
        "all_x,all_y=images_df[\"img\"],images_df[\"label\"]\n",
        "\n",
        "xtrain,xtest,ytrain,ytest=train_test_split(all_x,all_y,train_size=0.8,random_state=1,shuffle=True)\n",
        "\n",
        "train_df=pd.DataFrame(xtrain,columns=[\"img\"])\n",
        "train_df[\"label\"]=ytrain\n",
        "\n",
        "print(\"train_data:\")\n",
        "train_df.head()"
      ],
      "execution_count": 15,
      "outputs": [
        {
          "output_type": "stream",
          "name": "stdout",
          "text": [
            "train_data:\n"
          ]
        },
        {
          "output_type": "execute_result",
          "data": {
            "text/html": [
              "<div>\n",
              "<style scoped>\n",
              "    .dataframe tbody tr th:only-of-type {\n",
              "        vertical-align: middle;\n",
              "    }\n",
              "\n",
              "    .dataframe tbody tr th {\n",
              "        vertical-align: top;\n",
              "    }\n",
              "\n",
              "    .dataframe thead th {\n",
              "        text-align: right;\n",
              "    }\n",
              "</style>\n",
              "<table border=\"1\" class=\"dataframe\">\n",
              "  <thead>\n",
              "    <tr style=\"text-align: right;\">\n",
              "      <th></th>\n",
              "      <th>img</th>\n",
              "      <th>label</th>\n",
              "    </tr>\n",
              "  </thead>\n",
              "  <tbody>\n",
              "    <tr>\n",
              "      <th>5764</th>\n",
              "      <td>de12_032.bmp</td>\n",
              "      <td>16</td>\n",
              "    </tr>\n",
              "    <tr>\n",
              "      <th>7223</th>\n",
              "      <td>dm34_024.bmp</td>\n",
              "      <td>16</td>\n",
              "    </tr>\n",
              "    <tr>\n",
              "      <th>5124</th>\n",
              "      <td>cj14_066.bmp</td>\n",
              "      <td>13</td>\n",
              "    </tr>\n",
              "    <tr>\n",
              "      <th>5621</th>\n",
              "      <td>cq65_006.bmp</td>\n",
              "      <td>8</td>\n",
              "    </tr>\n",
              "    <tr>\n",
              "      <th>2624</th>\n",
              "      <td>bi06_006.bmp</td>\n",
              "      <td>16</td>\n",
              "    </tr>\n",
              "  </tbody>\n",
              "</table>\n",
              "</div>"
            ],
            "text/plain": [
              "               img label\n",
              "5764  de12_032.bmp    16\n",
              "7223  dm34_024.bmp    16\n",
              "5124  cj14_066.bmp    13\n",
              "5621  cq65_006.bmp     8\n",
              "2624  bi06_006.bmp    16"
            ]
          },
          "metadata": {},
          "execution_count": 15
        }
      ]
    },
    {
      "cell_type": "code",
      "metadata": {
        "colab": {
          "base_uri": "https://localhost:8080/",
          "height": 224
        },
        "id": "HzcTTXqGaaTc",
        "outputId": "c8ec57af-4596-4147-dbb4-2901f41ece35"
      },
      "source": [
        "test_df=pd.DataFrame(xtest,columns=[\"img\"])\n",
        "test_df[\"label\"]=ytest\n",
        "\n",
        "print(\"test_data:\")\n",
        "test_df.head()"
      ],
      "execution_count": 16,
      "outputs": [
        {
          "output_type": "stream",
          "name": "stdout",
          "text": [
            "test_data:\n"
          ]
        },
        {
          "output_type": "execute_result",
          "data": {
            "text/html": [
              "<div>\n",
              "<style scoped>\n",
              "    .dataframe tbody tr th:only-of-type {\n",
              "        vertical-align: middle;\n",
              "    }\n",
              "\n",
              "    .dataframe tbody tr th {\n",
              "        vertical-align: top;\n",
              "    }\n",
              "\n",
              "    .dataframe thead th {\n",
              "        text-align: right;\n",
              "    }\n",
              "</style>\n",
              "<table border=\"1\" class=\"dataframe\">\n",
              "  <thead>\n",
              "    <tr style=\"text-align: right;\">\n",
              "      <th></th>\n",
              "      <th>img</th>\n",
              "      <th>label</th>\n",
              "    </tr>\n",
              "  </thead>\n",
              "  <tbody>\n",
              "    <tr>\n",
              "      <th>3069</th>\n",
              "      <td>bj01_033.bmp</td>\n",
              "      <td>3</td>\n",
              "    </tr>\n",
              "    <tr>\n",
              "      <th>642</th>\n",
              "      <td>af62_017.bmp</td>\n",
              "      <td>22</td>\n",
              "    </tr>\n",
              "    <tr>\n",
              "      <th>7266</th>\n",
              "      <td>dq06_018.bmp</td>\n",
              "      <td>8</td>\n",
              "    </tr>\n",
              "    <tr>\n",
              "      <th>5765</th>\n",
              "      <td>de12_034.bmp</td>\n",
              "      <td>16</td>\n",
              "    </tr>\n",
              "    <tr>\n",
              "      <th>2229</th>\n",
              "      <td>be92_023.bmp</td>\n",
              "      <td>13</td>\n",
              "    </tr>\n",
              "  </tbody>\n",
              "</table>\n",
              "</div>"
            ],
            "text/plain": [
              "               img label\n",
              "3069  bj01_033.bmp     3\n",
              "642   af62_017.bmp    22\n",
              "7266  dq06_018.bmp     8\n",
              "5765  de12_034.bmp    16\n",
              "2229  be92_023.bmp    13"
            ]
          },
          "metadata": {},
          "execution_count": 16
        }
      ]
    },
    {
      "cell_type": "code",
      "metadata": {
        "id": "zhoeMwk5aaTd"
      },
      "source": [
        "from tensorflow.keras.preprocessing.image import ImageDataGenerator"
      ],
      "execution_count": 17,
      "outputs": []
    },
    {
      "cell_type": "code",
      "metadata": {
        "id": "zIhTyw6HaaTd"
      },
      "source": [
        "train_image_gen=ImageDataGenerator(rescale=1.0/255)\n",
        "test_image_gen=ImageDataGenerator(rescale=1.0/255)"
      ],
      "execution_count": 18,
      "outputs": []
    },
    {
      "cell_type": "code",
      "metadata": {
        "colab": {
          "base_uri": "https://localhost:8080/"
        },
        "id": "ajLdcxGgaaTe",
        "outputId": "10cc8cc1-8ed9-44bc-833d-5a33f51855d0"
      },
      "source": [
        "train_image_gen=train_image_gen.flow_from_dataframe(train_df,x_col=\"img\",y_col=\"label\",\n",
        "                                            directory=\"./bdh\",\n",
        "                                            batch_size=32,\n",
        "                                            target_size=(imgresize.shape[0],imgresize.shape[1]),\n",
        "                                            color_mode='grayscale',\n",
        "                                            class_mode='categorical')"
      ],
      "execution_count": 19,
      "outputs": [
        {
          "output_type": "stream",
          "name": "stdout",
          "text": [
            "Found 6048 validated image filenames belonging to 22 classes.\n"
          ]
        }
      ]
    },
    {
      "cell_type": "code",
      "metadata": {
        "colab": {
          "base_uri": "https://localhost:8080/"
        },
        "id": "9l75gGK2aaTf",
        "outputId": "a0840b66-aef5-4a1e-d2ad-19e7df68b1cb"
      },
      "source": [
        "test_image_gen=test_image_gen.flow_from_dataframe(test_df,x_col=\"img\",y_col=\"label\",\n",
        "                                            directory=\"./bdh\",\n",
        "                                            batch_size=32,\n",
        "                                            target_size=(imgresize.shape[0],imgresize.shape[1]),\n",
        "                                            color_mode='grayscale',\n",
        "                                            class_mode='categorical')"
      ],
      "execution_count": 20,
      "outputs": [
        {
          "output_type": "stream",
          "name": "stdout",
          "text": [
            "Found 1512 validated image filenames belonging to 22 classes.\n"
          ]
        }
      ]
    },
    {
      "cell_type": "code",
      "metadata": {
        "id": "NCfVKSaUaaTf"
      },
      "source": [
        "import tensorflow as tf"
      ],
      "execution_count": 21,
      "outputs": []
    },
    {
      "cell_type": "code",
      "metadata": {
        "id": "M4CuMufWaaTg"
      },
      "source": [
        "model = tf.keras.models.Sequential([\n",
        "    # Note the input shape is the desired size of the image 760x120 with 1 bytes color\n",
        "    # This is the first convolution\n",
        "    tf.keras.layers.Conv2D(32, (3,3), activation='relu', input_shape=(760, 120, 1)),\n",
        "    tf.keras.layers.MaxPooling2D(2, 2),\n",
        "    # The third convolution\n",
        "    tf.keras.layers.Conv2D(64, (3,3), activation='relu'),\n",
        "    tf.keras.layers.MaxPooling2D(2,2),\n",
        "    # The fourth convolution\n",
        "    tf.keras.layers.Conv2D(64, (3,3), activation='relu'),\n",
        "    tf.keras.layers.MaxPooling2D(2,2),\n",
        "    # Flatten the results to feed into a DNN\n",
        "    tf.keras.layers.Flatten(),\n",
        "    # 128 neuron hidden layer\n",
        "    tf.keras.layers.Dense(64, activation='relu'),\n",
        "    # Only 22 output neuron.\n",
        "    tf.keras.layers.Dense(22, activation='softmax')\n",
        "])"
      ],
      "execution_count": 22,
      "outputs": []
    },
    {
      "cell_type": "code",
      "metadata": {
        "id": "5DEMFMntaaTg"
      },
      "source": [
        "loss=tf.keras.losses.categorical_crossentropy\n",
        "optim=tf.keras.optimizers.Adam()"
      ],
      "execution_count": 23,
      "outputs": []
    },
    {
      "cell_type": "code",
      "metadata": {
        "id": "i_QUKf64aaTh"
      },
      "source": [
        "model.compile(optimizer=optim, loss=loss, metrics=['accuracy'])"
      ],
      "execution_count": 24,
      "outputs": []
    },
    {
      "cell_type": "code",
      "metadata": {
        "colab": {
          "base_uri": "https://localhost:8080/"
        },
        "id": "xaBMgB-BCiGE",
        "outputId": "ad8be982-50a9-4901-a7b9-36e9c427d6fe"
      },
      "source": [
        "model.summary()"
      ],
      "execution_count": 25,
      "outputs": [
        {
          "output_type": "stream",
          "name": "stdout",
          "text": [
            "Model: \"sequential\"\n",
            "_________________________________________________________________\n",
            " Layer (type)                Output Shape              Param #   \n",
            "=================================================================\n",
            " conv2d (Conv2D)             (None, 758, 118, 32)      320       \n",
            "                                                                 \n",
            " max_pooling2d (MaxPooling2D  (None, 379, 59, 32)      0         \n",
            " )                                                               \n",
            "                                                                 \n",
            " conv2d_1 (Conv2D)           (None, 377, 57, 64)       18496     \n",
            "                                                                 \n",
            " max_pooling2d_1 (MaxPooling  (None, 188, 28, 64)      0         \n",
            " 2D)                                                             \n",
            "                                                                 \n",
            " conv2d_2 (Conv2D)           (None, 186, 26, 64)       36928     \n",
            "                                                                 \n",
            " max_pooling2d_2 (MaxPooling  (None, 93, 13, 64)       0         \n",
            " 2D)                                                             \n",
            "                                                                 \n",
            " flatten (Flatten)           (None, 77376)             0         \n",
            "                                                                 \n",
            " dense (Dense)               (None, 64)                4952128   \n",
            "                                                                 \n",
            " dense_1 (Dense)             (None, 22)                1430      \n",
            "                                                                 \n",
            "=================================================================\n",
            "Total params: 5,009,302\n",
            "Trainable params: 5,009,302\n",
            "Non-trainable params: 0\n",
            "_________________________________________________________________\n"
          ]
        }
      ]
    },
    {
      "cell_type": "code",
      "metadata": {
        "colab": {
          "base_uri": "https://localhost:8080/"
        },
        "id": "zuRqSD63aaTh",
        "outputId": "4816fa1d-eb26-4c7d-e625-8cc951ee0d15"
      },
      "source": [
        "history=model.fit(train_image_gen,epochs=10,steps_per_epoch=189,validation_data=test_image_gen)"
      ],
      "execution_count": 26,
      "outputs": [
        {
          "output_type": "stream",
          "name": "stdout",
          "text": [
            "Epoch 1/10\n",
            "189/189 [==============================] - 42s 163ms/step - loss: 0.7324 - accuracy: 0.7938 - val_loss: 0.1912 - val_accuracy: 0.9398\n",
            "Epoch 2/10\n",
            "189/189 [==============================] - 30s 160ms/step - loss: 0.0794 - accuracy: 0.9757 - val_loss: 0.2511 - val_accuracy: 0.9213\n",
            "Epoch 3/10\n",
            "189/189 [==============================] - 30s 160ms/step - loss: 0.0216 - accuracy: 0.9914 - val_loss: 0.2356 - val_accuracy: 0.9332\n",
            "Epoch 4/10\n",
            "189/189 [==============================] - 30s 160ms/step - loss: 0.0248 - accuracy: 0.9921 - val_loss: 0.2799 - val_accuracy: 0.9392\n",
            "Epoch 5/10\n",
            "189/189 [==============================] - 30s 159ms/step - loss: 0.0229 - accuracy: 0.9932 - val_loss: 0.2662 - val_accuracy: 0.9306\n",
            "Epoch 6/10\n",
            "189/189 [==============================] - 30s 159ms/step - loss: 0.0257 - accuracy: 0.9921 - val_loss: 0.2732 - val_accuracy: 0.9365\n",
            "Epoch 7/10\n",
            "189/189 [==============================] - 30s 159ms/step - loss: 0.0094 - accuracy: 0.9979 - val_loss: 0.2633 - val_accuracy: 0.9418\n",
            "Epoch 8/10\n",
            "189/189 [==============================] - 30s 159ms/step - loss: 0.0123 - accuracy: 0.9967 - val_loss: 0.2756 - val_accuracy: 0.9418\n",
            "Epoch 9/10\n",
            "189/189 [==============================] - 30s 159ms/step - loss: 0.0020 - accuracy: 0.9992 - val_loss: 0.2412 - val_accuracy: 0.9504\n",
            "Epoch 10/10\n",
            "189/189 [==============================] - 30s 159ms/step - loss: 3.1244e-04 - accuracy: 1.0000 - val_loss: 0.2352 - val_accuracy: 0.9511\n"
          ]
        }
      ]
    },
    {
      "cell_type": "code",
      "metadata": {
        "id": "wSvl_wlCgGm1"
      },
      "source": [
        ""
      ],
      "execution_count": null,
      "outputs": []
    }
  ]
}