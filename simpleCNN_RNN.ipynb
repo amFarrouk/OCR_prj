{
  "nbformat": 4,
  "nbformat_minor": 0,
  "metadata": {
    "colab": {
      "name": "simpleCNN-RNN.ipynb",
      "provenance": [],
      "collapsed_sections": [],
      "include_colab_link": true
    },
    "interpreter": {
      "hash": "652067eec5de986345d2a6410d7e1666adff1463be4220feb6214403227df83a"
    },
    "kernelspec": {
      "display_name": "Python 3.8.2 64-bit",
      "language": "python",
      "name": "python3"
    },
    "language_info": {
      "codemirror_mode": {
        "name": "ipython",
        "version": 3
      },
      "file_extension": ".py",
      "mimetype": "text/x-python",
      "name": "python",
      "nbconvert_exporter": "python",
      "pygments_lexer": "ipython3",
      "version": "3.8.2"
    },
    "accelerator": "GPU"
  },
  "cells": [
    {
      "cell_type": "markdown",
      "metadata": {
        "id": "view-in-github",
        "colab_type": "text"
      },
      "source": [
        "<a href=\"https://colab.research.google.com/github/amFarrouk/OCR_prj/blob/main/simpleCNN_RNN.ipynb\" target=\"_parent\"><img src=\"https://colab.research.google.com/assets/colab-badge.svg\" alt=\"Open In Colab\"/></a>"
      ]
    },
    {
      "cell_type": "code",
      "metadata": {
        "id": "nSohdxGbaaTI"
      },
      "source": [
        "import cv2\n",
        "import pandas as pd\n",
        "import os\n",
        "import matplotlib.pyplot as plt\n",
        "import zipfile\n",
        "import numpy as np"
      ],
      "execution_count": 31,
      "outputs": []
    },
    {
      "cell_type": "code",
      "metadata": {
        "id": "TjPvAvqIt2ad",
        "colab": {
          "base_uri": "https://localhost:8080/"
        },
        "outputId": "cf06c444-f37c-4c4c-a3d9-a82a894efac2"
      },
      "source": [
        "!wget https://raw.githubusercontent.com/amFarrouk/OCR_prj/main/bdh.zip\n",
        "!unzip -qq ./bdh.zip \n",
        "!rm ./bdh.zip"
      ],
      "execution_count": 2,
      "outputs": [
        {
          "output_type": "stream",
          "name": "stdout",
          "text": [
            "--2021-12-31 15:49:59--  https://raw.githubusercontent.com/amFarrouk/OCR_prj/main/bdh.zip\n",
            "Resolving raw.githubusercontent.com (raw.githubusercontent.com)... 185.199.108.133, 185.199.109.133, 185.199.110.133, ...\n",
            "Connecting to raw.githubusercontent.com (raw.githubusercontent.com)|185.199.108.133|:443... connected.\n",
            "HTTP request sent, awaiting response... 200 OK\n",
            "Length: 7536168 (7.2M) [application/zip]\n",
            "Saving to: ‘bdh.zip’\n",
            "\n",
            "bdh.zip             100%[===================>]   7.19M  44.4MB/s    in 0.2s    \n",
            "\n",
            "2021-12-31 15:49:59 (44.4 MB/s) - ‘bdh.zip’ saved [7536168/7536168]\n",
            "\n"
          ]
        }
      ]
    },
    {
      "cell_type": "code",
      "metadata": {
        "colab": {
          "base_uri": "https://localhost:8080/"
        },
        "id": "X1y7XaIfQH3f",
        "outputId": "dbf22156-3b31-4153-8c59-47d851771ca3"
      },
      "source": [
        "!wget https://www.dropbox.com/s/qpagi0h1089kr2f/images_df.csv"
      ],
      "execution_count": 3,
      "outputs": [
        {
          "output_type": "stream",
          "name": "stdout",
          "text": [
            "--2021-12-31 15:50:05--  https://www.dropbox.com/s/qpagi0h1089kr2f/images_df.csv\n",
            "Resolving www.dropbox.com (www.dropbox.com)... 162.125.3.18, 2620:100:601b:18::a27d:812\n",
            "Connecting to www.dropbox.com (www.dropbox.com)|162.125.3.18|:443... connected.\n",
            "HTTP request sent, awaiting response... 301 Moved Permanently\n",
            "Location: /s/raw/qpagi0h1089kr2f/images_df.csv [following]\n",
            "--2021-12-31 15:50:05--  https://www.dropbox.com/s/raw/qpagi0h1089kr2f/images_df.csv\n",
            "Reusing existing connection to www.dropbox.com:443.\n",
            "HTTP request sent, awaiting response... 302 Found\n",
            "Location: https://ucacfd5d5c21265a489398a662c3.dl.dropboxusercontent.com/cd/0/inline/Bc5T4ZPJpKf5eVqcGb4efZUJ7RYhqKvj93hCBBqpwjbd2vJa11N6k533n6mphT55xRbmRJ1WvffOyd2RDEwukmaw18wF-UIRGzc7tJ8aKQqoBRcexhuc68uukTPGpquXkhLk5MXxjRTnfZNrtJt50jGQ/file# [following]\n",
            "--2021-12-31 15:50:06--  https://ucacfd5d5c21265a489398a662c3.dl.dropboxusercontent.com/cd/0/inline/Bc5T4ZPJpKf5eVqcGb4efZUJ7RYhqKvj93hCBBqpwjbd2vJa11N6k533n6mphT55xRbmRJ1WvffOyd2RDEwukmaw18wF-UIRGzc7tJ8aKQqoBRcexhuc68uukTPGpquXkhLk5MXxjRTnfZNrtJt50jGQ/file\n",
            "Resolving ucacfd5d5c21265a489398a662c3.dl.dropboxusercontent.com (ucacfd5d5c21265a489398a662c3.dl.dropboxusercontent.com)... 162.125.3.15, 2620:100:6018:15::a27d:30f\n",
            "Connecting to ucacfd5d5c21265a489398a662c3.dl.dropboxusercontent.com (ucacfd5d5c21265a489398a662c3.dl.dropboxusercontent.com)|162.125.3.15|:443... connected.\n",
            "HTTP request sent, awaiting response... 200 OK\n",
            "Length: 125438 (122K) [text/plain]\n",
            "Saving to: ‘images_df.csv’\n",
            "\n",
            "images_df.csv       100%[===================>] 122.50K  --.-KB/s    in 0.03s   \n",
            "\n",
            "2021-12-31 15:50:06 (4.01 MB/s) - ‘images_df.csv’ saved [125438/125438]\n",
            "\n"
          ]
        }
      ]
    },
    {
      "cell_type": "code",
      "metadata": {
        "colab": {
          "base_uri": "https://localhost:8080/",
          "height": 206
        },
        "id": "zQQ_xXdvSWPv",
        "outputId": "3cc7a7e8-c48d-4dc1-8ece-a3baabb1e1f6"
      },
      "source": [
        "images_df=pd.read_csv(\"./images_df.csv\",header=None,names=[\"img\",\"label\"])\n",
        "images_df[\"label\"]=images_df[\"label\"].apply(lambda x : str(x))\n",
        "images_df.head()"
      ],
      "execution_count": 4,
      "outputs": [
        {
          "output_type": "execute_result",
          "data": {
            "text/html": [
              "\n",
              "  <div id=\"df-232fb48f-dce1-4d17-8879-73e70f0a8d72\">\n",
              "    <div class=\"colab-df-container\">\n",
              "      <div>\n",
              "<style scoped>\n",
              "    .dataframe tbody tr th:only-of-type {\n",
              "        vertical-align: middle;\n",
              "    }\n",
              "\n",
              "    .dataframe tbody tr th {\n",
              "        vertical-align: top;\n",
              "    }\n",
              "\n",
              "    .dataframe thead th {\n",
              "        text-align: right;\n",
              "    }\n",
              "</style>\n",
              "<table border=\"1\" class=\"dataframe\">\n",
              "  <thead>\n",
              "    <tr style=\"text-align: right;\">\n",
              "      <th></th>\n",
              "      <th>img</th>\n",
              "      <th>label</th>\n",
              "    </tr>\n",
              "  </thead>\n",
              "  <tbody>\n",
              "    <tr>\n",
              "      <th>0</th>\n",
              "      <td>ae07_005.bmp</td>\n",
              "      <td>18</td>\n",
              "    </tr>\n",
              "    <tr>\n",
              "      <th>1</th>\n",
              "      <td>ae07_011.bmp</td>\n",
              "      <td>17</td>\n",
              "    </tr>\n",
              "    <tr>\n",
              "      <th>2</th>\n",
              "      <td>ae07_014.bmp</td>\n",
              "      <td>20</td>\n",
              "    </tr>\n",
              "    <tr>\n",
              "      <th>3</th>\n",
              "      <td>ae07_015.bmp</td>\n",
              "      <td>18</td>\n",
              "    </tr>\n",
              "    <tr>\n",
              "      <th>4</th>\n",
              "      <td>ae07_022.bmp</td>\n",
              "      <td>12</td>\n",
              "    </tr>\n",
              "  </tbody>\n",
              "</table>\n",
              "</div>\n",
              "      <button class=\"colab-df-convert\" onclick=\"convertToInteractive('df-232fb48f-dce1-4d17-8879-73e70f0a8d72')\"\n",
              "              title=\"Convert this dataframe to an interactive table.\"\n",
              "              style=\"display:none;\">\n",
              "        \n",
              "  <svg xmlns=\"http://www.w3.org/2000/svg\" height=\"24px\"viewBox=\"0 0 24 24\"\n",
              "       width=\"24px\">\n",
              "    <path d=\"M0 0h24v24H0V0z\" fill=\"none\"/>\n",
              "    <path d=\"M18.56 5.44l.94 2.06.94-2.06 2.06-.94-2.06-.94-.94-2.06-.94 2.06-2.06.94zm-11 1L8.5 8.5l.94-2.06 2.06-.94-2.06-.94L8.5 2.5l-.94 2.06-2.06.94zm10 10l.94 2.06.94-2.06 2.06-.94-2.06-.94-.94-2.06-.94 2.06-2.06.94z\"/><path d=\"M17.41 7.96l-1.37-1.37c-.4-.4-.92-.59-1.43-.59-.52 0-1.04.2-1.43.59L10.3 9.45l-7.72 7.72c-.78.78-.78 2.05 0 2.83L4 21.41c.39.39.9.59 1.41.59.51 0 1.02-.2 1.41-.59l7.78-7.78 2.81-2.81c.8-.78.8-2.07 0-2.86zM5.41 20L4 18.59l7.72-7.72 1.47 1.35L5.41 20z\"/>\n",
              "  </svg>\n",
              "      </button>\n",
              "      \n",
              "  <style>\n",
              "    .colab-df-container {\n",
              "      display:flex;\n",
              "      flex-wrap:wrap;\n",
              "      gap: 12px;\n",
              "    }\n",
              "\n",
              "    .colab-df-convert {\n",
              "      background-color: #E8F0FE;\n",
              "      border: none;\n",
              "      border-radius: 50%;\n",
              "      cursor: pointer;\n",
              "      display: none;\n",
              "      fill: #1967D2;\n",
              "      height: 32px;\n",
              "      padding: 0 0 0 0;\n",
              "      width: 32px;\n",
              "    }\n",
              "\n",
              "    .colab-df-convert:hover {\n",
              "      background-color: #E2EBFA;\n",
              "      box-shadow: 0px 1px 2px rgba(60, 64, 67, 0.3), 0px 1px 3px 1px rgba(60, 64, 67, 0.15);\n",
              "      fill: #174EA6;\n",
              "    }\n",
              "\n",
              "    [theme=dark] .colab-df-convert {\n",
              "      background-color: #3B4455;\n",
              "      fill: #D2E3FC;\n",
              "    }\n",
              "\n",
              "    [theme=dark] .colab-df-convert:hover {\n",
              "      background-color: #434B5C;\n",
              "      box-shadow: 0px 1px 3px 1px rgba(0, 0, 0, 0.15);\n",
              "      filter: drop-shadow(0px 1px 2px rgba(0, 0, 0, 0.3));\n",
              "      fill: #FFFFFF;\n",
              "    }\n",
              "  </style>\n",
              "\n",
              "      <script>\n",
              "        const buttonEl =\n",
              "          document.querySelector('#df-232fb48f-dce1-4d17-8879-73e70f0a8d72 button.colab-df-convert');\n",
              "        buttonEl.style.display =\n",
              "          google.colab.kernel.accessAllowed ? 'block' : 'none';\n",
              "\n",
              "        async function convertToInteractive(key) {\n",
              "          const element = document.querySelector('#df-232fb48f-dce1-4d17-8879-73e70f0a8d72');\n",
              "          const dataTable =\n",
              "            await google.colab.kernel.invokeFunction('convertToInteractive',\n",
              "                                                     [key], {});\n",
              "          if (!dataTable) return;\n",
              "\n",
              "          const docLinkHtml = 'Like what you see? Visit the ' +\n",
              "            '<a target=\"_blank\" href=https://colab.research.google.com/notebooks/data_table.ipynb>data table notebook</a>'\n",
              "            + ' to learn more about interactive tables.';\n",
              "          element.innerHTML = '';\n",
              "          dataTable['output_type'] = 'display_data';\n",
              "          await google.colab.output.renderOutput(dataTable, element);\n",
              "          const docLink = document.createElement('div');\n",
              "          docLink.innerHTML = docLinkHtml;\n",
              "          element.appendChild(docLink);\n",
              "        }\n",
              "      </script>\n",
              "    </div>\n",
              "  </div>\n",
              "  "
            ],
            "text/plain": [
              "            img label\n",
              "0  ae07_005.bmp    18\n",
              "1  ae07_011.bmp    17\n",
              "2  ae07_014.bmp    20\n",
              "3  ae07_015.bmp    18\n",
              "4  ae07_022.bmp    12"
            ]
          },
          "metadata": {},
          "execution_count": 4
        }
      ]
    },
    {
      "cell_type": "code",
      "metadata": {
        "id": "JW5bEQO5aaTb"
      },
      "source": [
        "from sklearn.model_selection import train_test_split"
      ],
      "execution_count": 5,
      "outputs": []
    },
    {
      "cell_type": "code",
      "metadata": {
        "colab": {
          "base_uri": "https://localhost:8080/",
          "height": 224
        },
        "id": "7KgmfKvEaaTc",
        "outputId": "8e314317-b40e-42a8-dc06-acd0451006a0"
      },
      "source": [
        "all_x,all_y=images_df[\"img\"],images_df[\"label\"]\n",
        "\n",
        "xtrain,xtest,ytrain,ytest=train_test_split(all_x,all_y,train_size=0.8,random_state=1,shuffle=True,stratify=all_y)\n",
        "\n",
        "train_df=pd.DataFrame(xtrain,columns=[\"img\"])\n",
        "train_df[\"label\"]=ytrain\n",
        "\n",
        "print(\"train_data:\")\n",
        "train_df.head()"
      ],
      "execution_count": 6,
      "outputs": [
        {
          "output_type": "stream",
          "name": "stdout",
          "text": [
            "train_data:\n"
          ]
        },
        {
          "output_type": "execute_result",
          "data": {
            "text/html": [
              "\n",
              "  <div id=\"df-2bcd5619-856d-4557-be54-84cebd192b88\">\n",
              "    <div class=\"colab-df-container\">\n",
              "      <div>\n",
              "<style scoped>\n",
              "    .dataframe tbody tr th:only-of-type {\n",
              "        vertical-align: middle;\n",
              "    }\n",
              "\n",
              "    .dataframe tbody tr th {\n",
              "        vertical-align: top;\n",
              "    }\n",
              "\n",
              "    .dataframe thead th {\n",
              "        text-align: right;\n",
              "    }\n",
              "</style>\n",
              "<table border=\"1\" class=\"dataframe\">\n",
              "  <thead>\n",
              "    <tr style=\"text-align: right;\">\n",
              "      <th></th>\n",
              "      <th>img</th>\n",
              "      <th>label</th>\n",
              "    </tr>\n",
              "  </thead>\n",
              "  <tbody>\n",
              "    <tr>\n",
              "      <th>6638</th>\n",
              "      <td>di52_021.bmp</td>\n",
              "      <td>12</td>\n",
              "    </tr>\n",
              "    <tr>\n",
              "      <th>2475</th>\n",
              "      <td>bf52_031.bmp</td>\n",
              "      <td>8</td>\n",
              "    </tr>\n",
              "    <tr>\n",
              "      <th>5110</th>\n",
              "      <td>cj14_038.bmp</td>\n",
              "      <td>2</td>\n",
              "    </tr>\n",
              "    <tr>\n",
              "      <th>5837</th>\n",
              "      <td>de27_028.bmp</td>\n",
              "      <td>15</td>\n",
              "    </tr>\n",
              "    <tr>\n",
              "      <th>5810</th>\n",
              "      <td>de22_043.bmp</td>\n",
              "      <td>17</td>\n",
              "    </tr>\n",
              "  </tbody>\n",
              "</table>\n",
              "</div>\n",
              "      <button class=\"colab-df-convert\" onclick=\"convertToInteractive('df-2bcd5619-856d-4557-be54-84cebd192b88')\"\n",
              "              title=\"Convert this dataframe to an interactive table.\"\n",
              "              style=\"display:none;\">\n",
              "        \n",
              "  <svg xmlns=\"http://www.w3.org/2000/svg\" height=\"24px\"viewBox=\"0 0 24 24\"\n",
              "       width=\"24px\">\n",
              "    <path d=\"M0 0h24v24H0V0z\" fill=\"none\"/>\n",
              "    <path d=\"M18.56 5.44l.94 2.06.94-2.06 2.06-.94-2.06-.94-.94-2.06-.94 2.06-2.06.94zm-11 1L8.5 8.5l.94-2.06 2.06-.94-2.06-.94L8.5 2.5l-.94 2.06-2.06.94zm10 10l.94 2.06.94-2.06 2.06-.94-2.06-.94-.94-2.06-.94 2.06-2.06.94z\"/><path d=\"M17.41 7.96l-1.37-1.37c-.4-.4-.92-.59-1.43-.59-.52 0-1.04.2-1.43.59L10.3 9.45l-7.72 7.72c-.78.78-.78 2.05 0 2.83L4 21.41c.39.39.9.59 1.41.59.51 0 1.02-.2 1.41-.59l7.78-7.78 2.81-2.81c.8-.78.8-2.07 0-2.86zM5.41 20L4 18.59l7.72-7.72 1.47 1.35L5.41 20z\"/>\n",
              "  </svg>\n",
              "      </button>\n",
              "      \n",
              "  <style>\n",
              "    .colab-df-container {\n",
              "      display:flex;\n",
              "      flex-wrap:wrap;\n",
              "      gap: 12px;\n",
              "    }\n",
              "\n",
              "    .colab-df-convert {\n",
              "      background-color: #E8F0FE;\n",
              "      border: none;\n",
              "      border-radius: 50%;\n",
              "      cursor: pointer;\n",
              "      display: none;\n",
              "      fill: #1967D2;\n",
              "      height: 32px;\n",
              "      padding: 0 0 0 0;\n",
              "      width: 32px;\n",
              "    }\n",
              "\n",
              "    .colab-df-convert:hover {\n",
              "      background-color: #E2EBFA;\n",
              "      box-shadow: 0px 1px 2px rgba(60, 64, 67, 0.3), 0px 1px 3px 1px rgba(60, 64, 67, 0.15);\n",
              "      fill: #174EA6;\n",
              "    }\n",
              "\n",
              "    [theme=dark] .colab-df-convert {\n",
              "      background-color: #3B4455;\n",
              "      fill: #D2E3FC;\n",
              "    }\n",
              "\n",
              "    [theme=dark] .colab-df-convert:hover {\n",
              "      background-color: #434B5C;\n",
              "      box-shadow: 0px 1px 3px 1px rgba(0, 0, 0, 0.15);\n",
              "      filter: drop-shadow(0px 1px 2px rgba(0, 0, 0, 0.3));\n",
              "      fill: #FFFFFF;\n",
              "    }\n",
              "  </style>\n",
              "\n",
              "      <script>\n",
              "        const buttonEl =\n",
              "          document.querySelector('#df-2bcd5619-856d-4557-be54-84cebd192b88 button.colab-df-convert');\n",
              "        buttonEl.style.display =\n",
              "          google.colab.kernel.accessAllowed ? 'block' : 'none';\n",
              "\n",
              "        async function convertToInteractive(key) {\n",
              "          const element = document.querySelector('#df-2bcd5619-856d-4557-be54-84cebd192b88');\n",
              "          const dataTable =\n",
              "            await google.colab.kernel.invokeFunction('convertToInteractive',\n",
              "                                                     [key], {});\n",
              "          if (!dataTable) return;\n",
              "\n",
              "          const docLinkHtml = 'Like what you see? Visit the ' +\n",
              "            '<a target=\"_blank\" href=https://colab.research.google.com/notebooks/data_table.ipynb>data table notebook</a>'\n",
              "            + ' to learn more about interactive tables.';\n",
              "          element.innerHTML = '';\n",
              "          dataTable['output_type'] = 'display_data';\n",
              "          await google.colab.output.renderOutput(dataTable, element);\n",
              "          const docLink = document.createElement('div');\n",
              "          docLink.innerHTML = docLinkHtml;\n",
              "          element.appendChild(docLink);\n",
              "        }\n",
              "      </script>\n",
              "    </div>\n",
              "  </div>\n",
              "  "
            ],
            "text/plain": [
              "               img label\n",
              "6638  di52_021.bmp    12\n",
              "2475  bf52_031.bmp     8\n",
              "5110  cj14_038.bmp     2\n",
              "5837  de27_028.bmp    15\n",
              "5810  de22_043.bmp    17"
            ]
          },
          "metadata": {},
          "execution_count": 6
        }
      ]
    },
    {
      "cell_type": "code",
      "metadata": {
        "colab": {
          "base_uri": "https://localhost:8080/",
          "height": 224
        },
        "id": "HzcTTXqGaaTc",
        "outputId": "abb6f842-7395-49b1-dc4d-2ef27532849a"
      },
      "source": [
        "test_df=pd.DataFrame(xtest,columns=[\"img\"])\n",
        "test_df[\"label\"]=ytest\n",
        "\n",
        "print(\"test_data:\")\n",
        "test_df.head()"
      ],
      "execution_count": 7,
      "outputs": [
        {
          "output_type": "stream",
          "name": "stdout",
          "text": [
            "test_data:\n"
          ]
        },
        {
          "output_type": "execute_result",
          "data": {
            "text/html": [
              "\n",
              "  <div id=\"df-a730c023-e8ab-407c-9bee-a94f98c5adf0\">\n",
              "    <div class=\"colab-df-container\">\n",
              "      <div>\n",
              "<style scoped>\n",
              "    .dataframe tbody tr th:only-of-type {\n",
              "        vertical-align: middle;\n",
              "    }\n",
              "\n",
              "    .dataframe tbody tr th {\n",
              "        vertical-align: top;\n",
              "    }\n",
              "\n",
              "    .dataframe thead th {\n",
              "        text-align: right;\n",
              "    }\n",
              "</style>\n",
              "<table border=\"1\" class=\"dataframe\">\n",
              "  <thead>\n",
              "    <tr style=\"text-align: right;\">\n",
              "      <th></th>\n",
              "      <th>img</th>\n",
              "      <th>label</th>\n",
              "    </tr>\n",
              "  </thead>\n",
              "  <tbody>\n",
              "    <tr>\n",
              "      <th>5920</th>\n",
              "      <td>de42_055.bmp</td>\n",
              "      <td>12</td>\n",
              "    </tr>\n",
              "    <tr>\n",
              "      <th>1782</th>\n",
              "      <td>aq41_004.bmp</td>\n",
              "      <td>17</td>\n",
              "    </tr>\n",
              "    <tr>\n",
              "      <th>5556</th>\n",
              "      <td>cq47_017.bmp</td>\n",
              "      <td>9</td>\n",
              "    </tr>\n",
              "    <tr>\n",
              "      <th>2898</th>\n",
              "      <td>bi72_006.bmp</td>\n",
              "      <td>10</td>\n",
              "    </tr>\n",
              "    <tr>\n",
              "      <th>1812</th>\n",
              "      <td>aq49_050.bmp</td>\n",
              "      <td>22</td>\n",
              "    </tr>\n",
              "  </tbody>\n",
              "</table>\n",
              "</div>\n",
              "      <button class=\"colab-df-convert\" onclick=\"convertToInteractive('df-a730c023-e8ab-407c-9bee-a94f98c5adf0')\"\n",
              "              title=\"Convert this dataframe to an interactive table.\"\n",
              "              style=\"display:none;\">\n",
              "        \n",
              "  <svg xmlns=\"http://www.w3.org/2000/svg\" height=\"24px\"viewBox=\"0 0 24 24\"\n",
              "       width=\"24px\">\n",
              "    <path d=\"M0 0h24v24H0V0z\" fill=\"none\"/>\n",
              "    <path d=\"M18.56 5.44l.94 2.06.94-2.06 2.06-.94-2.06-.94-.94-2.06-.94 2.06-2.06.94zm-11 1L8.5 8.5l.94-2.06 2.06-.94-2.06-.94L8.5 2.5l-.94 2.06-2.06.94zm10 10l.94 2.06.94-2.06 2.06-.94-2.06-.94-.94-2.06-.94 2.06-2.06.94z\"/><path d=\"M17.41 7.96l-1.37-1.37c-.4-.4-.92-.59-1.43-.59-.52 0-1.04.2-1.43.59L10.3 9.45l-7.72 7.72c-.78.78-.78 2.05 0 2.83L4 21.41c.39.39.9.59 1.41.59.51 0 1.02-.2 1.41-.59l7.78-7.78 2.81-2.81c.8-.78.8-2.07 0-2.86zM5.41 20L4 18.59l7.72-7.72 1.47 1.35L5.41 20z\"/>\n",
              "  </svg>\n",
              "      </button>\n",
              "      \n",
              "  <style>\n",
              "    .colab-df-container {\n",
              "      display:flex;\n",
              "      flex-wrap:wrap;\n",
              "      gap: 12px;\n",
              "    }\n",
              "\n",
              "    .colab-df-convert {\n",
              "      background-color: #E8F0FE;\n",
              "      border: none;\n",
              "      border-radius: 50%;\n",
              "      cursor: pointer;\n",
              "      display: none;\n",
              "      fill: #1967D2;\n",
              "      height: 32px;\n",
              "      padding: 0 0 0 0;\n",
              "      width: 32px;\n",
              "    }\n",
              "\n",
              "    .colab-df-convert:hover {\n",
              "      background-color: #E2EBFA;\n",
              "      box-shadow: 0px 1px 2px rgba(60, 64, 67, 0.3), 0px 1px 3px 1px rgba(60, 64, 67, 0.15);\n",
              "      fill: #174EA6;\n",
              "    }\n",
              "\n",
              "    [theme=dark] .colab-df-convert {\n",
              "      background-color: #3B4455;\n",
              "      fill: #D2E3FC;\n",
              "    }\n",
              "\n",
              "    [theme=dark] .colab-df-convert:hover {\n",
              "      background-color: #434B5C;\n",
              "      box-shadow: 0px 1px 3px 1px rgba(0, 0, 0, 0.15);\n",
              "      filter: drop-shadow(0px 1px 2px rgba(0, 0, 0, 0.3));\n",
              "      fill: #FFFFFF;\n",
              "    }\n",
              "  </style>\n",
              "\n",
              "      <script>\n",
              "        const buttonEl =\n",
              "          document.querySelector('#df-a730c023-e8ab-407c-9bee-a94f98c5adf0 button.colab-df-convert');\n",
              "        buttonEl.style.display =\n",
              "          google.colab.kernel.accessAllowed ? 'block' : 'none';\n",
              "\n",
              "        async function convertToInteractive(key) {\n",
              "          const element = document.querySelector('#df-a730c023-e8ab-407c-9bee-a94f98c5adf0');\n",
              "          const dataTable =\n",
              "            await google.colab.kernel.invokeFunction('convertToInteractive',\n",
              "                                                     [key], {});\n",
              "          if (!dataTable) return;\n",
              "\n",
              "          const docLinkHtml = 'Like what you see? Visit the ' +\n",
              "            '<a target=\"_blank\" href=https://colab.research.google.com/notebooks/data_table.ipynb>data table notebook</a>'\n",
              "            + ' to learn more about interactive tables.';\n",
              "          element.innerHTML = '';\n",
              "          dataTable['output_type'] = 'display_data';\n",
              "          await google.colab.output.renderOutput(dataTable, element);\n",
              "          const docLink = document.createElement('div');\n",
              "          docLink.innerHTML = docLinkHtml;\n",
              "          element.appendChild(docLink);\n",
              "        }\n",
              "      </script>\n",
              "    </div>\n",
              "  </div>\n",
              "  "
            ],
            "text/plain": [
              "               img label\n",
              "5920  de42_055.bmp    12\n",
              "1782  aq41_004.bmp    17\n",
              "5556  cq47_017.bmp     9\n",
              "2898  bi72_006.bmp    10\n",
              "1812  aq49_050.bmp    22"
            ]
          },
          "metadata": {},
          "execution_count": 7
        }
      ]
    },
    {
      "cell_type": "code",
      "metadata": {
        "id": "zhoeMwk5aaTd"
      },
      "source": [
        "from tensorflow.keras.preprocessing.image import ImageDataGenerator"
      ],
      "execution_count": 8,
      "outputs": []
    },
    {
      "cell_type": "code",
      "metadata": {
        "id": "zIhTyw6HaaTd"
      },
      "source": [
        "train_image_gen=ImageDataGenerator(rescale=1.0/255)\n",
        "test_image_gen=ImageDataGenerator(rescale=1.0/255)"
      ],
      "execution_count": 9,
      "outputs": []
    },
    {
      "cell_type": "code",
      "metadata": {
        "colab": {
          "base_uri": "https://localhost:8080/"
        },
        "id": "ajLdcxGgaaTe",
        "outputId": "23f0d977-e586-4ba6-c298-b7cb6e14a6d1"
      },
      "source": [
        "train_image_gen=train_image_gen.flow_from_dataframe(train_df,x_col=\"img\",y_col=\"label\",\n",
        "                                            directory=\"./bdh\",\n",
        "                                            batch_size=32,\n",
        "                                            target_size=(150,850),\n",
        "                                            color_mode='grayscale',\n",
        "                                            class_mode='sparse')"
      ],
      "execution_count": 10,
      "outputs": [
        {
          "output_type": "stream",
          "name": "stdout",
          "text": [
            "Found 6048 validated image filenames belonging to 22 classes.\n"
          ]
        }
      ]
    },
    {
      "cell_type": "code",
      "metadata": {
        "colab": {
          "base_uri": "https://localhost:8080/"
        },
        "id": "9l75gGK2aaTf",
        "outputId": "0474b237-852b-45ba-96ad-a9691dff4305"
      },
      "source": [
        "test_image_gen=test_image_gen.flow_from_dataframe(test_df,x_col=\"img\",y_col=\"label\",\n",
        "                                            directory=\"./bdh\",\n",
        "                                            batch_size=32,\n",
        "                                            target_size=(150,850),\n",
        "                                            color_mode='grayscale',\n",
        "                                            class_mode='sparse')"
      ],
      "execution_count": 11,
      "outputs": [
        {
          "output_type": "stream",
          "name": "stdout",
          "text": [
            "Found 1512 validated image filenames belonging to 22 classes.\n"
          ]
        }
      ]
    },
    {
      "cell_type": "code",
      "metadata": {
        "id": "NCfVKSaUaaTf"
      },
      "source": [
        "import tensorflow as tf"
      ],
      "execution_count": 12,
      "outputs": []
    },
    {
      "cell_type": "code",
      "metadata": {
        "id": "M4CuMufWaaTg"
      },
      "source": [
        "model = tf.keras.models.Sequential([\n",
        "    # Note the input shape is the desired size of the image 850x150 with 1 bytes color\n",
        "    # This is the first convolution\n",
        "    tf.keras.layers.Conv2D(32, (3,3), activation='relu', input_shape=(150, 850, 1)),\n",
        "    tf.keras.layers.MaxPooling2D(2, 2),\n",
        "    # The third convolution\n",
        "    tf.keras.layers.Conv2D(64, (3,3), activation='relu'),\n",
        "    tf.keras.layers.MaxPooling2D(2,2),\n",
        "    # The fourth convolution\n",
        "    tf.keras.layers.Conv2D(64, (3,3), activation='relu'),\n",
        "    tf.keras.layers.MaxPooling2D(2,2),\n",
        "    # The fifth convolution\n",
        "    tf.keras.layers.Conv2D(32, (3,3), activation='relu'),\n",
        "    tf.keras.layers.MaxPooling2D(2,2),\n",
        "    # Flatten the results to feed into a DNN\n",
        "    tf.keras.layers.Reshape((1,-1)),\n",
        "    # Bidirectional layer of 32 neurons with LSTM\n",
        "    tf.keras.layers.Bidirectional(tf.keras.layers.LSTM(32,return_sequences=True)),\n",
        "    tf.keras.layers.Bidirectional(tf.keras.layers.LSTM(32)),\n",
        "    # Only 22 output neuron.\n",
        "    tf.keras.layers.Dense(128,activation='relu'),\n",
        "    tf.keras.layers.Dense(64,activation='relu'),\n",
        "    tf.keras.layers.Dense(22, activation='softmax')\n",
        "])"
      ],
      "execution_count": 13,
      "outputs": []
    },
    {
      "cell_type": "code",
      "metadata": {
        "id": "5DEMFMntaaTg",
        "colab": {
          "base_uri": "https://localhost:8080/"
        },
        "outputId": "2bf660ef-e2d7-47f3-a427-4934b0babdef"
      },
      "source": [
        "loss=tf.keras.losses.sparse_categorical_crossentropy\n",
        "optim=tf.keras.optimizers.Adam()\n",
        "myCallBack=tf.keras.callbacks.EarlyStopping(monitor=\"val_accuracy\",patience=3)\n",
        "\n",
        "model.compile(optimizer=optim, loss=loss, metrics=['accuracy'])\n",
        "\n",
        "_=tf.keras.utils.plot_model(\n",
        "    model, to_file='./simpleCNN_RNN.png', show_shapes=True, show_layer_names=False,\n",
        ")\n",
        "model.summary()"
      ],
      "execution_count": 14,
      "outputs": [
        {
          "output_type": "stream",
          "name": "stdout",
          "text": [
            "Model: \"sequential\"\n",
            "_________________________________________________________________\n",
            " Layer (type)                Output Shape              Param #   \n",
            "=================================================================\n",
            " conv2d (Conv2D)             (None, 148, 848, 32)      320       \n",
            "                                                                 \n",
            " max_pooling2d (MaxPooling2D  (None, 74, 424, 32)      0         \n",
            " )                                                               \n",
            "                                                                 \n",
            " conv2d_1 (Conv2D)           (None, 72, 422, 64)       18496     \n",
            "                                                                 \n",
            " max_pooling2d_1 (MaxPooling  (None, 36, 211, 64)      0         \n",
            " 2D)                                                             \n",
            "                                                                 \n",
            " conv2d_2 (Conv2D)           (None, 34, 209, 64)       36928     \n",
            "                                                                 \n",
            " max_pooling2d_2 (MaxPooling  (None, 17, 104, 64)      0         \n",
            " 2D)                                                             \n",
            "                                                                 \n",
            " conv2d_3 (Conv2D)           (None, 15, 102, 32)       18464     \n",
            "                                                                 \n",
            " max_pooling2d_3 (MaxPooling  (None, 7, 51, 32)        0         \n",
            " 2D)                                                             \n",
            "                                                                 \n",
            " reshape (Reshape)           (None, 1, 11424)          0         \n",
            "                                                                 \n",
            " bidirectional (Bidirectiona  (None, 1, 64)            2932992   \n",
            " l)                                                              \n",
            "                                                                 \n",
            " bidirectional_1 (Bidirectio  (None, 64)               24832     \n",
            " nal)                                                            \n",
            "                                                                 \n",
            " dense (Dense)               (None, 128)               8320      \n",
            "                                                                 \n",
            " dense_1 (Dense)             (None, 64)                8256      \n",
            "                                                                 \n",
            " dense_2 (Dense)             (None, 22)                1430      \n",
            "                                                                 \n",
            "=================================================================\n",
            "Total params: 3,050,038\n",
            "Trainable params: 3,050,038\n",
            "Non-trainable params: 0\n",
            "_________________________________________________________________\n"
          ]
        }
      ]
    },
    {
      "cell_type": "code",
      "metadata": {
        "colab": {
          "base_uri": "https://localhost:8080/"
        },
        "id": "zuRqSD63aaTh",
        "outputId": "68588070-8acd-48ca-f84f-ee42e2497500"
      },
      "source": [
        "history=model.fit(train_image_gen,epochs=15,steps_per_epoch=189,validation_data=test_image_gen,callbacks=[myCallBack])"
      ],
      "execution_count": 15,
      "outputs": [
        {
          "output_type": "stream",
          "name": "stdout",
          "text": [
            "Epoch 1/15\n",
            "189/189 [==============================] - 64s 235ms/step - loss: 1.5400 - accuracy: 0.5607 - val_loss: 0.4762 - val_accuracy: 0.8452\n",
            "Epoch 2/15\n",
            "189/189 [==============================] - 42s 220ms/step - loss: 0.2698 - accuracy: 0.9086 - val_loss: 0.2695 - val_accuracy: 0.9193\n",
            "Epoch 3/15\n",
            "189/189 [==============================] - 42s 221ms/step - loss: 0.0900 - accuracy: 0.9760 - val_loss: 0.2214 - val_accuracy: 0.9378\n",
            "Epoch 4/15\n",
            "189/189 [==============================] - 42s 220ms/step - loss: 0.0239 - accuracy: 0.9950 - val_loss: 0.2078 - val_accuracy: 0.9497\n",
            "Epoch 5/15\n",
            "189/189 [==============================] - 42s 221ms/step - loss: 0.0087 - accuracy: 0.9992 - val_loss: 0.1972 - val_accuracy: 0.9530\n",
            "Epoch 6/15\n",
            "189/189 [==============================] - 42s 222ms/step - loss: 0.0027 - accuracy: 0.9998 - val_loss: 0.1969 - val_accuracy: 0.9537\n",
            "Epoch 7/15\n",
            "189/189 [==============================] - 42s 222ms/step - loss: 0.0010 - accuracy: 1.0000 - val_loss: 0.1977 - val_accuracy: 0.9583\n",
            "Epoch 8/15\n",
            "189/189 [==============================] - 42s 221ms/step - loss: 6.5420e-04 - accuracy: 1.0000 - val_loss: 0.2018 - val_accuracy: 0.9570\n",
            "Epoch 9/15\n",
            "189/189 [==============================] - 42s 221ms/step - loss: 4.8567e-04 - accuracy: 1.0000 - val_loss: 0.2048 - val_accuracy: 0.9563\n",
            "Epoch 10/15\n",
            "189/189 [==============================] - 42s 221ms/step - loss: 3.7538e-04 - accuracy: 1.0000 - val_loss: 0.2081 - val_accuracy: 0.9563\n"
          ]
        }
      ]
    },
    {
      "cell_type": "code",
      "metadata": {
        "id": "wSvl_wlCgGm1"
      },
      "source": [
        "#-----------------------------------------------------------------------\n",
        "# Retrieve a list of list results on training and test data of 1st model\n",
        "# sets for each training epoch\n",
        "#-----------------------------------------------------------------------\n",
        "acc_hist=history.history['accuracy']\n",
        "val_acc_hist=history.history['val_accuracy']\n",
        "loss_hist=history.history['loss']\n",
        "val_loss_hist=history.history['val_loss']\n",
        "\n",
        "epochs=range(len(acc_hist)) # Get number of epochs"
      ],
      "execution_count": 16,
      "outputs": []
    },
    {
      "cell_type": "code",
      "source": [
        "#-----------------------------------------------------------------------\n",
        "# Plot training and validation accuracy and loss per epoch for 3rd model\n",
        "#-----------------------------------------------------------------------\n",
        "fig, (axs1, axs2) = plt.subplots(1, 2,figsize=(12,5),sharey=False)\n",
        "fig.suptitle('Training and validation Accuracy/Loss')\n",
        "\n",
        "axs1.set_title('Model 3 Accuracy')\n",
        "axs1.set(xlabel=\"Epochs\",ylabel=\"Accuracy\")\n",
        "axs1.plot(epochs, acc_hist,'b',label=\"acc\")\n",
        "axs1.plot(epochs, val_acc_hist,'r',label=\"val_acc\")\n",
        "axs1.legend(loc=\"upper left\")\n",
        "\n",
        "axs2.set_title('Model 3 Loss')\n",
        "axs2.set(xlabel=\"Epochs\",ylabel=\"Loss\")\n",
        "axs2.plot(epochs, loss_hist,'b',label=\"loss\")\n",
        "axs2.plot(epochs, val_loss_hist,'r',label=\"val_loss\")\n",
        "axs2.legend(loc=\"upper right\")\n",
        "\n",
        "plt.savefig(\"model3accloss.png\")\n",
        "plt.show()"
      ],
      "metadata": {
        "colab": {
          "base_uri": "https://localhost:8080/",
          "height": 370
        },
        "id": "9KCNvFVGPzqL",
        "outputId": "37583299-4ee6-4589-e650-0d69ad135de5"
      },
      "execution_count": 30,
      "outputs": [
        {
          "output_type": "display_data",
          "data": {
            "image/png": "[encoded data removed]",
            "text/plain": [
              "<Figure size 864x360 with 2 Axes>"
            ]
          },
          "metadata": {
            "needs_background": "light"
          }
        }
      ]
    },
    {
      "cell_type": "code",
      "source": [
        "#test place\n",
        "\n",
        "\"\"\"\n",
        "5920\tde42_055.bmp\t12\n",
        "1782\taq41_004.bmp\t17\n",
        "5556\tcq47_017.bmp\t9\n",
        "2898\tbi72_006.bmp\t10\n",
        "1812\taq49_050.bmp\t22\n",
        "\"\"\"\n",
        "\n",
        "#img_path = \"chimakh.bmp\"\n",
        "\n",
        "img_path=\"./bdh/bi72_006.bmp\"\n",
        "img = cv2.imread(img_path,cv2.IMREAD_GRAYSCALE)\n",
        "img= cv2.resize(img,(850,150))\n",
        "#img=img/255.0\n",
        "\n",
        "plt.imshow(img)\n",
        "plt.show()\n",
        "\n",
        "img_array = tf.keras.preprocessing.image.img_to_array(img)\n",
        "img_batch = np.expand_dims(img_array, axis=0)\n",
        "\n",
        "print(\"img_batch shape\",img_batch.shape)\n",
        "\n",
        "prediction = model.predict(img_batch)\n",
        "np.argmax(prediction,axis=1)[0]"
      ],
      "metadata": {
        "id": "jzAwK8-7LRBg",
        "colab": {
          "base_uri": "https://localhost:8080/",
          "height": 146
        },
        "outputId": "169c67fe-601e-4bf9-a418-a80e02e3c0b4"
      },
      "execution_count": 34,
      "outputs": [
        {
          "output_type": "display_data",
          "data": {
            "image/png": "[encoded data removed]",
            "text/plain": [
              "<Figure size 432x288 with 1 Axes>"
            ]
          },
          "metadata": {
            "needs_background": "light"
          }
        },
        {
          "output_type": "stream",
          "name": "stdout",
          "text": [
            "img_batch shape (1, 150, 850, 1)\n"
          ]
        },
        {
          "output_type": "execute_result",
          "data": {
            "text/plain": [
              "1"
            ]
          },
          "metadata": {},
          "execution_count": 34
        }
      ]
    },
    {
      "cell_type": "code",
      "source": [
        "train_image_gen.class_indices"
      ],
      "metadata": {
        "colab": {
          "base_uri": "https://localhost:8080/"
        },
        "id": "vzNo4GP2TW3C",
        "outputId": "4c530afc-7cab-4150-e466-ab9d6d8a2ae2"
      },
      "execution_count": 33,
      "outputs": [
        {
          "output_type": "execute_result",
          "data": {
            "text/plain": [
              "{'1': 0,\n",
              " '10': 1,\n",
              " '11': 2,\n",
              " '12': 3,\n",
              " '13': 4,\n",
              " '14': 5,\n",
              " '15': 6,\n",
              " '16': 7,\n",
              " '17': 8,\n",
              " '18': 9,\n",
              " '19': 10,\n",
              " '2': 11,\n",
              " '20': 12,\n",
              " '21': 13,\n",
              " '22': 14,\n",
              " '3': 15,\n",
              " '4': 16,\n",
              " '5': 17,\n",
              " '6': 18,\n",
              " '7': 19,\n",
              " '8': 20,\n",
              " '9': 21}"
            ]
          },
          "metadata": {},
          "execution_count": 33
        }
      ]
    },
    {
      "cell_type": "code",
      "source": [
        ""
      ],
      "metadata": {
        "id": "wp4lw3EtTZ8e"
      },
      "execution_count": null,
      "outputs": []
    }
  ]
}