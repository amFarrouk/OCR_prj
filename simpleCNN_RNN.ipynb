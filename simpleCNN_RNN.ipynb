{
  "nbformat": 4,
  "nbformat_minor": 0,
  "metadata": {
    "colab": {
      "name": "simpleCNN-RNN.ipynb",
      "provenance": [],
      "collapsed_sections": [],
      "include_colab_link": true
    },
    "interpreter": {
      "hash": "652067eec5de986345d2a6410d7e1666adff1463be4220feb6214403227df83a"
    },
    "kernelspec": {
      "display_name": "Python 3.8.2 64-bit",
      "language": "python",
      "name": "python3"
    },
    "language_info": {
      "codemirror_mode": {
        "name": "ipython",
        "version": 3
      },
      "file_extension": ".py",
      "mimetype": "text/x-python",
      "name": "python",
      "nbconvert_exporter": "python",
      "pygments_lexer": "ipython3",
      "version": "3.8.2"
    },
    "accelerator": "GPU"
  },
  "cells": [
    {
      "cell_type": "markdown",
      "metadata": {
        "id": "view-in-github",
        "colab_type": "text"
      },
      "source": [
        "<a href=\"https://colab.research.google.com/github/amFarrouk/OCR_prj/blob/main/simpleCNN_RNN.ipynb\" target=\"_parent\"><img src=\"https://colab.research.google.com/assets/colab-badge.svg\" alt=\"Open In Colab\"/></a>"
      ]
    },
    {
      "cell_type": "code",
      "metadata": {
        "id": "nSohdxGbaaTI"
      },
      "source": [
        "import cv2\n",
        "import pandas as pd\n",
        "import os\n",
        "import matplotlib.pyplot as plt\n",
        "import zipfile"
      ],
      "execution_count": 1,
      "outputs": []
    },
    {
      "cell_type": "code",
      "metadata": {
        "id": "TjPvAvqIt2ad",
        "colab": {
          "base_uri": "https://localhost:8080/"
        },
        "outputId": "ed29f31c-10cc-4a59-ade6-44264d19f6ac"
      },
      "source": [
        "!wget https://raw.githubusercontent.com/amFarrouk/OCR_prj/main/bdh.zip\n",
        "!unzip -qq ./bdh.zip \n",
        "!rm ./bdh.zip"
      ],
      "execution_count": 2,
      "outputs": [
        {
          "output_type": "stream",
          "name": "stdout",
          "text": [
            "--2021-12-11 22:45:11--  https://raw.githubusercontent.com/amFarrouk/OCR_prj/main/bdh.zip\n",
            "Resolving raw.githubusercontent.com (raw.githubusercontent.com)... 185.199.109.133, 185.199.108.133, 185.199.110.133, ...\n",
            "Connecting to raw.githubusercontent.com (raw.githubusercontent.com)|185.199.109.133|:443... connected.\n",
            "HTTP request sent, awaiting response... 200 OK\n",
            "Length: 7536168 (7.2M) [application/zip]\n",
            "Saving to: ‘bdh.zip’\n",
            "\n",
            "bdh.zip             100%[===================>]   7.19M  --.-KB/s    in 0.1s    \n",
            "\n",
            "2021-12-11 22:45:12 (70.2 MB/s) - ‘bdh.zip’ saved [7536168/7536168]\n",
            "\n"
          ]
        }
      ]
    },
    {
      "cell_type": "code",
      "metadata": {
        "colab": {
          "base_uri": "https://localhost:8080/"
        },
        "id": "X1y7XaIfQH3f",
        "outputId": "ba909f64-f19e-41bd-842d-1845c2b4714b"
      },
      "source": [
        "!wget https://www.dropbox.com/s/qpagi0h1089kr2f/images_df.csv"
      ],
      "execution_count": 3,
      "outputs": [
        {
          "output_type": "stream",
          "name": "stdout",
          "text": [
            "--2021-12-11 22:45:13--  https://www.dropbox.com/s/qpagi0h1089kr2f/images_df.csv\n",
            "Resolving www.dropbox.com (www.dropbox.com)... 162.125.7.18, 2620:100:6031:18::a27d:5112\n",
            "Connecting to www.dropbox.com (www.dropbox.com)|162.125.7.18|:443... connected.\n",
            "HTTP request sent, awaiting response... 301 Moved Permanently\n",
            "Location: /s/raw/qpagi0h1089kr2f/images_df.csv [following]\n",
            "--2021-12-11 22:45:13--  https://www.dropbox.com/s/raw/qpagi0h1089kr2f/images_df.csv\n",
            "Reusing existing connection to www.dropbox.com:443.\n",
            "HTTP request sent, awaiting response... 302 Found\n",
            "Location: https://uc1ac3ffc5796ce115c8278f22fb.dl.dropboxusercontent.com/cd/0/inline/BbppZyVm5cGeZ4FZWgTXhWd0imn930wjtCFMjW3vP-Eau_JkSGEI7t4dGAPeiFuSnQ2Z_FZMhtYZOH5DRaMNlMJI2oiBRyhNcYu2MbZ5QMvlc3r1r7uAfFRL7KXRo2wNFtmElX1XS8eju51sVMWhjjZz/file# [following]\n",
            "--2021-12-11 22:45:14--  https://uc1ac3ffc5796ce115c8278f22fb.dl.dropboxusercontent.com/cd/0/inline/BbppZyVm5cGeZ4FZWgTXhWd0imn930wjtCFMjW3vP-Eau_JkSGEI7t4dGAPeiFuSnQ2Z_FZMhtYZOH5DRaMNlMJI2oiBRyhNcYu2MbZ5QMvlc3r1r7uAfFRL7KXRo2wNFtmElX1XS8eju51sVMWhjjZz/file\n",
            "Resolving uc1ac3ffc5796ce115c8278f22fb.dl.dropboxusercontent.com (uc1ac3ffc5796ce115c8278f22fb.dl.dropboxusercontent.com)... 162.125.81.15, 2620:100:6035:15::a27d:550f\n",
            "Connecting to uc1ac3ffc5796ce115c8278f22fb.dl.dropboxusercontent.com (uc1ac3ffc5796ce115c8278f22fb.dl.dropboxusercontent.com)|162.125.81.15|:443... connected.\n",
            "HTTP request sent, awaiting response... 200 OK\n",
            "Length: 125438 (122K) [text/plain]\n",
            "Saving to: ‘images_df.csv’\n",
            "\n",
            "images_df.csv       100%[===================>] 122.50K   313KB/s    in 0.4s    \n",
            "\n",
            "2021-12-11 22:45:15 (313 KB/s) - ‘images_df.csv’ saved [125438/125438]\n",
            "\n"
          ]
        }
      ]
    },
    {
      "cell_type": "code",
      "metadata": {
        "colab": {
          "base_uri": "https://localhost:8080/",
          "height": 206
        },
        "id": "zQQ_xXdvSWPv",
        "outputId": "7b7271c6-7a4d-42fc-eeb1-d66f6b91180e"
      },
      "source": [
        "images_df=pd.read_csv(\"./images_df.csv\",header=None,names=[\"img\",\"label\"])\n",
        "images_df[\"label\"]=images_df[\"label\"].apply(lambda x : str(x))\n",
        "images_df.head()"
      ],
      "execution_count": 4,
      "outputs": [
        {
          "output_type": "execute_result",
          "data": {
            "text/html": [
              "<div>\n",
              "<style scoped>\n",
              "    .dataframe tbody tr th:only-of-type {\n",
              "        vertical-align: middle;\n",
              "    }\n",
              "\n",
              "    .dataframe tbody tr th {\n",
              "        vertical-align: top;\n",
              "    }\n",
              "\n",
              "    .dataframe thead th {\n",
              "        text-align: right;\n",
              "    }\n",
              "</style>\n",
              "<table border=\"1\" class=\"dataframe\">\n",
              "  <thead>\n",
              "    <tr style=\"text-align: right;\">\n",
              "      <th></th>\n",
              "      <th>img</th>\n",
              "      <th>label</th>\n",
              "    </tr>\n",
              "  </thead>\n",
              "  <tbody>\n",
              "    <tr>\n",
              "      <th>0</th>\n",
              "      <td>ae07_005.bmp</td>\n",
              "      <td>18</td>\n",
              "    </tr>\n",
              "    <tr>\n",
              "      <th>1</th>\n",
              "      <td>ae07_011.bmp</td>\n",
              "      <td>17</td>\n",
              "    </tr>\n",
              "    <tr>\n",
              "      <th>2</th>\n",
              "      <td>ae07_014.bmp</td>\n",
              "      <td>20</td>\n",
              "    </tr>\n",
              "    <tr>\n",
              "      <th>3</th>\n",
              "      <td>ae07_015.bmp</td>\n",
              "      <td>18</td>\n",
              "    </tr>\n",
              "    <tr>\n",
              "      <th>4</th>\n",
              "      <td>ae07_022.bmp</td>\n",
              "      <td>12</td>\n",
              "    </tr>\n",
              "  </tbody>\n",
              "</table>\n",
              "</div>"
            ],
            "text/plain": [
              "            img label\n",
              "0  ae07_005.bmp    18\n",
              "1  ae07_011.bmp    17\n",
              "2  ae07_014.bmp    20\n",
              "3  ae07_015.bmp    18\n",
              "4  ae07_022.bmp    12"
            ]
          },
          "metadata": {},
          "execution_count": 4
        }
      ]
    },
    {
      "cell_type": "code",
      "metadata": {
        "id": "B5AmEhiCaaTT"
      },
      "source": [
        "labels=images_df['label']\n",
        "labels=labels.to_numpy()"
      ],
      "execution_count": 5,
      "outputs": []
    },
    {
      "cell_type": "code",
      "metadata": {
        "colab": {
          "base_uri": "https://localhost:8080/",
          "height": 501
        },
        "id": "J48PNIZpaaTU",
        "outputId": "2bfb703a-c138-460b-b400-f250b6b1e022"
      },
      "source": [
        "plt.figure(figsize=(8,8))\n",
        "plt.xlim()\n",
        "plt.xlabel(\"labels\")\n",
        "plt.ylabel(\"num_words_in_labs\")\n",
        "plt.hist(labels,bins=22)\n",
        "plt.show()"
      ],
      "execution_count": 6,
      "outputs": [
        {
          "output_type": "display_data",
          "data": {
            "image/png": "[encoded data removed]",
            "text/plain": [
              "<Figure size 576x576 with 1 Axes>"
            ]
          },
          "metadata": {
            "needs_background": "light"
          }
        }
      ]
    },
    {
      "cell_type": "code",
      "metadata": {
        "id": "KXNsE23raaTV"
      },
      "source": [
        "img1=cv2.imread(\"bdh/ae07_005.bmp\",cv2.IMREAD_GRAYSCALE)\n",
        "img2=cv2.imread(\"bdh/ae07_031.bmp\",cv2.IMREAD_GRAYSCALE)\n",
        "img3=cv2.imread(\"bdh/ae09_017.bmp\",cv2.IMREAD_GRAYSCALE)\n",
        "img4=cv2.imread(\"bdh/ai64_020.bmp\",cv2.IMREAD_GRAYSCALE)"
      ],
      "execution_count": 7,
      "outputs": []
    },
    {
      "cell_type": "code",
      "metadata": {
        "id": "KIx-JyKpaaTV"
      },
      "source": [
        "imgresize1 = cv2.resize(img1, (760, 120)) \n",
        "imgresize2 = cv2.resize(img2, (760, 120)) \n",
        "imgresize3 = cv2.resize(img3, (760, 120)) \n",
        "imgresize4 = cv2.resize(img4, (760, 120)) "
      ],
      "execution_count": 8,
      "outputs": []
    },
    {
      "cell_type": "code",
      "metadata": {
        "colab": {
          "base_uri": "https://localhost:8080/",
          "height": 243
        },
        "id": "f-ICyXKbaaTW",
        "outputId": "03391611-3f98-46ba-8003-3e91e389c970"
      },
      "source": [
        "_, axarr = plt.subplots(2,2)\n",
        "axarr[0,0].imshow(img1)\n",
        "axarr[0,0].set_xlabel(\"ae07_005.bmp\")\n",
        "axarr[0,1].imshow(img2)\n",
        "axarr[0,1].set_xlabel(\"ae07_031.bmp\")\n",
        "axarr[1,0].imshow(img3)\n",
        "axarr[1,0].set_xlabel(\"ae09_017.bmp\")\n",
        "axarr[1,1].imshow(img4)\n",
        "axarr[1,1].set_xlabel(\"ai64_020.bmp\")"
      ],
      "execution_count": 9,
      "outputs": [
        {
          "output_type": "execute_result",
          "data": {
            "text/plain": [
              "Text(0.5, 0, 'ai64_020.bmp')"
            ]
          },
          "metadata": {},
          "execution_count": 9
        },
        {
          "output_type": "display_data",
          "data": {
            "image/png": "[encoded data removed]",
            "text/plain": [
              "<Figure size 432x288 with 4 Axes>"
            ]
          },
          "metadata": {
            "needs_background": "light"
          }
        }
      ]
    },
    {
      "cell_type": "code",
      "metadata": {
        "colab": {
          "base_uri": "https://localhost:8080/",
          "height": 226
        },
        "id": "Z_Dd9r-iaaTX",
        "outputId": "d8572708-c0e9-4940-85e8-309cec2d5fca"
      },
      "source": [
        "_, axarr = plt.subplots(2,2)\n",
        "axarr[0,0].imshow(imgresize1)\n",
        "axarr[0,0].set_xlabel(\"ae07_005.bmp\")\n",
        "axarr[0,1].imshow(imgresize2)\n",
        "axarr[0,1].set_xlabel(\"ae07_031.bmp\")\n",
        "axarr[1,0].imshow(imgresize3)\n",
        "axarr[1,0].set_xlabel(\"ae09_017.bmp\")\n",
        "axarr[1,1].imshow(imgresize4)\n",
        "axarr[1,1].set_xlabel(\"ai64_020.bmp\")"
      ],
      "execution_count": 10,
      "outputs": [
        {
          "output_type": "execute_result",
          "data": {
            "text/plain": [
              "Text(0.5, 0, 'ai64_020.bmp')"
            ]
          },
          "metadata": {},
          "execution_count": 10
        },
        {
          "output_type": "display_data",
          "data": {
            "image/png": "[encoded data removed]",
            "text/plain": [
              "<Figure size 432x288 with 4 Axes>"
            ]
          },
          "metadata": {
            "needs_background": "light"
          }
        }
      ]
    },
    {
      "cell_type": "code",
      "metadata": {
        "id": "JW5bEQO5aaTb"
      },
      "source": [
        "from sklearn.model_selection import train_test_split"
      ],
      "execution_count": 11,
      "outputs": []
    },
    {
      "cell_type": "code",
      "metadata": {
        "colab": {
          "base_uri": "https://localhost:8080/",
          "height": 224
        },
        "id": "7KgmfKvEaaTc",
        "outputId": "da9d35bd-e6c7-491d-8eaa-6e587508672a"
      },
      "source": [
        "all_x,all_y=images_df[\"img\"],images_df[\"label\"]\n",
        "\n",
        "xtrain,xtest,ytrain,ytest=train_test_split(all_x,all_y,train_size=0.8,random_state=1,shuffle=True)\n",
        "\n",
        "train_df=pd.DataFrame(xtrain,columns=[\"img\"])\n",
        "train_df[\"label\"]=ytrain\n",
        "\n",
        "print(\"train_data:\")\n",
        "train_df.head()"
      ],
      "execution_count": 12,
      "outputs": [
        {
          "output_type": "stream",
          "name": "stdout",
          "text": [
            "train_data:\n"
          ]
        },
        {
          "output_type": "execute_result",
          "data": {
            "text/html": [
              "<div>\n",
              "<style scoped>\n",
              "    .dataframe tbody tr th:only-of-type {\n",
              "        vertical-align: middle;\n",
              "    }\n",
              "\n",
              "    .dataframe tbody tr th {\n",
              "        vertical-align: top;\n",
              "    }\n",
              "\n",
              "    .dataframe thead th {\n",
              "        text-align: right;\n",
              "    }\n",
              "</style>\n",
              "<table border=\"1\" class=\"dataframe\">\n",
              "  <thead>\n",
              "    <tr style=\"text-align: right;\">\n",
              "      <th></th>\n",
              "      <th>img</th>\n",
              "      <th>label</th>\n",
              "    </tr>\n",
              "  </thead>\n",
              "  <tbody>\n",
              "    <tr>\n",
              "      <th>5764</th>\n",
              "      <td>de12_032.bmp</td>\n",
              "      <td>16</td>\n",
              "    </tr>\n",
              "    <tr>\n",
              "      <th>7223</th>\n",
              "      <td>dm34_024.bmp</td>\n",
              "      <td>16</td>\n",
              "    </tr>\n",
              "    <tr>\n",
              "      <th>5124</th>\n",
              "      <td>cj14_066.bmp</td>\n",
              "      <td>13</td>\n",
              "    </tr>\n",
              "    <tr>\n",
              "      <th>5621</th>\n",
              "      <td>cq65_006.bmp</td>\n",
              "      <td>8</td>\n",
              "    </tr>\n",
              "    <tr>\n",
              "      <th>2624</th>\n",
              "      <td>bi06_006.bmp</td>\n",
              "      <td>16</td>\n",
              "    </tr>\n",
              "  </tbody>\n",
              "</table>\n",
              "</div>"
            ],
            "text/plain": [
              "               img label\n",
              "5764  de12_032.bmp    16\n",
              "7223  dm34_024.bmp    16\n",
              "5124  cj14_066.bmp    13\n",
              "5621  cq65_006.bmp     8\n",
              "2624  bi06_006.bmp    16"
            ]
          },
          "metadata": {},
          "execution_count": 12
        }
      ]
    },
    {
      "cell_type": "code",
      "metadata": {
        "colab": {
          "base_uri": "https://localhost:8080/",
          "height": 224
        },
        "id": "HzcTTXqGaaTc",
        "outputId": "90c1b1e8-7c3a-49a4-e034-2096113ca470"
      },
      "source": [
        "test_df=pd.DataFrame(xtest,columns=[\"img\"])\n",
        "test_df[\"label\"]=ytest\n",
        "\n",
        "print(\"test_data:\")\n",
        "test_df.head()"
      ],
      "execution_count": 13,
      "outputs": [
        {
          "output_type": "stream",
          "name": "stdout",
          "text": [
            "test_data:\n"
          ]
        },
        {
          "output_type": "execute_result",
          "data": {
            "text/html": [
              "<div>\n",
              "<style scoped>\n",
              "    .dataframe tbody tr th:only-of-type {\n",
              "        vertical-align: middle;\n",
              "    }\n",
              "\n",
              "    .dataframe tbody tr th {\n",
              "        vertical-align: top;\n",
              "    }\n",
              "\n",
              "    .dataframe thead th {\n",
              "        text-align: right;\n",
              "    }\n",
              "</style>\n",
              "<table border=\"1\" class=\"dataframe\">\n",
              "  <thead>\n",
              "    <tr style=\"text-align: right;\">\n",
              "      <th></th>\n",
              "      <th>img</th>\n",
              "      <th>label</th>\n",
              "    </tr>\n",
              "  </thead>\n",
              "  <tbody>\n",
              "    <tr>\n",
              "      <th>3069</th>\n",
              "      <td>bj01_033.bmp</td>\n",
              "      <td>3</td>\n",
              "    </tr>\n",
              "    <tr>\n",
              "      <th>642</th>\n",
              "      <td>af62_017.bmp</td>\n",
              "      <td>22</td>\n",
              "    </tr>\n",
              "    <tr>\n",
              "      <th>7266</th>\n",
              "      <td>dq06_018.bmp</td>\n",
              "      <td>8</td>\n",
              "    </tr>\n",
              "    <tr>\n",
              "      <th>5765</th>\n",
              "      <td>de12_034.bmp</td>\n",
              "      <td>16</td>\n",
              "    </tr>\n",
              "    <tr>\n",
              "      <th>2229</th>\n",
              "      <td>be92_023.bmp</td>\n",
              "      <td>13</td>\n",
              "    </tr>\n",
              "  </tbody>\n",
              "</table>\n",
              "</div>"
            ],
            "text/plain": [
              "               img label\n",
              "3069  bj01_033.bmp     3\n",
              "642   af62_017.bmp    22\n",
              "7266  dq06_018.bmp     8\n",
              "5765  de12_034.bmp    16\n",
              "2229  be92_023.bmp    13"
            ]
          },
          "metadata": {},
          "execution_count": 13
        }
      ]
    },
    {
      "cell_type": "code",
      "metadata": {
        "id": "zhoeMwk5aaTd"
      },
      "source": [
        "from tensorflow.keras.preprocessing.image import ImageDataGenerator"
      ],
      "execution_count": 14,
      "outputs": []
    },
    {
      "cell_type": "code",
      "metadata": {
        "id": "zIhTyw6HaaTd"
      },
      "source": [
        "train_image_gen=ImageDataGenerator(rescale=1.0/255)\n",
        "test_image_gen=ImageDataGenerator(rescale=1.0/255)"
      ],
      "execution_count": 15,
      "outputs": []
    },
    {
      "cell_type": "code",
      "metadata": {
        "colab": {
          "base_uri": "https://localhost:8080/"
        },
        "id": "ajLdcxGgaaTe",
        "outputId": "7322c732-42dc-45a8-a6f6-c584c3b7911c"
      },
      "source": [
        "train_image_gen=train_image_gen.flow_from_dataframe(train_df,x_col=\"img\",y_col=\"label\",\n",
        "                                            directory=\"./bdh\",\n",
        "                                            batch_size=32,\n",
        "                                            target_size=(imgresize1.shape[0],imgresize1.shape[1]),\n",
        "                                            color_mode='grayscale',\n",
        "                                            class_mode='categorical')"
      ],
      "execution_count": 16,
      "outputs": [
        {
          "output_type": "stream",
          "name": "stdout",
          "text": [
            "Found 6048 validated image filenames belonging to 22 classes.\n"
          ]
        }
      ]
    },
    {
      "cell_type": "code",
      "metadata": {
        "colab": {
          "base_uri": "https://localhost:8080/"
        },
        "id": "9l75gGK2aaTf",
        "outputId": "72e85d95-3307-4bf9-c18b-8515b3555b14"
      },
      "source": [
        "test_image_gen=test_image_gen.flow_from_dataframe(test_df,x_col=\"img\",y_col=\"label\",\n",
        "                                            directory=\"./bdh\",\n",
        "                                            batch_size=32,\n",
        "                                            target_size=(imgresize1.shape[0],imgresize1.shape[1]),\n",
        "                                            color_mode='grayscale',\n",
        "                                            class_mode='categorical')"
      ],
      "execution_count": 17,
      "outputs": [
        {
          "output_type": "stream",
          "name": "stdout",
          "text": [
            "Found 1512 validated image filenames belonging to 22 classes.\n"
          ]
        }
      ]
    },
    {
      "cell_type": "code",
      "metadata": {
        "id": "NCfVKSaUaaTf"
      },
      "source": [
        "import tensorflow as tf"
      ],
      "execution_count": 18,
      "outputs": []
    },
    {
      "cell_type": "code",
      "metadata": {
        "id": "M4CuMufWaaTg"
      },
      "source": [
        "model = tf.keras.models.Sequential([\n",
        "    # Note the input shape is the desired size of the image 300x300 with 3 bytes color\n",
        "    # This is the first convolution\n",
        "    tf.keras.layers.Conv2D(32, (3,3), activation='relu', input_shape=(760, 120, 1)),\n",
        "    tf.keras.layers.MaxPooling2D(2, 2),\n",
        "    # The third convolution\n",
        "    tf.keras.layers.Conv2D(64, (3,3), activation='relu'),\n",
        "    tf.keras.layers.MaxPooling2D(2,2),\n",
        "    # The fourth convolution\n",
        "    tf.keras.layers.Conv2D(64, (3,3), activation='relu'),\n",
        "    tf.keras.layers.MaxPooling2D(2,2),\n",
        "    # The fifth convolution\n",
        "    tf.keras.layers.Conv2D(32, (3,3), activation='relu'),\n",
        "    tf.keras.layers.MaxPooling2D(2,2),\n",
        "    # Flatten the results to feed into a DNN\n",
        "    tf.keras.layers.Reshape((1,-1)),\n",
        "    # Bidirectional layer of 32 neurons with LSTM\n",
        "    tf.keras.layers.Bidirectional(tf.keras.layers.LSTM(32,return_sequences=True)),\n",
        "    tf.keras.layers.Bidirectional(tf.keras.layers.LSTM(32)),\n",
        "    # Only 22 output neuron.\n",
        "    tf.keras.layers.Dense(64,activation='relu'),\n",
        "    tf.keras.layers.Dense(22, activation='softmax')\n",
        "])"
      ],
      "execution_count": 19,
      "outputs": []
    },
    {
      "cell_type": "code",
      "metadata": {
        "id": "5DEMFMntaaTg"
      },
      "source": [
        "loss=tf.keras.losses.categorical_crossentropy\n",
        "optim=tf.keras.optimizers.Adam()\n",
        "myCallBack=tf.keras.callbacks.EarlyStopping(monitor=\"val_accuracy\",patience=4)"
      ],
      "execution_count": 20,
      "outputs": []
    },
    {
      "cell_type": "code",
      "metadata": {
        "id": "i_QUKf64aaTh"
      },
      "source": [
        "model.compile(optimizer=optim, loss=loss, metrics=['accuracy'])"
      ],
      "execution_count": 21,
      "outputs": []
    },
    {
      "cell_type": "code",
      "metadata": {
        "colab": {
          "base_uri": "https://localhost:8080/"
        },
        "id": "xaBMgB-BCiGE",
        "outputId": "2800f73c-ca8b-4834-8d14-46cbb8dcd0af"
      },
      "source": [
        "_=tf.keras.utils.plot_model(\n",
        "    model, to_file='./simpleCNN_RNN1.png', show_shapes=True, show_layer_names=False,\n",
        ")\n",
        "model.summary()"
      ],
      "execution_count": 22,
      "outputs": [
        {
          "output_type": "stream",
          "name": "stdout",
          "text": [
            "Model: \"sequential\"\n",
            "_________________________________________________________________\n",
            " Layer (type)                Output Shape              Param #   \n",
            "=================================================================\n",
            " conv2d (Conv2D)             (None, 758, 118, 32)      320       \n",
            "                                                                 \n",
            " max_pooling2d (MaxPooling2D  (None, 379, 59, 32)      0         \n",
            " )                                                               \n",
            "                                                                 \n",
            " conv2d_1 (Conv2D)           (None, 377, 57, 64)       18496     \n",
            "                                                                 \n",
            " max_pooling2d_1 (MaxPooling  (None, 188, 28, 64)      0         \n",
            " 2D)                                                             \n",
            "                                                                 \n",
            " conv2d_2 (Conv2D)           (None, 186, 26, 64)       36928     \n",
            "                                                                 \n",
            " max_pooling2d_2 (MaxPooling  (None, 93, 13, 64)       0         \n",
            " 2D)                                                             \n",
            "                                                                 \n",
            " conv2d_3 (Conv2D)           (None, 91, 11, 32)        18464     \n",
            "                                                                 \n",
            " max_pooling2d_3 (MaxPooling  (None, 45, 5, 32)        0         \n",
            " 2D)                                                             \n",
            "                                                                 \n",
            " reshape (Reshape)           (None, 1, 7200)           0         \n",
            "                                                                 \n",
            " bidirectional (Bidirectiona  (None, 1, 64)            1851648   \n",
            " l)                                                              \n",
            "                                                                 \n",
            " bidirectional_1 (Bidirectio  (None, 64)               24832     \n",
            " nal)                                                            \n",
            "                                                                 \n",
            " dense (Dense)               (None, 64)                4160      \n",
            "                                                                 \n",
            " dense_1 (Dense)             (None, 22)                1430      \n",
            "                                                                 \n",
            "=================================================================\n",
            "Total params: 1,956,278\n",
            "Trainable params: 1,956,278\n",
            "Non-trainable params: 0\n",
            "_________________________________________________________________\n"
          ]
        }
      ]
    },
    {
      "cell_type": "code",
      "metadata": {
        "colab": {
          "base_uri": "https://localhost:8080/"
        },
        "id": "zuRqSD63aaTh",
        "outputId": "e0c10e41-bdf2-4b89-dc46-81363f06a41c"
      },
      "source": [
        "history=model.fit(train_image_gen,epochs=100,steps_per_epoch=189,validation_data=test_image_gen,callbacks=[myCallBack])"
      ],
      "execution_count": 23,
      "outputs": [
        {
          "output_type": "stream",
          "name": "stdout",
          "text": [
            "Epoch 1/100\n",
            "189/189 [==============================] - 52s 182ms/step - loss: 1.6568 - accuracy: 0.5685 - val_loss: 0.4380 - val_accuracy: 0.8902\n",
            "Epoch 2/100\n",
            "189/189 [==============================] - 32s 171ms/step - loss: 0.2491 - accuracy: 0.9350 - val_loss: 0.2156 - val_accuracy: 0.9405\n",
            "Epoch 3/100\n",
            "189/189 [==============================] - 32s 171ms/step - loss: 0.0741 - accuracy: 0.9830 - val_loss: 0.1447 - val_accuracy: 0.9603\n",
            "Epoch 4/100\n",
            "189/189 [==============================] - 32s 171ms/step - loss: 0.0216 - accuracy: 0.9967 - val_loss: 0.1372 - val_accuracy: 0.9610\n",
            "Epoch 5/100\n",
            "189/189 [==============================] - 32s 171ms/step - loss: 0.0066 - accuracy: 0.9995 - val_loss: 0.1167 - val_accuracy: 0.9676\n",
            "Epoch 6/100\n",
            "189/189 [==============================] - 32s 171ms/step - loss: 0.0030 - accuracy: 1.0000 - val_loss: 0.1117 - val_accuracy: 0.9696\n",
            "Epoch 7/100\n",
            "189/189 [==============================] - 32s 172ms/step - loss: 0.0019 - accuracy: 1.0000 - val_loss: 0.1133 - val_accuracy: 0.9683\n",
            "Epoch 8/100\n",
            "189/189 [==============================] - 32s 171ms/step - loss: 0.0014 - accuracy: 1.0000 - val_loss: 0.1142 - val_accuracy: 0.9683\n",
            "Epoch 9/100\n",
            "189/189 [==============================] - 32s 172ms/step - loss: 0.0010 - accuracy: 1.0000 - val_loss: 0.1156 - val_accuracy: 0.9689\n",
            "Epoch 10/100\n",
            "189/189 [==============================] - 32s 171ms/step - loss: 8.1875e-04 - accuracy: 1.0000 - val_loss: 0.1170 - val_accuracy: 0.9696\n"
          ]
        }
      ]
    },
    {
      "cell_type": "code",
      "metadata": {
        "id": "wSvl_wlCgGm1"
      },
      "source": [
        "#-----------------------------------------------------------------------\n",
        "# Retrieve a list of list results on training and test data of 1st model\n",
        "# sets for each training epoch\n",
        "#-----------------------------------------------------------------------\n",
        "acc_hist=history.history['accuracy']\n",
        "val_acc_hist=history.history['val_accuracy']\n",
        "loss_hist=history.history['loss']\n",
        "val_loss_hist=history.history['val_loss']\n",
        "\n",
        "epochs=range(len(acc_hist)) # Get number of epochs"
      ],
      "execution_count": 24,
      "outputs": []
    },
    {
      "cell_type": "code",
      "metadata": {
        "id": "_HIMsw_-N1l7"
      },
      "source": [
        "model2 = tf.keras.models.Sequential([\n",
        "    # Note the input shape is the desired size of the image 760x300 with 1 bytes color\n",
        "    # This is the first convolution\n",
        "    tf.keras.layers.Conv2D(64, (3,3), activation='relu', input_shape=(760, 120, 1)),\n",
        "    tf.keras.layers.MaxPooling2D(2, 2),\n",
        "    # The third convolution\n",
        "    tf.keras.layers.Conv2D(128, (3,3), activation='relu'),\n",
        "    tf.keras.layers.MaxPooling2D(2,2),\n",
        "    # The fourth convolution\n",
        "    tf.keras.layers.Conv2D(128, (3,3), activation='relu'),\n",
        "    tf.keras.layers.MaxPooling2D(2,2),\n",
        "    # The fifth convolution\n",
        "    tf.keras.layers.Conv2D(64, (3,3), activation='relu'),\n",
        "    tf.keras.layers.MaxPooling2D(2,2),\n",
        "    # Flatten the results to feed into a DNN\n",
        "    tf.keras.layers.Reshape((1,-1)),\n",
        "    # Bidirectional layer of 64 neurons with LSTM\n",
        "    tf.keras.layers.Bidirectional(tf.keras.layers.LSTM(64,return_sequences=True)),\n",
        "    tf.keras.layers.Bidirectional(tf.keras.layers.LSTM(64)),\n",
        "    # Only 22 output neuron.\n",
        "    tf.keras.layers.Dense(128,activation='relu'),\n",
        "    tf.keras.layers.Dense(22, activation='softmax')\n",
        "])"
      ],
      "execution_count": 25,
      "outputs": []
    },
    {
      "cell_type": "code",
      "metadata": {
        "id": "gaKZ2_6Ov9rQ"
      },
      "source": [
        "loss=tf.keras.losses.categorical_crossentropy\n",
        "optim=tf.keras.optimizers.Adam()\n",
        "myCallBack=tf.keras.callbacks.EarlyStopping(monitor=\"val_accuracy\",patience=4)\n",
        "\n",
        "model2.compile(optimizer=optim, loss=loss, metrics=['accuracy'])"
      ],
      "execution_count": 26,
      "outputs": []
    },
    {
      "cell_type": "code",
      "metadata": {
        "colab": {
          "base_uri": "https://localhost:8080/"
        },
        "id": "bZ4AneeWwERi",
        "outputId": "6b3f9cc7-c861-406e-aa2b-34a7afa9f964"
      },
      "source": [
        "history2=model2.fit(train_image_gen,epochs=100,steps_per_epoch=189,validation_data=test_image_gen,callbacks=[myCallBack])"
      ],
      "execution_count": 27,
      "outputs": [
        {
          "output_type": "stream",
          "name": "stdout",
          "text": [
            "Epoch 1/100\n",
            "189/189 [==============================] - 80s 365ms/step - loss: 1.1025 - accuracy: 0.7029 - val_loss: 0.2658 - val_accuracy: 0.9114\n",
            "Epoch 2/100\n",
            "189/189 [==============================] - 66s 351ms/step - loss: 0.1565 - accuracy: 0.9521 - val_loss: 0.1597 - val_accuracy: 0.9464\n",
            "Epoch 3/100\n",
            "189/189 [==============================] - 66s 351ms/step - loss: 0.0414 - accuracy: 0.9884 - val_loss: 0.1239 - val_accuracy: 0.9630\n",
            "Epoch 4/100\n",
            "189/189 [==============================] - 66s 350ms/step - loss: 0.0124 - accuracy: 0.9974 - val_loss: 0.1150 - val_accuracy: 0.9689\n",
            "Epoch 5/100\n",
            "189/189 [==============================] - 66s 351ms/step - loss: 0.0032 - accuracy: 0.9997 - val_loss: 0.0851 - val_accuracy: 0.9755\n",
            "Epoch 6/100\n",
            "189/189 [==============================] - 66s 350ms/step - loss: 8.2556e-04 - accuracy: 1.0000 - val_loss: 0.0842 - val_accuracy: 0.9821\n",
            "Epoch 7/100\n",
            "189/189 [==============================] - 66s 351ms/step - loss: 5.3485e-04 - accuracy: 1.0000 - val_loss: 0.0843 - val_accuracy: 0.9795\n",
            "Epoch 8/100\n",
            "189/189 [==============================] - 66s 351ms/step - loss: 4.0198e-04 - accuracy: 1.0000 - val_loss: 0.0849 - val_accuracy: 0.9795\n",
            "Epoch 9/100\n",
            "189/189 [==============================] - 66s 351ms/step - loss: 3.1847e-04 - accuracy: 1.0000 - val_loss: 0.0852 - val_accuracy: 0.9802\n",
            "Epoch 10/100\n",
            "189/189 [==============================] - 66s 350ms/step - loss: 2.5710e-04 - accuracy: 1.0000 - val_loss: 0.0859 - val_accuracy: 0.9808\n"
          ]
        }
      ]
    },
    {
      "cell_type": "code",
      "metadata": {
        "id": "ztpVDUYNwFph"
      },
      "source": [
        "#-----------------------------------------------------------------------\n",
        "# Retrieve a list of list results on training and test data of 2nd model\n",
        "# sets for each training epoch\n",
        "#-----------------------------------------------------------------------\n",
        "acc2_hist=history2.history['accuracy']\n",
        "val_acc2_hist=history2.history['val_accuracy']\n",
        "loss2_hist=history2.history['loss']\n",
        "val_loss2_hist=history2.history['val_loss']\n",
        "\n",
        "epochs2=range(len(acc2_hist)) # Get number of epochs"
      ],
      "execution_count": null,
      "outputs": []
    },
    {
      "cell_type": "code",
      "metadata": {
        "id": "mzKlFCpqwHXb"
      },
      "source": [
        "#----------------------------------------------------------------\n",
        "# Plot training and validation accuracy per epoch for both models\n",
        "#----------------------------------------------------------------\n",
        "fig, (axs1, axs2) = plt.subplots(1, 2,figsize=(12,5),sharey=True)\n",
        "fig.suptitle('Training and validation accuracy')\n",
        "\n",
        "axs1.set_title('Model 1')\n",
        "axs1.set(xlabel=\"Epochs\",ylabel=\"Accuracy\")\n",
        "axs1.plot(epochs, acc_hist,'b',label=\"acc\")\n",
        "axs1.plot(epochs, val_acc_hist,'r',label=\"val_acc\")\n",
        "\n",
        "axs2.set_title('Model 2')\n",
        "axs2.set(xlabel=\"Epochs\",ylabel=\"Accuracy\")\n",
        "axs2.plot(epochs2, acc2_hist,'b')\n",
        "axs2.plot(epochs2, val_acc2_hist,'r')\n",
        "\n",
        "fig.legend(loc=\"upper right\")\n",
        "plt.show()"
      ],
      "execution_count": null,
      "outputs": []
    },
    {
      "cell_type": "code",
      "metadata": {
        "colab": {
          "base_uri": "https://localhost:8080/",
          "height": 727
        },
        "id": "FG8AnsbAwJc_",
        "outputId": "524e84be-311f-4ac6-b1bd-9d482cba4637"
      },
      "source": [
        "#----------------------------------------------------------------\n",
        "# Plot training and validation accuracy per epoch for both models\n",
        "#----------------------------------------------------------------\n",
        "fig, (axs1, axs2) = plt.subplots(1, 2,figsize=(12,5),sharey=True)\n",
        "fig.suptitle('Training and validation loss')\n",
        "\n",
        "axs1.set_title('Model 1')\n",
        "axs1.set(xlabel=\"Epochs\",ylabel=\"Loss\")\n",
        "axs1.plot(epochs, loss_hist,'b',label=\"loss\")\n",
        "axs1.plot(epochs, val_loss_hist,'r',label=\"val_loss\")\n",
        "\n",
        "axs2.set_title('Model 2')\n",
        "axs2.set(xlabel=\"Epochs\",ylabel=\"Loss\")\n",
        "axs2.plot(epochs2, loss2_hist,'b')\n",
        "axs2.plot(epochs2, val_loss2_hist,'r')\n",
        "\n",
        "fig.legend(loc=\"upper right\")\n",
        "plt.show()"
      ],
      "execution_count": 30,
      "outputs": [
        {
          "data": {
            "image/png": "[encoded data removed]",
            "text/plain": [
              "<Figure size 864x360 with 2 Axes>"
            ]
          },
          "metadata": {},
          "output_type": "display_data"
        },
        {
          "output_type": "display_data",
          "data": {
            "image/png": "[encoded data removed]",
            "text/plain": [
              "<Figure size 864x360 with 2 Axes>"
            ]
          },
          "metadata": {
            "needs_background": "light"
          }
        }
      ]
    }
  ]
}