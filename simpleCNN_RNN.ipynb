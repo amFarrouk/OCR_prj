{
  "nbformat": 4,
  "nbformat_minor": 0,
  "metadata": {
    "colab": {
      "name": "simpleCNN-RNN.ipynb",
      "provenance": [],
      "collapsed_sections": [],
      "include_colab_link": true
    },
    "interpreter": {
      "hash": "652067eec5de986345d2a6410d7e1666adff1463be4220feb6214403227df83a"
    },
    "kernelspec": {
      "display_name": "Python 3.8.2 64-bit",
      "language": "python",
      "name": "python3"
    },
    "language_info": {
      "codemirror_mode": {
        "name": "ipython",
        "version": 3
      },
      "file_extension": ".py",
      "mimetype": "text/x-python",
      "name": "python",
      "nbconvert_exporter": "python",
      "pygments_lexer": "ipython3",
      "version": "3.8.2"
    },
    "accelerator": "GPU"
  },
  "cells": [
    {
      "cell_type": "markdown",
      "metadata": {
        "id": "view-in-github",
        "colab_type": "text"
      },
      "source": [
        "<a href=\"https://colab.research.google.com/github/amFarrouk/OCR_prj/blob/main/simpleCNN_RNN.ipynb\" target=\"_parent\"><img src=\"https://colab.research.google.com/assets/colab-badge.svg\" alt=\"Open In Colab\"/></a>"
      ]
    },
    {
      "cell_type": "code",
      "metadata": {
        "id": "nSohdxGbaaTI"
      },
      "source": [
        "import cv2\n",
        "import pandas as pd\n",
        "import os\n",
        "import matplotlib.pyplot as plt\n",
        "import zipfile"
      ],
      "execution_count": 1,
      "outputs": []
    },
    {
      "cell_type": "code",
      "metadata": {
        "id": "TjPvAvqIt2ad",
        "colab": {
          "base_uri": "https://localhost:8080/"
        },
        "outputId": "938ff9ea-1436-41d8-ccd5-8a748ddc1772"
      },
      "source": [
        "!wget https://raw.githubusercontent.com/amFarrouk/OCR_prj/main/bdh.zip\n",
        "!unzip -qq ./bdh.zip \n",
        "!rm ./bdh.zip"
      ],
      "execution_count": 2,
      "outputs": [
        {
          "output_type": "stream",
          "name": "stdout",
          "text": [
            "--2021-12-11 23:10:59--  https://raw.githubusercontent.com/amFarrouk/OCR_prj/main/bdh.zip\n",
            "Resolving raw.githubusercontent.com (raw.githubusercontent.com)... 185.199.111.133, 185.199.109.133, 185.199.110.133, ...\n",
            "Connecting to raw.githubusercontent.com (raw.githubusercontent.com)|185.199.111.133|:443... connected.\n",
            "HTTP request sent, awaiting response... 200 OK\n",
            "Length: 7536168 (7.2M) [application/zip]\n",
            "Saving to: ‘bdh.zip’\n",
            "\n",
            "bdh.zip             100%[===================>]   7.19M  --.-KB/s    in 0.09s   \n",
            "\n",
            "2021-12-11 23:10:59 (78.4 MB/s) - ‘bdh.zip’ saved [7536168/7536168]\n",
            "\n"
          ]
        }
      ]
    },
    {
      "cell_type": "code",
      "metadata": {
        "colab": {
          "base_uri": "https://localhost:8080/"
        },
        "id": "X1y7XaIfQH3f",
        "outputId": "73c732a1-daaf-4522-b01a-057c0474818b"
      },
      "source": [
        "!wget https://www.dropbox.com/s/qpagi0h1089kr2f/images_df.csv"
      ],
      "execution_count": 3,
      "outputs": [
        {
          "output_type": "stream",
          "name": "stdout",
          "text": [
            "--2021-12-11 23:11:03--  https://www.dropbox.com/s/qpagi0h1089kr2f/images_df.csv\n",
            "Resolving www.dropbox.com (www.dropbox.com)... 162.125.3.18, 2620:100:601b:18::a27d:812\n",
            "Connecting to www.dropbox.com (www.dropbox.com)|162.125.3.18|:443... connected.\n",
            "HTTP request sent, awaiting response... 301 Moved Permanently\n",
            "Location: /s/raw/qpagi0h1089kr2f/images_df.csv [following]\n",
            "--2021-12-11 23:11:04--  https://www.dropbox.com/s/raw/qpagi0h1089kr2f/images_df.csv\n",
            "Reusing existing connection to www.dropbox.com:443.\n",
            "HTTP request sent, awaiting response... 302 Found\n",
            "Location: https://uc69eeeaf0986b5fba7eb91483e8.dl.dropboxusercontent.com/cd/0/inline/Bbp-klMOLni2rp2LiUXPVh7D8aUJ6uaHT876XgjM5NuZYUbQkzwfGu9XjBEgQTBXJx_33gLQlG7ijxm6Z7NqTUNVUZ6i6h8kvibpIgaO6tUpsW50LjenXFPzoCxGBhWvIfbRVC4TLnQTrkiAeif0Iqjh/file# [following]\n",
            "--2021-12-11 23:11:04--  https://uc69eeeaf0986b5fba7eb91483e8.dl.dropboxusercontent.com/cd/0/inline/Bbp-klMOLni2rp2LiUXPVh7D8aUJ6uaHT876XgjM5NuZYUbQkzwfGu9XjBEgQTBXJx_33gLQlG7ijxm6Z7NqTUNVUZ6i6h8kvibpIgaO6tUpsW50LjenXFPzoCxGBhWvIfbRVC4TLnQTrkiAeif0Iqjh/file\n",
            "Resolving uc69eeeaf0986b5fba7eb91483e8.dl.dropboxusercontent.com (uc69eeeaf0986b5fba7eb91483e8.dl.dropboxusercontent.com)... 162.125.3.15, 2620:100:6018:15::a27d:30f\n",
            "Connecting to uc69eeeaf0986b5fba7eb91483e8.dl.dropboxusercontent.com (uc69eeeaf0986b5fba7eb91483e8.dl.dropboxusercontent.com)|162.125.3.15|:443... connected.\n",
            "HTTP request sent, awaiting response... 200 OK\n",
            "Length: 125438 (122K) [text/plain]\n",
            "Saving to: ‘images_df.csv’\n",
            "\n",
            "images_df.csv       100%[===================>] 122.50K  --.-KB/s    in 0.03s   \n",
            "\n",
            "2021-12-11 23:11:04 (4.34 MB/s) - ‘images_df.csv’ saved [125438/125438]\n",
            "\n"
          ]
        }
      ]
    },
    {
      "cell_type": "code",
      "metadata": {
        "colab": {
          "base_uri": "https://localhost:8080/",
          "height": 206
        },
        "id": "zQQ_xXdvSWPv",
        "outputId": "9a587ff0-be75-497b-dbf6-925cf97756b3"
      },
      "source": [
        "images_df=pd.read_csv(\"./images_df.csv\",header=None,names=[\"img\",\"label\"])\n",
        "images_df[\"label\"]=images_df[\"label\"].apply(lambda x : str(x))\n",
        "images_df.head()"
      ],
      "execution_count": 4,
      "outputs": [
        {
          "output_type": "execute_result",
          "data": {
            "text/html": [
              "<div>\n",
              "<style scoped>\n",
              "    .dataframe tbody tr th:only-of-type {\n",
              "        vertical-align: middle;\n",
              "    }\n",
              "\n",
              "    .dataframe tbody tr th {\n",
              "        vertical-align: top;\n",
              "    }\n",
              "\n",
              "    .dataframe thead th {\n",
              "        text-align: right;\n",
              "    }\n",
              "</style>\n",
              "<table border=\"1\" class=\"dataframe\">\n",
              "  <thead>\n",
              "    <tr style=\"text-align: right;\">\n",
              "      <th></th>\n",
              "      <th>img</th>\n",
              "      <th>label</th>\n",
              "    </tr>\n",
              "  </thead>\n",
              "  <tbody>\n",
              "    <tr>\n",
              "      <th>0</th>\n",
              "      <td>ae07_005.bmp</td>\n",
              "      <td>18</td>\n",
              "    </tr>\n",
              "    <tr>\n",
              "      <th>1</th>\n",
              "      <td>ae07_011.bmp</td>\n",
              "      <td>17</td>\n",
              "    </tr>\n",
              "    <tr>\n",
              "      <th>2</th>\n",
              "      <td>ae07_014.bmp</td>\n",
              "      <td>20</td>\n",
              "    </tr>\n",
              "    <tr>\n",
              "      <th>3</th>\n",
              "      <td>ae07_015.bmp</td>\n",
              "      <td>18</td>\n",
              "    </tr>\n",
              "    <tr>\n",
              "      <th>4</th>\n",
              "      <td>ae07_022.bmp</td>\n",
              "      <td>12</td>\n",
              "    </tr>\n",
              "  </tbody>\n",
              "</table>\n",
              "</div>"
            ],
            "text/plain": [
              "            img label\n",
              "0  ae07_005.bmp    18\n",
              "1  ae07_011.bmp    17\n",
              "2  ae07_014.bmp    20\n",
              "3  ae07_015.bmp    18\n",
              "4  ae07_022.bmp    12"
            ]
          },
          "metadata": {},
          "execution_count": 4
        }
      ]
    },
    {
      "cell_type": "code",
      "metadata": {
        "id": "B5AmEhiCaaTT"
      },
      "source": [
        "labels=images_df['label']\n",
        "labels=labels.to_numpy()"
      ],
      "execution_count": 5,
      "outputs": []
    },
    {
      "cell_type": "code",
      "metadata": {
        "colab": {
          "base_uri": "https://localhost:8080/",
          "height": 338
        },
        "id": "J48PNIZpaaTU",
        "outputId": "f4ee5166-bd1b-45a0-8251-2d4fbb0ffb05"
      },
      "source": [
        "plt.figure(figsize=(5,5))\n",
        "plt.xlim()\n",
        "plt.xlabel(\"labels\")\n",
        "plt.ylabel(\"num_words_in_labs\")\n",
        "plt.hist(labels,bins=22)\n",
        "plt.show()"
      ],
      "execution_count": 7,
      "outputs": [
        {
          "output_type": "display_data",
          "data": {
            "image/png": "[encoded data removed]",
            "text/plain": [
              "<Figure size 360x360 with 1 Axes>"
            ]
          },
          "metadata": {
            "needs_background": "light"
          }
        }
      ]
    },
    {
      "cell_type": "code",
      "metadata": {
        "id": "KXNsE23raaTV"
      },
      "source": [
        "img1=cv2.imread(\"./bdh/ae07_005.bmp\",cv2.IMREAD_GRAYSCALE)\n",
        "img2=cv2.imread(\"./bdh/ae07_031.bmp\",cv2.IMREAD_GRAYSCALE)\n",
        "img3=cv2.imread(\"./bdh/ae09_017.bmp\",cv2.IMREAD_GRAYSCALE)\n",
        "img4=cv2.imread(\"./bdh/ai64_020.bmp\",cv2.IMREAD_GRAYSCALE)"
      ],
      "execution_count": 11,
      "outputs": []
    },
    {
      "cell_type": "code",
      "metadata": {
        "id": "KIx-JyKpaaTV"
      },
      "source": [
        "imgresize1 = cv2.resize(img1, (760, 120)) \n",
        "imgresize2 = cv2.resize(img2, (760, 120)) \n",
        "imgresize3 = cv2.resize(img3, (760, 120)) \n",
        "imgresize4 = cv2.resize(img4, (760, 120)) "
      ],
      "execution_count": 12,
      "outputs": []
    },
    {
      "cell_type": "code",
      "metadata": {
        "colab": {
          "base_uri": "https://localhost:8080/",
          "height": 243
        },
        "id": "f-ICyXKbaaTW",
        "outputId": "e81255f1-16ca-4bc5-eb9a-8510c266a2e9"
      },
      "source": [
        "_, axarr = plt.subplots(2,2)\n",
        "axarr[0,0].imshow(img1)\n",
        "axarr[0,0].set_xlabel(\"ae07_005.bmp\")\n",
        "axarr[0,1].imshow(img2)\n",
        "axarr[0,1].set_xlabel(\"ae07_031.bmp\")\n",
        "axarr[1,0].imshow(img3)\n",
        "axarr[1,0].set_xlabel(\"ae09_017.bmp\")\n",
        "axarr[1,1].imshow(img4)\n",
        "axarr[1,1].set_xlabel(\"ai64_020.bmp\")"
      ],
      "execution_count": 13,
      "outputs": [
        {
          "output_type": "execute_result",
          "data": {
            "text/plain": [
              "Text(0.5, 0, 'ai64_020.bmp')"
            ]
          },
          "metadata": {},
          "execution_count": 13
        },
        {
          "output_type": "display_data",
          "data": {
            "image/png": "[encoded data removed]",
            "text/plain": [
              "<Figure size 432x288 with 4 Axes>"
            ]
          },
          "metadata": {
            "needs_background": "light"
          }
        }
      ]
    },
    {
      "cell_type": "code",
      "metadata": {
        "colab": {
          "base_uri": "https://localhost:8080/",
          "height": 226
        },
        "id": "Z_Dd9r-iaaTX",
        "outputId": "38d3b32f-348b-43c6-81aa-8d41c8592ae0"
      },
      "source": [
        "_, axarr = plt.subplots(2,2)\n",
        "axarr[0,0].imshow(imgresize1)\n",
        "axarr[0,0].set_xlabel(\"ae07_005.bmp\")\n",
        "axarr[0,1].imshow(imgresize2)\n",
        "axarr[0,1].set_xlabel(\"ae07_031.bmp\")\n",
        "axarr[1,0].imshow(imgresize3)\n",
        "axarr[1,0].set_xlabel(\"ae09_017.bmp\")\n",
        "axarr[1,1].imshow(imgresize4)\n",
        "axarr[1,1].set_xlabel(\"ai64_020.bmp\")"
      ],
      "execution_count": 14,
      "outputs": [
        {
          "output_type": "execute_result",
          "data": {
            "text/plain": [
              "Text(0.5, 0, 'ai64_020.bmp')"
            ]
          },
          "metadata": {},
          "execution_count": 14
        },
        {
          "output_type": "display_data",
          "data": {
            "image/png": "[encoded data removed]",
            "text/plain": [
              "<Figure size 432x288 with 4 Axes>"
            ]
          },
          "metadata": {
            "needs_background": "light"
          }
        }
      ]
    },
    {
      "cell_type": "code",
      "metadata": {
        "id": "JW5bEQO5aaTb"
      },
      "source": [
        "from sklearn.model_selection import train_test_split"
      ],
      "execution_count": 15,
      "outputs": []
    },
    {
      "cell_type": "code",
      "metadata": {
        "colab": {
          "base_uri": "https://localhost:8080/",
          "height": 224
        },
        "id": "7KgmfKvEaaTc",
        "outputId": "98d9b703-375a-47f3-a1e8-b27a21780696"
      },
      "source": [
        "all_x,all_y=images_df[\"img\"],images_df[\"label\"]\n",
        "\n",
        "xtrain,xtest,ytrain,ytest=train_test_split(all_x,all_y,train_size=0.8,random_state=1,shuffle=True)\n",
        "\n",
        "train_df=pd.DataFrame(xtrain,columns=[\"img\"])\n",
        "train_df[\"label\"]=ytrain\n",
        "\n",
        "print(\"train_data:\")\n",
        "train_df.head()"
      ],
      "execution_count": 16,
      "outputs": [
        {
          "output_type": "stream",
          "name": "stdout",
          "text": [
            "train_data:\n"
          ]
        },
        {
          "output_type": "execute_result",
          "data": {
            "text/html": [
              "<div>\n",
              "<style scoped>\n",
              "    .dataframe tbody tr th:only-of-type {\n",
              "        vertical-align: middle;\n",
              "    }\n",
              "\n",
              "    .dataframe tbody tr th {\n",
              "        vertical-align: top;\n",
              "    }\n",
              "\n",
              "    .dataframe thead th {\n",
              "        text-align: right;\n",
              "    }\n",
              "</style>\n",
              "<table border=\"1\" class=\"dataframe\">\n",
              "  <thead>\n",
              "    <tr style=\"text-align: right;\">\n",
              "      <th></th>\n",
              "      <th>img</th>\n",
              "      <th>label</th>\n",
              "    </tr>\n",
              "  </thead>\n",
              "  <tbody>\n",
              "    <tr>\n",
              "      <th>5764</th>\n",
              "      <td>de12_032.bmp</td>\n",
              "      <td>16</td>\n",
              "    </tr>\n",
              "    <tr>\n",
              "      <th>7223</th>\n",
              "      <td>dm34_024.bmp</td>\n",
              "      <td>16</td>\n",
              "    </tr>\n",
              "    <tr>\n",
              "      <th>5124</th>\n",
              "      <td>cj14_066.bmp</td>\n",
              "      <td>13</td>\n",
              "    </tr>\n",
              "    <tr>\n",
              "      <th>5621</th>\n",
              "      <td>cq65_006.bmp</td>\n",
              "      <td>8</td>\n",
              "    </tr>\n",
              "    <tr>\n",
              "      <th>2624</th>\n",
              "      <td>bi06_006.bmp</td>\n",
              "      <td>16</td>\n",
              "    </tr>\n",
              "  </tbody>\n",
              "</table>\n",
              "</div>"
            ],
            "text/plain": [
              "               img label\n",
              "5764  de12_032.bmp    16\n",
              "7223  dm34_024.bmp    16\n",
              "5124  cj14_066.bmp    13\n",
              "5621  cq65_006.bmp     8\n",
              "2624  bi06_006.bmp    16"
            ]
          },
          "metadata": {},
          "execution_count": 16
        }
      ]
    },
    {
      "cell_type": "code",
      "metadata": {
        "colab": {
          "base_uri": "https://localhost:8080/",
          "height": 224
        },
        "id": "HzcTTXqGaaTc",
        "outputId": "45a66229-8c60-448d-be3e-914298200eaf"
      },
      "source": [
        "test_df=pd.DataFrame(xtest,columns=[\"img\"])\n",
        "test_df[\"label\"]=ytest\n",
        "\n",
        "print(\"test_data:\")\n",
        "test_df.head()"
      ],
      "execution_count": 17,
      "outputs": [
        {
          "output_type": "stream",
          "name": "stdout",
          "text": [
            "test_data:\n"
          ]
        },
        {
          "output_type": "execute_result",
          "data": {
            "text/html": [
              "<div>\n",
              "<style scoped>\n",
              "    .dataframe tbody tr th:only-of-type {\n",
              "        vertical-align: middle;\n",
              "    }\n",
              "\n",
              "    .dataframe tbody tr th {\n",
              "        vertical-align: top;\n",
              "    }\n",
              "\n",
              "    .dataframe thead th {\n",
              "        text-align: right;\n",
              "    }\n",
              "</style>\n",
              "<table border=\"1\" class=\"dataframe\">\n",
              "  <thead>\n",
              "    <tr style=\"text-align: right;\">\n",
              "      <th></th>\n",
              "      <th>img</th>\n",
              "      <th>label</th>\n",
              "    </tr>\n",
              "  </thead>\n",
              "  <tbody>\n",
              "    <tr>\n",
              "      <th>3069</th>\n",
              "      <td>bj01_033.bmp</td>\n",
              "      <td>3</td>\n",
              "    </tr>\n",
              "    <tr>\n",
              "      <th>642</th>\n",
              "      <td>af62_017.bmp</td>\n",
              "      <td>22</td>\n",
              "    </tr>\n",
              "    <tr>\n",
              "      <th>7266</th>\n",
              "      <td>dq06_018.bmp</td>\n",
              "      <td>8</td>\n",
              "    </tr>\n",
              "    <tr>\n",
              "      <th>5765</th>\n",
              "      <td>de12_034.bmp</td>\n",
              "      <td>16</td>\n",
              "    </tr>\n",
              "    <tr>\n",
              "      <th>2229</th>\n",
              "      <td>be92_023.bmp</td>\n",
              "      <td>13</td>\n",
              "    </tr>\n",
              "  </tbody>\n",
              "</table>\n",
              "</div>"
            ],
            "text/plain": [
              "               img label\n",
              "3069  bj01_033.bmp     3\n",
              "642   af62_017.bmp    22\n",
              "7266  dq06_018.bmp     8\n",
              "5765  de12_034.bmp    16\n",
              "2229  be92_023.bmp    13"
            ]
          },
          "metadata": {},
          "execution_count": 17
        }
      ]
    },
    {
      "cell_type": "code",
      "metadata": {
        "id": "zhoeMwk5aaTd"
      },
      "source": [
        "from tensorflow.keras.preprocessing.image import ImageDataGenerator"
      ],
      "execution_count": 18,
      "outputs": []
    },
    {
      "cell_type": "code",
      "metadata": {
        "id": "zIhTyw6HaaTd"
      },
      "source": [
        "train_image_gen=ImageDataGenerator(rescale=1.0/255)\n",
        "test_image_gen=ImageDataGenerator(rescale=1.0/255)"
      ],
      "execution_count": 19,
      "outputs": []
    },
    {
      "cell_type": "code",
      "metadata": {
        "colab": {
          "base_uri": "https://localhost:8080/"
        },
        "id": "ajLdcxGgaaTe",
        "outputId": "2166e15e-c1cf-47d9-d3f7-8d0ef257e553"
      },
      "source": [
        "train_image_gen=train_image_gen.flow_from_dataframe(train_df,x_col=\"img\",y_col=\"label\",\n",
        "                                            directory=\"./bdh\",\n",
        "                                            batch_size=32,\n",
        "                                            target_size=(imgresize1.shape[0],imgresize1.shape[1]),\n",
        "                                            color_mode='grayscale',\n",
        "                                            class_mode='categorical')"
      ],
      "execution_count": 20,
      "outputs": [
        {
          "output_type": "stream",
          "name": "stdout",
          "text": [
            "Found 6048 validated image filenames belonging to 22 classes.\n"
          ]
        }
      ]
    },
    {
      "cell_type": "code",
      "metadata": {
        "colab": {
          "base_uri": "https://localhost:8080/"
        },
        "id": "9l75gGK2aaTf",
        "outputId": "b74bfc19-de0e-4539-8647-b7baae619bf4"
      },
      "source": [
        "test_image_gen=test_image_gen.flow_from_dataframe(test_df,x_col=\"img\",y_col=\"label\",\n",
        "                                            directory=\"./bdh\",\n",
        "                                            batch_size=32,\n",
        "                                            target_size=(imgresize1.shape[0],imgresize1.shape[1]),\n",
        "                                            color_mode='grayscale',\n",
        "                                            class_mode='categorical')"
      ],
      "execution_count": 21,
      "outputs": [
        {
          "output_type": "stream",
          "name": "stdout",
          "text": [
            "Found 1512 validated image filenames belonging to 22 classes.\n"
          ]
        }
      ]
    },
    {
      "cell_type": "code",
      "metadata": {
        "id": "NCfVKSaUaaTf"
      },
      "source": [
        "import tensorflow as tf"
      ],
      "execution_count": 22,
      "outputs": []
    },
    {
      "cell_type": "code",
      "metadata": {
        "id": "M4CuMufWaaTg"
      },
      "source": [
        "model = tf.keras.models.Sequential([\n",
        "    # Note the input shape is the desired size of the image 760x120 with 1 bytes color\n",
        "    # This is the first convolution\n",
        "    tf.keras.layers.Conv2D(32, (3,3), activation='relu', input_shape=(760, 120, 1)),\n",
        "    tf.keras.layers.MaxPooling2D(2, 2),\n",
        "    # The third convolution\n",
        "    tf.keras.layers.Conv2D(64, (3,3), activation='relu'),\n",
        "    tf.keras.layers.MaxPooling2D(2,2),\n",
        "    # The fourth convolution\n",
        "    tf.keras.layers.Conv2D(64, (3,3), activation='relu'),\n",
        "    tf.keras.layers.MaxPooling2D(2,2),\n",
        "    # The fifth convolution\n",
        "    tf.keras.layers.Conv2D(32, (3,3), activation='relu'),\n",
        "    tf.keras.layers.MaxPooling2D(2,2),\n",
        "    # Flatten the results to feed into a DNN\n",
        "    tf.keras.layers.Reshape((1,-1)),\n",
        "    # Bidirectional layer of 32 neurons with LSTM\n",
        "    tf.keras.layers.Bidirectional(tf.keras.layers.LSTM(32,return_sequences=True)),\n",
        "    tf.keras.layers.Bidirectional(tf.keras.layers.LSTM(32)),\n",
        "    # Only 22 output neuron.\n",
        "    tf.keras.layers.Dense(128,activation='relu'),\n",
        "    tf.keras.layers.Dense(22, activation='softmax')\n",
        "])"
      ],
      "execution_count": 23,
      "outputs": []
    },
    {
      "cell_type": "code",
      "metadata": {
        "id": "5DEMFMntaaTg"
      },
      "source": [
        "loss=tf.keras.losses.categorical_crossentropy\n",
        "optim=tf.keras.optimizers.Adam()\n",
        "myCallBack=tf.keras.callbacks.EarlyStopping(monitor=\"val_accuracy\",patience=4)"
      ],
      "execution_count": 24,
      "outputs": []
    },
    {
      "cell_type": "code",
      "metadata": {
        "id": "i_QUKf64aaTh"
      },
      "source": [
        "model.compile(optimizer=optim, loss=loss, metrics=['accuracy'])"
      ],
      "execution_count": 25,
      "outputs": []
    },
    {
      "cell_type": "code",
      "metadata": {
        "colab": {
          "base_uri": "https://localhost:8080/"
        },
        "id": "xaBMgB-BCiGE",
        "outputId": "3d5bfd3b-2c9e-48fb-e716-ee30247eb4a8"
      },
      "source": [
        "_=tf.keras.utils.plot_model(\n",
        "    model, to_file='./simpleCNN_RNN1.png', show_shapes=True, show_layer_names=False,\n",
        ")\n",
        "model.summary()"
      ],
      "execution_count": 26,
      "outputs": [
        {
          "output_type": "stream",
          "name": "stdout",
          "text": [
            "Model: \"sequential\"\n",
            "_________________________________________________________________\n",
            " Layer (type)                Output Shape              Param #   \n",
            "=================================================================\n",
            " conv2d (Conv2D)             (None, 758, 118, 32)      320       \n",
            "                                                                 \n",
            " max_pooling2d (MaxPooling2D  (None, 379, 59, 32)      0         \n",
            " )                                                               \n",
            "                                                                 \n",
            " conv2d_1 (Conv2D)           (None, 377, 57, 64)       18496     \n",
            "                                                                 \n",
            " max_pooling2d_1 (MaxPooling  (None, 188, 28, 64)      0         \n",
            " 2D)                                                             \n",
            "                                                                 \n",
            " conv2d_2 (Conv2D)           (None, 186, 26, 64)       36928     \n",
            "                                                                 \n",
            " max_pooling2d_2 (MaxPooling  (None, 93, 13, 64)       0         \n",
            " 2D)                                                             \n",
            "                                                                 \n",
            " conv2d_3 (Conv2D)           (None, 91, 11, 32)        18464     \n",
            "                                                                 \n",
            " max_pooling2d_3 (MaxPooling  (None, 45, 5, 32)        0         \n",
            " 2D)                                                             \n",
            "                                                                 \n",
            " reshape (Reshape)           (None, 1, 7200)           0         \n",
            "                                                                 \n",
            " bidirectional (Bidirectiona  (None, 1, 64)            1851648   \n",
            " l)                                                              \n",
            "                                                                 \n",
            " bidirectional_1 (Bidirectio  (None, 64)               24832     \n",
            " nal)                                                            \n",
            "                                                                 \n",
            " dense (Dense)               (None, 128)               8320      \n",
            "                                                                 \n",
            " dense_1 (Dense)             (None, 22)                2838      \n",
            "                                                                 \n",
            "=================================================================\n",
            "Total params: 1,961,846\n",
            "Trainable params: 1,961,846\n",
            "Non-trainable params: 0\n",
            "_________________________________________________________________\n"
          ]
        }
      ]
    },
    {
      "cell_type": "code",
      "metadata": {
        "colab": {
          "base_uri": "https://localhost:8080/"
        },
        "id": "zuRqSD63aaTh",
        "outputId": "8dd09ccf-4f3b-44f0-9101-33963735e07f"
      },
      "source": [
        "history=model.fit(train_image_gen,epochs=100,steps_per_epoch=189,validation_data=test_image_gen,callbacks=[myCallBack])"
      ],
      "execution_count": null,
      "outputs": [
        {
          "output_type": "stream",
          "name": "stdout",
          "text": [
            "Epoch 1/100\n",
            "189/189 [==============================] - 63s 233ms/step - loss: 1.4648 - accuracy: 0.6179 - val_loss: 0.4060 - val_accuracy: 0.8525\n",
            "Epoch 2/100\n",
            "189/189 [==============================] - 42s 220ms/step - loss: 0.2433 - accuracy: 0.9249 - val_loss: 0.2112 - val_accuracy: 0.9332\n",
            "Epoch 3/100\n",
            "189/189 [==============================] - 42s 220ms/step - loss: 0.0859 - accuracy: 0.9770 - val_loss: 0.1465 - val_accuracy: 0.9563\n",
            "Epoch 4/100\n",
            "189/189 [==============================] - 42s 221ms/step - loss: 0.0260 - accuracy: 0.9955 - val_loss: 0.1380 - val_accuracy: 0.9623\n",
            "Epoch 5/100\n",
            "189/189 [==============================] - 42s 221ms/step - loss: 0.0145 - accuracy: 0.9962 - val_loss: 0.1270 - val_accuracy: 0.9643\n",
            "Epoch 6/100\n",
            "189/189 [==============================] - 42s 220ms/step - loss: 0.0045 - accuracy: 0.9997 - val_loss: 0.1041 - val_accuracy: 0.9735\n",
            "Epoch 7/100\n",
            "189/189 [==============================] - 42s 220ms/step - loss: 0.0017 - accuracy: 0.9998 - val_loss: 0.1046 - val_accuracy: 0.9722\n",
            "Epoch 8/100\n",
            "189/189 [==============================] - 42s 221ms/step - loss: 0.0011 - accuracy: 1.0000 - val_loss: 0.1049 - val_accuracy: 0.9716\n",
            "Epoch 9/100\n",
            "189/189 [==============================] - 42s 222ms/step - loss: 7.9524e-04 - accuracy: 1.0000 - val_loss: 0.1050 - val_accuracy: 0.9716\n",
            "Epoch 10/100\n",
            "  6/189 [..............................] - ETA: 37s - loss: 5.3763e-04 - accuracy: 1.0000"
          ]
        }
      ]
    },
    {
      "cell_type": "code",
      "metadata": {
        "id": "wSvl_wlCgGm1"
      },
      "source": [
        "#-----------------------------------------------------------------------\n",
        "# Retrieve a list of list results on training and test data of 1st model\n",
        "# sets for each training epoch\n",
        "#-----------------------------------------------------------------------\n",
        "acc_hist=history.history['accuracy']\n",
        "val_acc_hist=history.history['val_accuracy']\n",
        "loss_hist=history.history['loss']\n",
        "val_loss_hist=history.history['val_loss']\n",
        "\n",
        "epochs=range(len(acc_hist)) # Get number of epochs"
      ],
      "execution_count": 28,
      "outputs": []
    },
    {
      "cell_type": "code",
      "metadata": {
        "id": "_HIMsw_-N1l7"
      },
      "source": [
        "model2 = tf.keras.models.Sequential([\n",
        "    # Note the input shape is the desired size of the image 760x300 with 1 bytes color\n",
        "    # This is the first convolution\n",
        "    tf.keras.layers.Conv2D(64, (3,3), activation='relu', input_shape=(760, 120, 1)),\n",
        "    tf.keras.layers.MaxPooling2D(2, 2),\n",
        "    # The third convolution\n",
        "    tf.keras.layers.Conv2D(128, (3,3), activation='relu'),\n",
        "    tf.keras.layers.MaxPooling2D(2,2),\n",
        "    # The fourth convolution\n",
        "    tf.keras.layers.Conv2D(128, (3,3), activation='relu'),\n",
        "    tf.keras.layers.MaxPooling2D(2,2),\n",
        "    # The fifth convolution\n",
        "    tf.keras.layers.Conv2D(64, (3,3), activation='relu'),\n",
        "    tf.keras.layers.MaxPooling2D(2,2),\n",
        "    # Flatten the results to feed into a DNN\n",
        "    tf.keras.layers.Reshape((1,-1)),\n",
        "    # Bidirectional layer of 64 neurons with LSTM\n",
        "    tf.keras.layers.Bidirectional(tf.keras.layers.LSTM(64,return_sequences=True)),\n",
        "    tf.keras.layers.Bidirectional(tf.keras.layers.LSTM(64)),\n",
        "    # Only 22 output neuron.\n",
        "    tf.keras.layers.Dense(256,activation='relu'),\n",
        "    tf.keras.layers.Dense(22, activation='softmax')\n",
        "])"
      ],
      "execution_count": 29,
      "outputs": []
    },
    {
      "cell_type": "code",
      "metadata": {
        "id": "gaKZ2_6Ov9rQ"
      },
      "source": [
        "loss=tf.keras.losses.categorical_crossentropy\n",
        "optim=tf.keras.optimizers.Adam()\n",
        "myCallBack=tf.keras.callbacks.EarlyStopping(monitor=\"val_accuracy\",patience=4)\n",
        "\n",
        "model2.compile(optimizer=optim, loss=loss, metrics=['accuracy'])"
      ],
      "execution_count": 30,
      "outputs": []
    },
    {
      "cell_type": "code",
      "metadata": {
        "colab": {
          "base_uri": "https://localhost:8080/"
        },
        "id": "bZ4AneeWwERi",
        "outputId": "bd0eb81f-0e4b-47af-d52f-03f1b54d7cbc"
      },
      "source": [
        "history2=model2.fit(train_image_gen,epochs=100,steps_per_epoch=189,validation_data=test_image_gen,callbacks=[myCallBack])"
      ],
      "execution_count": 31,
      "outputs": [
        {
          "output_type": "stream",
          "name": "stdout",
          "text": [
            "Epoch 1/100\n",
            "189/189 [==============================] - 101s 469ms/step - loss: 1.2612 - accuracy: 0.6420 - val_loss: 0.3513 - val_accuracy: 0.8856\n",
            "Epoch 2/100\n",
            "189/189 [==============================] - 86s 453ms/step - loss: 0.2144 - accuracy: 0.9306 - val_loss: 0.2053 - val_accuracy: 0.9286\n",
            "Epoch 3/100\n",
            "189/189 [==============================] - 86s 453ms/step - loss: 0.0619 - accuracy: 0.9840 - val_loss: 0.1620 - val_accuracy: 0.9511\n",
            "Epoch 4/100\n",
            "189/189 [==============================] - 85s 452ms/step - loss: 0.0199 - accuracy: 0.9959 - val_loss: 0.1712 - val_accuracy: 0.9517\n",
            "Epoch 5/100\n",
            "189/189 [==============================] - 86s 454ms/step - loss: 0.0062 - accuracy: 0.9990 - val_loss: 0.1671 - val_accuracy: 0.9530\n",
            "Epoch 6/100\n",
            "189/189 [==============================] - 86s 453ms/step - loss: 0.0015 - accuracy: 1.0000 - val_loss: 0.1147 - val_accuracy: 0.9683\n",
            "Epoch 7/100\n",
            "189/189 [==============================] - 86s 454ms/step - loss: 7.7973e-04 - accuracy: 1.0000 - val_loss: 0.1132 - val_accuracy: 0.9702\n",
            "Epoch 8/100\n",
            "189/189 [==============================] - 86s 454ms/step - loss: 4.0408e-04 - accuracy: 1.0000 - val_loss: 0.1139 - val_accuracy: 0.9696\n",
            "Epoch 9/100\n",
            "189/189 [==============================] - 86s 454ms/step - loss: 2.8427e-04 - accuracy: 1.0000 - val_loss: 0.1135 - val_accuracy: 0.9709\n",
            "Epoch 10/100\n",
            "189/189 [==============================] - 86s 454ms/step - loss: 1.6912e-04 - accuracy: 1.0000 - val_loss: 0.1135 - val_accuracy: 0.9716\n",
            "Epoch 11/100\n",
            "189/189 [==============================] - 86s 453ms/step - loss: 1.0865e-04 - accuracy: 1.0000 - val_loss: 0.1166 - val_accuracy: 0.9702\n",
            "Epoch 12/100\n",
            "189/189 [==============================] - 86s 453ms/step - loss: 8.1015e-05 - accuracy: 1.0000 - val_loss: 0.1135 - val_accuracy: 0.9702\n",
            "Epoch 13/100\n",
            "189/189 [==============================] - 86s 454ms/step - loss: 6.0600e-05 - accuracy: 1.0000 - val_loss: 0.1127 - val_accuracy: 0.9709\n",
            "Epoch 14/100\n",
            "189/189 [==============================] - 86s 454ms/step - loss: 4.8927e-05 - accuracy: 1.0000 - val_loss: 0.1134 - val_accuracy: 0.9696\n"
          ]
        }
      ]
    },
    {
      "cell_type": "code",
      "metadata": {
        "id": "ztpVDUYNwFph"
      },
      "source": [
        "#-----------------------------------------------------------------------\n",
        "# Retrieve a list of list results on training and test data of 2nd model\n",
        "# sets for each training epoch\n",
        "#-----------------------------------------------------------------------\n",
        "acc2_hist=history2.history['accuracy']\n",
        "val_acc2_hist=history2.history['val_accuracy']\n",
        "loss2_hist=history2.history['loss']\n",
        "val_loss2_hist=history2.history['val_loss']\n",
        "\n",
        "epochs2=range(len(acc2_hist)) # Get number of epochs"
      ],
      "execution_count": 32,
      "outputs": []
    },
    {
      "cell_type": "code",
      "metadata": {
        "colab": {
          "base_uri": "https://localhost:8080/",
          "height": 372
        },
        "id": "mzKlFCpqwHXb",
        "outputId": "7fd0a13f-67bc-4b2c-92e3-0e7e7079f4a3"
      },
      "source": [
        "#----------------------------------------------------------------\n",
        "# Plot training and validation accuracy per epoch for both models\n",
        "#----------------------------------------------------------------\n",
        "fig, (axs1, axs2) = plt.subplots(1, 2,figsize=(12,5),sharey=True)\n",
        "fig.suptitle('Training and validation accuracy')\n",
        "\n",
        "axs1.set_title('Model 1')\n",
        "axs1.set(xlabel=\"Epochs\",ylabel=\"Accuracy\")\n",
        "axs1.plot(epochs, acc_hist,'b',label=\"acc\")\n",
        "axs1.plot(epochs, val_acc_hist,'r',label=\"val_acc\")\n",
        "\n",
        "axs2.set_title('Model 2')\n",
        "axs2.set(xlabel=\"Epochs\",ylabel=\"Accuracy\")\n",
        "axs2.plot(epochs2, acc2_hist,'b')\n",
        "axs2.plot(epochs2, val_acc2_hist,'r')\n",
        "\n",
        "fig.legend(loc=\"upper right\")\n",
        "plt.show()"
      ],
      "execution_count": 33,
      "outputs": [
        {
          "output_type": "display_data",
          "data": {
            "image/png": "[encoded data removed]",
            "text/plain": [
              "<Figure size 864x360 with 2 Axes>"
            ]
          },
          "metadata": {
            "needs_background": "light"
          }
        }
      ]
    },
    {
      "cell_type": "code",
      "metadata": {
        "colab": {
          "base_uri": "https://localhost:8080/",
          "height": 372
        },
        "id": "FG8AnsbAwJc_",
        "outputId": "3ba03fa1-5cb6-4bd5-920b-8eccfabd26c1"
      },
      "source": [
        "#----------------------------------------------------------------\n",
        "# Plot training and validation accuracy per epoch for both models\n",
        "#----------------------------------------------------------------\n",
        "fig, (axs1, axs2) = plt.subplots(1, 2,figsize=(12,5),sharey=True)\n",
        "fig.suptitle('Training and validation loss')\n",
        "\n",
        "axs1.set_title('Model 1')\n",
        "axs1.set(xlabel=\"Epochs\",ylabel=\"Loss\")\n",
        "axs1.plot(epochs, loss_hist,'b',label=\"loss\")\n",
        "axs1.plot(epochs, val_loss_hist,'r',label=\"val_loss\")\n",
        "\n",
        "axs2.set_title('Model 2')\n",
        "axs2.set(xlabel=\"Epochs\",ylabel=\"Loss\")\n",
        "axs2.plot(epochs2, loss2_hist,'b')\n",
        "axs2.plot(epochs2, val_loss2_hist,'r')\n",
        "\n",
        "fig.legend(loc=\"upper right\")\n",
        "plt.show()"
      ],
      "execution_count": 34,
      "outputs": [
        {
          "output_type": "display_data",
          "data": {
            "image/png": "[encoded data removed]",
            "text/plain": [
              "<Figure size 864x360 with 2 Axes>"
            ]
          },
          "metadata": {
            "needs_background": "light"
          }
        }
      ]
    }
  ]
}